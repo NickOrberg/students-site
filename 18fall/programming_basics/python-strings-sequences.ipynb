{
 "cells": [
  {
   "cell_type": "markdown",
   "metadata": {},
   "source": [
    "# Основные операции со строками\n",
    "Строки имеют \"методы\". После выражения, являющегося строкой, можно поставить точку и вызвать \"метод\", у метода указывается название и обязательно ставятся скобки. В скобках иногда нужно указывать дополнительные аргументы."
   ]
  },
  {
   "cell_type": "code",
   "execution_count": 10,
   "metadata": {},
   "outputs": [
    {
     "name": "stdout",
     "output_type": "stream",
     "text": [
      "Abcxyz\n",
      "---xyz---\n",
      "3\n",
      "True\n",
      "True\n",
      "4\n"
     ]
    }
   ],
   "source": [
    "print(\"abcXYZ\".capitalize())\n",
    "print(\"xyz\".center(9, \"-\")) # поставить по центру\n",
    "                            # можно не указывать символы\n",
    "print(\"banana\".count(\"a\"))  # посчитать, сколько раз встретилось\n",
    "print(\"Hello, World!\".startswith(\"Hell\"))\n",
    "print(\"Hello, World!\".endswith(\"orld!\")) # логический результат\n",
    "print(\"Hello, World!\".find(\"o\")) # индекс первого вхождения, с 0"
   ]
  },
  {
   "cell_type": "markdown",
   "metadata": {},
   "source": [
    "Форматирование строки можно делать с помощью функции format, она аналогична тому, как мы делали форматирование с помощью f-строчек.\n",
    "`f\"Hello, {name}!\"`. В принципе, f-строчек часто достаточно, про format нужно знать, потому что его часто используют другие. Для строчек есть еще оператор `%`. Он тоже используется для форматирования, но он устарел, просьба избегать его."
   ]
  },
  {
   "cell_type": "code",
   "execution_count": 18,
   "metadata": {},
   "outputs": [
    {
     "name": "stdout",
     "output_type": "stream",
     "text": [
      "Hello, Ilya Posov!\n",
      "Hello, Ilya Posov! Ilya\n",
      "Hello, Ilya Posov!\n",
      "Hello, Ilya Posov!\n"
     ]
    }
   ],
   "source": [
    "print(\"Hello, {} {}!\".format(\"Ilya\", \"Posov\"))\n",
    "# обычно достаточно пустых фигурных скобок, но если аргумент нужно\n",
    "# использовать несколько раз, в скобках можно написать номер\n",
    "# аргумента\n",
    "print(\"Hello, {0} {1}! {0}\".format(\"Ilya\", \"Posov\"))\n",
    "print(\"Hello, %s %s!\" % (\"Ilya\", \"Posov\"))\n",
    "# наш способ\n",
    "name = \"Ilya\"\n",
    "surname = \"Posov\"\n",
    "print(f\"Hello, {name} {surname}!\")"
   ]
  },
  {
   "cell_type": "markdown",
   "metadata": {},
   "source": [
    "Еще примеры методов:\n",
    "* `isalpha` - верно ли, что все символы это буквы?\n",
    "* `isdigit` - верно ли, что все символы это цифры?\n",
    "* `islower`, `isupper`, `istitle` - всё нижний рег., всё верхний рег., первая буква заглавная, последние строчные.\n",
    "* `lower`, `upper`, `title` - сделать всё нижним или верхним регистром, сделать каждое слово с заглавной."
   ]
  },
  {
   "cell_type": "markdown",
   "metadata": {},
   "source": [
    "Методы для удаления или добавления пробелов в конце и начале строки:"
   ]
  },
  {
   "cell_type": "code",
   "execution_count": 24,
   "metadata": {},
   "outputs": [
    {
     "name": "stdout",
     "output_type": "stream",
     "text": [
      "ABC-------\n",
      "-------ABC\n",
      "---ABC\n",
      "ABC---\n",
      "ABC\n"
     ]
    }
   ],
   "source": [
    "print(\"ABC\".ljust(10, '-')) # можно не указывать заполнитель\n",
    "print(\"ABC\".rjust(10, '-'))\n",
    "print(\"---ABC---\".rstrip(\"-\")) # если не указывать символ,\n",
    "print(\"---ABC---\".lstrip(\"-\")) # то удаляются пробельные символы\n",
    "print(\"---ABC---\".strip(\"-\"))"
   ]
  },
  {
   "cell_type": "markdown",
   "metadata": {},
   "source": [
    "Методы для соединения и разделения строк:"
   ]
  },
  {
   "cell_type": "code",
   "execution_count": 28,
   "metadata": {},
   "outputs": [
    {
     "name": "stdout",
     "output_type": "stream",
     "text": [
      "['несколько', 'слов', 'по-русски']\n",
      "['abc', 'xyz', 'pqrst']\n",
      "['abc', ' xyz', ' pqrst']\n"
     ]
    }
   ],
   "source": [
    "# получить список элементов, которые разделялись указанной строкой\n",
    "print(\"несколько слов по-русски\".split(' '))\n",
    "print(\"abc, xyz, pqrst\".split(', '))\n",
    "print(\"abc, xyz, pqrst\".split(','))"
   ]
  },
  {
   "cell_type": "markdown",
   "metadata": {},
   "source": [
    "Есть еще метод `splitlines`, который разделяет по переводам строк. Т.е. если дана строка из нескольких строк, вернется список строк, которые были в строке."
   ]
  },
  {
   "cell_type": "code",
   "execution_count": 33,
   "metadata": {},
   "outputs": [
    {
     "name": "stdout",
     "output_type": "stream",
     "text": [
      "a+aa+bc\n",
      "a--b--c\n"
     ]
    }
   ],
   "source": [
    "# объединение списков или других типов-последовательностей в строку\n",
    "print(\"+\".join([\"a\", \"aa\", \"bc\"]))\n",
    "print(\"--\".join(\"a++b++c\".split(\"++\")))"
   ]
  },
  {
   "cell_type": "markdown",
   "metadata": {},
   "source": [
    "https://docs.python.org/3/library/stdtypes.html#string-methods"
   ]
  },
  {
   "cell_type": "markdown",
   "metadata": {},
   "source": [
    "А теперь примеры, как можно комбинировать методы друг с другом:"
   ]
  },
  {
   "cell_type": "code",
   "execution_count": 37,
   "metadata": {},
   "outputs": [
    {
     "name": "stdout",
     "output_type": "stream",
     "text": [
      "ABC**\n",
      "['ABC', 'XYZ']\n",
      "11\n",
      "False\n"
     ]
    }
   ],
   "source": [
    "s = \"abc\"\n",
    "print((s + \"**\").upper()) # не обязательно примянять к литералу\n",
    "print(\"abc xyz\".upper().split())\n",
    "print(\"ABC\".find(\"BC\") + 10)\n",
    "t = \"Abc\"\n",
    "print(t.isupper() or t.islower())"
   ]
  },
  {
   "cell_type": "markdown",
   "metadata": {},
   "source": [
    "# Типы-последовательности (sequence types)\n",
    "* str - известные нам строки\n",
    "* list - списки\n",
    "* tuple - тьюплы\n",
    "* range - числовые интервалы\n",
    "* много других, их можно даже создавать самостоятельно"
   ]
  },
  {
   "cell_type": "markdown",
   "metadata": {},
   "source": [
    "# Списки (list)\n",
    "Последовательность произвольных значений. Значения могут быть разных типов, и эту последовательность можно изменять."
   ]
  },
  {
   "cell_type": "code",
   "execution_count": 39,
   "metadata": {},
   "outputs": [],
   "source": [
    "a = [1, 2, 3, 4]\n",
    "b = [\"abc\", \"xyz\"]\n",
    "empty = []\n",
    "l = [1, \"text\", True, 42, [1, 2, 3]] # типы м.б. разные"
   ]
  },
  {
   "cell_type": "markdown",
   "metadata": {},
   "source": [
    "Значения списка перечисляются через запятую в квадратных скобках."
   ]
  },
  {
   "cell_type": "markdown",
   "metadata": {},
   "source": [
    "## Тьюплы (tuples)\n",
    "Тьюплы, как и списки, содержат последовательность значений. Но, в отличие от списков, тьюплы неизменяемые: у них фиксированная длина, в них нельзя добавить элемент и т.п.\n",
    "\n",
    "Создаются тьюплы оператором \"запятая\". Т.е. надо поставить запятую, а скобки - не обязательно. Можно ставить универсальные круглые скобки, чтобы показать, какие значения попадают в тьюпл."
   ]
  },
  {
   "cell_type": "code",
   "execution_count": 47,
   "metadata": {},
   "outputs": [
    {
     "name": "stdout",
     "output_type": "stream",
     "text": [
      "('abc', 10, True)\n",
      "(10,)\n"
     ]
    }
   ],
   "source": [
    "a = 1, 2\n",
    "b = \"abc\", 10, True\n",
    "print(b)\n",
    "c = 10, # тьюпл из одного элемента, ставим в конце запятую\n",
    "print(c)\n",
    "# c + 1 -- ошибка"
   ]
  },
  {
   "cell_type": "markdown",
   "metadata": {},
   "source": [
    "## Тип диапазон, range"
   ]
  },
  {
   "cell_type": "code",
   "execution_count": 50,
   "metadata": {},
   "outputs": [],
   "source": [
    "r1 = range(10) # числа от 0 до 9 (10 не включается)\n",
    "r2 = range(1, 10) # числа от 1 до 9\n",
    "r3 = range(1, 10, 2) # от 1 до 10 с шагом 2. Т.е. это нечетные"
   ]
  },
  {
   "cell_type": "markdown",
   "metadata": {},
   "source": [
    "Чаще всего этот тип используется в циклах для перебора чисел."
   ]
  },
  {
   "cell_type": "markdown",
   "metadata": {},
   "source": [
    "## Операции с типами-последовательностями"
   ]
  },
  {
   "cell_type": "code",
   "execution_count": 59,
   "metadata": {},
   "outputs": [
    {
     "name": "stdout",
     "output_type": "stream",
     "text": [
      "True\n",
      "True\n",
      "True\n",
      "True\n",
      "True\n",
      "[10, 20, 30, 40, 50, 60]\n",
      "(10, 20, 30, 40, 50, 60)\n",
      "abcxyz\n",
      "[10, 20, 30, 10, 20, 30, 10, 20, 30]\n",
      "[10, 20, 30, 10, 20, 30, 10, 20, 30]\n",
      "abcabcabc\n"
     ]
    }
   ],
   "source": [
    "print(10 in [10, 20, 30]) # Оператор in - проверка вхождения\n",
    "print(10 in (10, 20, 30)) # аналогично для tuple\n",
    "print(\"b\" in \"abc\") # для строк\n",
    "print(\"bc\" in \"abcd\") # для строк умеет проверять не только один\n",
    "                      # элемент, а вхождение подстроки\n",
    "\n",
    "print(11 not in [10, 20, 30]) # оператор not in, проверка, что не\n",
    "\n",
    "# Оператор +\n",
    "print([10, 20, 30] + [40, 50, 60])\n",
    "print((10, 20, 30) + (40, 50, 60))\n",
    "print(\"abc\" + \"xyz\")\n",
    "\n",
    "# Умножение на число\n",
    "print([10, 20, 30] * 3)\n",
    "print(3 * [10, 20, 30])\n",
    "print(3 * \"abc\")"
   ]
  },
  {
   "cell_type": "markdown",
   "metadata": {},
   "source": [
    "#### Индексирование"
   ]
  },
  {
   "cell_type": "code",
   "execution_count": 62,
   "metadata": {},
   "outputs": [
    {
     "name": "stdout",
     "output_type": "stream",
     "text": [
      "10\n",
      "20\n",
      "p\n",
      "y\n",
      "40\n",
      "30\n"
     ]
    }
   ],
   "source": [
    "l = [10, 20, 30, 40]\n",
    "s = \"python language\"\n",
    "print(l[0]) # обращаемся по индексу, индексы с 0\n",
    "print(l[1])\n",
    "print(s[0])\n",
    "print(s[1])\n",
    "print(l[-1]) # последний элемент\n",
    "print(l[-2]) # предпоследний элемент"
   ]
  },
  {
   "cell_type": "code",
   "execution_count": 75,
   "metadata": {},
   "outputs": [
    {
     "name": "stdout",
     "output_type": "stream",
     "text": [
      "[30, 40]\n",
      "hon langu\n",
      "hon languag\n",
      "guage\n",
      "python lan\n",
      "python language\n",
      "yhnln\n",
      "pto agae\n",
      "egaugnal nohtyp\n",
      "[40, 30, 20, 10]\n"
     ]
    }
   ],
   "source": [
    "print(l[2:4]) # со второго по четвертый элемент, не включительно\n",
    "print(s[3:12]) # c 3 по 11\n",
    "print(s[3:-1]) # по последний не влкючительно\n",
    "print(s[10:]) # не указываем конец, значит, до конца\n",
    "print(s[:10]) # с начала\n",
    "print(s[:]) # можно с начала до конца\n",
    "print(s[1:10:2]) # с первого по десятый с шагом 2\n",
    "print(s[::2]) # с первого по десятый с шагом 2\n",
    "print(s[::-1]) # с конца в начало\n",
    "print(l[::-1]) # с конца в начало"
   ]
  },
  {
   "cell_type": "markdown",
   "metadata": {},
   "source": [
    "#### Еще операции\n",
    "* `len` - длина последовательности\n",
    "* `min` и `max` - ищут минимальный и максимальный элемент пос-ти.\n",
    "* `s.index()` и `s.count()` - см. список методов для строк."
   ]
  },
  {
   "cell_type": "markdown",
   "metadata": {},
   "source": [
    "### Операции с изеняемыми типами-последователностями\n",
    "Из изменяемых типов пока мы знаем только списки."
   ]
  },
  {
   "cell_type": "code",
   "execution_count": 83,
   "metadata": {},
   "outputs": [
    {
     "name": "stdout",
     "output_type": "stream",
     "text": [
      "[10, 20, 30, 40, 50, 60, 70, 80]\n",
      "[11, 22, 33, 44, 40, 50, 60, 70, 80]\n",
      "[80, 70, 60, 100, 50, 40, 44, 33, 22, 11]\n",
      "[80, 70, 60, 100, 50, 44, 33, 22, 11]\n"
     ]
    }
   ],
   "source": [
    "l = [10, 20, 30, 40, 50]\n",
    "l.append(60) # приписать 60 в конец списка\n",
    "# l.clear() # очистить\n",
    "l += [70, 80] # приписать список в конец, а потом присвоить\n",
    "print(l)\n",
    "\n",
    "l[0] = 11\n",
    "l[1:3] = [22, 33, 44] # заменить первый и второй элементы\n",
    "print(l)\n",
    "l.reverse() # перевернуть\n",
    "l.insert(3, 100) # вставить элемент 100 по индексу 3\n",
    "del l[10:12] # удалить 10-ый и 11 элементы\n",
    "print(l)\n",
    "del l[5]\n",
    "print(l)"
   ]
  },
  {
   "cell_type": "code",
   "execution_count": null,
   "metadata": {},
   "outputs": [],
   "source": []
  }
 ],
 "metadata": {
  "kernelspec": {
   "display_name": "Python 3",
   "language": "python",
   "name": "python3"
  },
  "language_info": {
   "codemirror_mode": {
    "name": "ipython",
    "version": 3
   },
   "file_extension": ".py",
   "mimetype": "text/x-python",
   "name": "python",
   "nbconvert_exporter": "python",
   "pygments_lexer": "ipython3",
   "version": "3.6.5"
  }
 },
 "nbformat": 4,
 "nbformat_minor": 2
}
