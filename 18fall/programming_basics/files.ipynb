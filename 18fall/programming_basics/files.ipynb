{
 "cells": [
  {
   "cell_type": "markdown",
   "metadata": {},
   "source": [
    "# Работа с файлами\n",
    "\n",
    "В этом семестре мы будем работать только с текстовыми файлами\n",
    "\n",
    "## Представление текста в компьютере\n",
    "Как хранится текст в памяти, в файлах? Компьютер умеет работать только с данными, представленными в виде набора байт. Каждый байт это число от 0 до 255. Напрямую символы сохранить нельзя, поэтому каждый символ нужно превратить в число и уже после этого сохранить. Таблица, которая символам сопоставляет числа, назыавется **кодировка**.\n",
    "\n",
    "Знакомые нам кодировки: utf-8, ascii, koi8r, cp1251 (стандартная для windows) и т.д.\n",
    "\n",
    "Пример записи в файл:"
   ]
  },
  {
   "cell_type": "code",
   "execution_count": 1,
   "metadata": {},
   "outputs": [],
   "source": [
    "# Открываем файл, получаем файловый объект в переменную f\n",
    "f = open(\"a.txt\", \"w\", encoding=\"utf-8\")\n",
    "# a.txt - имя файла. Он создается в текущей директории (см. позже)\n",
    "# w - режим открытия, в данном случае это запись\n",
    "# причем, если файл был, то он затрется и создастся пустой\n",
    "\n",
    "f.write(\"первая строка\\n\") # команда записи в файл\n",
    "f.write(\"вторая строка\\n\") # не забываем \\n как символ перевода строки\n",
    "# в разных ОС (win, linux) принято по-разному переводить строку. По умолчанию\n",
    "# python превращает символ \\n в перевод строки текущей ОС.\n",
    "f.write(\"третья строка\\n\")\n",
    "\n",
    "f.close() # файлы нельзя забывать закрывать. Это важно, потому что иначе часть информации\n",
    "# может не записаться в файл, и пока файл не закрыт, к нему могут не иметь доступ другие\n",
    "# программы."
   ]
  },
  {
   "cell_type": "markdown",
   "metadata": {},
   "source": [
    "Правильный способ открытия файла, который гарантирует его закрытие"
   ]
  },
  {
   "cell_type": "code",
   "execution_count": 2,
   "metadata": {},
   "outputs": [],
   "source": [
    "with open(\"a.txt\", \"w\", encoding=\"utf-8\") as f:\n",
    "    f.writelines([\"первая строка!\\n\", \"вторая строка!\\n\", \"третья строка!\\n\"])"
   ]
  },
  {
   "cell_type": "markdown",
   "metadata": {},
   "source": [
    "Мы заодно воспользовались функцией writelines, которая позволяет за одно действие записать сразу\n",
    "несколько строк в файл.\n",
    "\n",
    "`with выражение as f` эквивалентно тому, что `f = выражение`, и при любом выходе из блока with вызовется `f.close()`\n",
    "\n",
    "Можно открывать несколько файлов:"
   ]
  },
  {
   "cell_type": "code",
   "execution_count": 3,
   "metadata": {},
   "outputs": [],
   "source": [
    "with open(\"x.txt\", \"w\", encoding=\"utf-8\") as f, open(\"y.txt\", \"w\", encoding=\"utf-8\") as g:\n",
    "    f.write(\"hello x.txt\")\n",
    "    g.write(\"hello y.txt\")"
   ]
  },
  {
   "cell_type": "markdown",
   "metadata": {},
   "source": [
    "## Чтение файлов\n",
    "Открываем аналогично, но используем режим \"r\"."
   ]
  },
  {
   "cell_type": "code",
   "execution_count": 4,
   "metadata": {},
   "outputs": [
    {
     "data": {
      "text/plain": [
       "'первая строка!\\nвторая строка!\\nтретья строка!\\n'"
      ]
     },
     "execution_count": 4,
     "metadata": {},
     "output_type": "execute_result"
    }
   ],
   "source": [
    "with open(\"a.txt\", \"r\", encoding=\"utf-8\") as f:\n",
    "    text = f.read() # прочитать всё. Можно указать read(10), что прочитать не более 10 символов\n",
    "    \n",
    "text"
   ]
  },
  {
   "cell_type": "code",
   "execution_count": 5,
   "metadata": {},
   "outputs": [
    {
     "name": "stdout",
     "output_type": "stream",
     "text": [
      "первая строка!\n",
      "вторая строка!\n",
      "третья строка!\n",
      "\n"
     ]
    }
   ],
   "source": [
    "print(text)"
   ]
  },
  {
   "cell_type": "code",
   "execution_count": 6,
   "metadata": {},
   "outputs": [
    {
     "data": {
      "text/plain": [
       "'третья строка!\\n'"
      ]
     },
     "execution_count": 6,
     "metadata": {},
     "output_type": "execute_result"
    }
   ],
   "source": [
    "with open(\"a.txt\", \"r\", encoding=\"utf-8\") as f:\n",
    "    text1 = f.readline() # читает строку вместе с символом перевода строки в конце, если он есть\n",
    "    text2 = f.readline()\n",
    "    text3 = f.readline()\n",
    "    \n",
    "text3 # в конце есть перевод строки"
   ]
  },
  {
   "cell_type": "markdown",
   "metadata": {},
   "source": [
    "Поэтому, довольно часто с прочитанными строками делают `strip()`: `f.readline().strip()`.\n",
    "\n",
    "Удобный способ перебора всех строк файла - это итерирование по файлу."
   ]
  },
  {
   "cell_type": "code",
   "execution_count": 7,
   "metadata": {},
   "outputs": [
    {
     "name": "stdout",
     "output_type": "stream",
     "text": [
      "первая строка!\n",
      "вторая строка!\n",
      "третья строка!\n"
     ]
    }
   ],
   "source": [
    "with open(\"a.txt\", \"r\", encoding=\"utf-8\") as f:\n",
    "    for line in f:\n",
    "        print(line.strip())"
   ]
  },
  {
   "cell_type": "code",
   "execution_count": 8,
   "metadata": {},
   "outputs": [
    {
     "name": "stdout",
     "output_type": "stream",
     "text": [
      "['первая строка!\\n', 'вторая строка!\\n', 'третья строка!\\n']\n"
     ]
    }
   ],
   "source": [
    "with open(\"a.txt\", \"r\", encoding=\"utf-8\") as f:\n",
    "    print(f.readlines()) # читаем все строки из файла сразу в список"
   ]
  }
 ],
 "metadata": {
  "kernelspec": {
   "display_name": "Python 3",
   "language": "python",
   "name": "python3"
  },
  "language_info": {
   "codemirror_mode": {
    "name": "ipython",
    "version": 3
   },
   "file_extension": ".py",
   "mimetype": "text/x-python",
   "name": "python",
   "nbconvert_exporter": "python",
   "pygments_lexer": "ipython3",
   "version": "3.6.5"
  }
 },
 "nbformat": 4,
 "nbformat_minor": 2
}
