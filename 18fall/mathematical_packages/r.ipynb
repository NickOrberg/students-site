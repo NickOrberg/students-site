{
 "cells": [
  {
   "cell_type": "markdown",
   "metadata": {
    "collapsed": false
   },
   "source": [
    "# Statistical package R\n",
    "\n",
    "It is used for statistical computations. It has a lot of statistical functions implemented. It tryies to show results of evaluations in a beautiful and understandible form. It also allows making beautiful plots and diagrams.\n",
    "\n",
    "Let us use an \"R cheatsheet\". [https://www.rstudio.com/wp-content/uploads/2016/10/r-cheat-sheet-3.pdf](https://www.rstudio.com/wp-content/uploads/2016/10/r-cheat-sheet-3.pdf)"
   ]
  },
  {
   "cell_type": "code",
   "execution_count": 1,
   "metadata": {
    "collapsed": false
   },
   "outputs": [
   ],
   "source": [
    "x <- 10 # an assignment\n",
    "x = 10 # it is possible to use =, but don't do this, because it can lead to problems, and it is used in a different place\n",
    "42 -> y # assignment"
   ]
  },
  {
   "cell_type": "markdown",
   "metadata": {
    "collapsed": false
   },
   "source": [
    "The most basic data type in R is a vector. Vector is a linear array of elements. There are several \"modes\": numerical, character, boolean. You create a vector with the `c()` function:"
   ]
  },
  {
   "cell_type": "code",
   "execution_count": 2,
   "metadata": {
    "collapsed": false
   },
   "outputs": [
    {
     "data": {
      "text/html": [
       "<ol class=list-inline>\n",
       "\t<li>1</li>\n",
       "\t<li>2</li>\n",
       "\t<li>3</li>\n",
       "</ol>\n"
      ]
     },
     "execution_count": 2,
     "metadata": {
     },
     "output_type": "execute_result"
    },
    {
     "data": {
      "text/html": [
       "<ol class=list-inline>\n",
       "\t<li>TRUE</li>\n",
       "\t<li>FALSE</li>\n",
       "\t<li>TRUE</li>\n",
       "</ol>\n"
      ]
     },
     "execution_count": 2,
     "metadata": {
     },
     "output_type": "execute_result"
    },
    {
     "data": {
      "text/html": [
       "<ol class=list-inline>\n",
       "\t<li>'abc'</li>\n",
       "\t<li>'xyz'</li>\n",
       "</ol>\n"
      ]
     },
     "execution_count": 2,
     "metadata": {
     },
     "output_type": "execute_result"
    }
   ],
   "source": [
    "c(1, 2, 3) # numeric\n",
    "c(T, F, T) # boolean\n",
    "c(\"abc\", \"xyz\") #character\n",
    "# in octave: c(...) -> [...]"
   ]
  },
  {
   "cell_type": "markdown",
   "metadata": {
    "collapsed": false
   },
   "source": [
    "You can not mix modes, you either have numbers or characters, but not both."
   ]
  },
  {
   "cell_type": "code",
   "execution_count": 3,
   "metadata": {
    "collapsed": false
   },
   "outputs": [
    {
     "data": {
      "text/html": [
       "<ol class=list-inline>\n",
       "\t<li>2</li>\n",
       "\t<li>3</li>\n",
       "\t<li>4</li>\n",
       "\t<li>5</li>\n",
       "\t<li>6</li>\n",
       "</ol>\n"
      ]
     },
     "execution_count": 3,
     "metadata": {
     },
     "output_type": "execute_result"
    },
    {
     "data": {
      "text/html": [
       "<ol class=list-inline>\n",
       "\t<li>10</li>\n",
       "\t<li>9</li>\n",
       "\t<li>8</li>\n",
       "\t<li>7</li>\n",
       "\t<li>6</li>\n",
       "\t<li>5</li>\n",
       "\t<li>4</li>\n",
       "\t<li>3</li>\n",
       "\t<li>2</li>\n",
       "\t<li>1</li>\n",
       "</ol>\n"
      ]
     },
     "execution_count": 3,
     "metadata": {
     },
     "output_type": "execute_result"
    },
    {
     "data": {
      "text/html": [
       "<ol class=list-inline>\n",
       "\t<li>1</li>\n",
       "\t<li>3</li>\n",
       "\t<li>5</li>\n",
       "\t<li>7</li>\n",
       "\t<li>9</li>\n",
       "</ol>\n"
      ]
     },
     "execution_count": 3,
     "metadata": {
     },
     "output_type": "execute_result"
    },
    {
     "data": {
      "text/html": [
       "<ol class=list-inline>\n",
       "\t<li>1</li>\n",
       "\t<li>4</li>\n",
       "\t<li>7</li>\n",
       "\t<li>10</li>\n",
       "</ol>\n"
      ]
     },
     "execution_count": 3,
     "metadata": {
     },
     "output_type": "execute_result"
    },
    {
     "data": {
      "text/html": [
       "<ol class=list-inline>\n",
       "\t<li>1</li>\n",
       "\t<li>5</li>\n",
       "\t<li>9</li>\n",
       "</ol>\n"
      ]
     },
     "execution_count": 3,
     "metadata": {
     },
     "output_type": "execute_result"
    }
   ],
   "source": [
    "2:6 #forward\n",
    "10:1 # backwards\n",
    "seq(1, 10, by=2) # from 1 to 10 with step 2 (In Octave: 1:2:10)\n",
    "seq(1, 10, length.out=4) # from 1 to 10, but create 4 elements (In octave: linspace(1, 10, 4))\n",
    "seq(1, 10, 4) # if you don't write anything before 4, it is \"by=\""
   ]
  },
  {
   "cell_type": "markdown",
   "metadata": {
    "collapsed": false
   },
   "source": [
    "Here we see that functions in R usually take _named arguments_. You put the name of an argument with the equality."
   ]
  },
  {
   "cell_type": "markdown",
   "metadata": {
    "collapsed": false
   },
   "source": [
    "## Indexing"
   ]
  },
  {
   "cell_type": "code",
   "execution_count": 4,
   "metadata": {
    "collapsed": false
   },
   "outputs": [
    {
     "data": {
      "text/html": [
       "<ol class=list-inline>\n",
       "\t<li>10</li>\n",
       "\t<li>20</li>\n",
       "\t<li>30</li>\n",
       "\t<li>40</li>\n",
       "\t<li>50</li>\n",
       "\t<li>60</li>\n",
       "\t<li>70</li>\n",
       "\t<li>80</li>\n",
       "\t<li>90</li>\n",
       "\t<li>100</li>\n",
       "\t<li>110</li>\n",
       "\t<li>120</li>\n",
       "\t<li>130</li>\n",
       "\t<li>140</li>\n",
       "\t<li>150</li>\n",
       "\t<li>160</li>\n",
       "\t<li>170</li>\n",
       "\t<li>180</li>\n",
       "\t<li>190</li>\n",
       "\t<li>200</li>\n",
       "\t<li>210</li>\n",
       "\t<li>220</li>\n",
       "\t<li>230</li>\n",
       "\t<li>240</li>\n",
       "\t<li>250</li>\n",
       "\t<li>260</li>\n",
       "\t<li>270</li>\n",
       "\t<li>280</li>\n",
       "\t<li>290</li>\n",
       "\t<li>300</li>\n",
       "\t<li>310</li>\n",
       "\t<li>320</li>\n",
       "\t<li>330</li>\n",
       "\t<li>340</li>\n",
       "\t<li>350</li>\n",
       "\t<li>360</li>\n",
       "\t<li>370</li>\n",
       "\t<li>380</li>\n",
       "\t<li>390</li>\n",
       "\t<li>400</li>\n",
       "\t<li>410</li>\n",
       "\t<li>420</li>\n",
       "\t<li>430</li>\n",
       "\t<li>440</li>\n",
       "\t<li>450</li>\n",
       "\t<li>460</li>\n",
       "\t<li>470</li>\n",
       "\t<li>480</li>\n",
       "\t<li>490</li>\n",
       "\t<li>500</li>\n",
       "\t<li>510</li>\n",
       "\t<li>520</li>\n",
       "\t<li>530</li>\n",
       "\t<li>540</li>\n",
       "\t<li>550</li>\n",
       "\t<li>560</li>\n",
       "\t<li>570</li>\n",
       "\t<li>580</li>\n",
       "\t<li>590</li>\n",
       "\t<li>600</li>\n",
       "\t<li>610</li>\n",
       "\t<li>620</li>\n",
       "\t<li>630</li>\n",
       "\t<li>640</li>\n",
       "\t<li>650</li>\n",
       "\t<li>660</li>\n",
       "\t<li>670</li>\n",
       "\t<li>680</li>\n",
       "\t<li>690</li>\n",
       "\t<li>700</li>\n",
       "\t<li>710</li>\n",
       "\t<li>720</li>\n",
       "\t<li>730</li>\n",
       "\t<li>740</li>\n",
       "\t<li>750</li>\n",
       "\t<li>760</li>\n",
       "\t<li>770</li>\n",
       "\t<li>780</li>\n",
       "\t<li>790</li>\n",
       "\t<li>800</li>\n",
       "\t<li>810</li>\n",
       "\t<li>820</li>\n",
       "\t<li>830</li>\n",
       "\t<li>840</li>\n",
       "\t<li>850</li>\n",
       "\t<li>860</li>\n",
       "\t<li>870</li>\n",
       "\t<li>880</li>\n",
       "\t<li>890</li>\n",
       "\t<li>900</li>\n",
       "\t<li>910</li>\n",
       "\t<li>920</li>\n",
       "\t<li>930</li>\n",
       "\t<li>940</li>\n",
       "\t<li>950</li>\n",
       "\t<li>960</li>\n",
       "\t<li>970</li>\n",
       "\t<li>980</li>\n",
       "\t<li>990</li>\n",
       "\t<li>1000</li>\n",
       "</ol>\n"
      ]
     },
     "execution_count": 4,
     "metadata": {
     },
     "output_type": "execute_result"
    }
   ],
   "source": [
    "x <- seq(10, 1000, by=10)\n",
    "x"
   ]
  },
  {
   "cell_type": "code",
   "execution_count": 5,
   "metadata": {
    "collapsed": false,
    "scrolled": true
   },
   "outputs": [
    {
     "data": {
      "text/html": [
       "40"
      ]
     },
     "execution_count": 5,
     "metadata": {
     },
     "output_type": "execute_result"
    },
    {
     "data": {
      "text/html": [
       "<ol class=list-inline>\n",
       "\t<li>10</li>\n",
       "\t<li>50</li>\n",
       "\t<li>70</li>\n",
       "</ol>\n"
      ]
     },
     "execution_count": 5,
     "metadata": {
     },
     "output_type": "execute_result"
    },
    {
     "data": {
      "text/html": [
       "<ol class=list-inline>\n",
       "\t<li>10</li>\n",
       "\t<li>20</li>\n",
       "\t<li>30</li>\n",
       "\t<li>50</li>\n",
       "\t<li>60</li>\n",
       "\t<li>70</li>\n",
       "\t<li>80</li>\n",
       "\t<li>90</li>\n",
       "\t<li>100</li>\n",
       "\t<li>110</li>\n",
       "\t<li>120</li>\n",
       "\t<li>130</li>\n",
       "\t<li>140</li>\n",
       "\t<li>150</li>\n",
       "\t<li>160</li>\n",
       "\t<li>170</li>\n",
       "\t<li>180</li>\n",
       "\t<li>190</li>\n",
       "\t<li>200</li>\n",
       "\t<li>210</li>\n",
       "\t<li>220</li>\n",
       "\t<li>230</li>\n",
       "\t<li>240</li>\n",
       "\t<li>250</li>\n",
       "\t<li>260</li>\n",
       "\t<li>270</li>\n",
       "\t<li>280</li>\n",
       "\t<li>290</li>\n",
       "\t<li>300</li>\n",
       "\t<li>310</li>\n",
       "\t<li>320</li>\n",
       "\t<li>330</li>\n",
       "\t<li>340</li>\n",
       "\t<li>350</li>\n",
       "\t<li>360</li>\n",
       "\t<li>370</li>\n",
       "\t<li>380</li>\n",
       "\t<li>390</li>\n",
       "\t<li>400</li>\n",
       "\t<li>410</li>\n",
       "\t<li>420</li>\n",
       "\t<li>430</li>\n",
       "\t<li>440</li>\n",
       "\t<li>450</li>\n",
       "\t<li>460</li>\n",
       "\t<li>470</li>\n",
       "\t<li>480</li>\n",
       "\t<li>490</li>\n",
       "\t<li>500</li>\n",
       "\t<li>510</li>\n",
       "\t<li>520</li>\n",
       "\t<li>530</li>\n",
       "\t<li>540</li>\n",
       "\t<li>550</li>\n",
       "\t<li>560</li>\n",
       "\t<li>570</li>\n",
       "\t<li>580</li>\n",
       "\t<li>590</li>\n",
       "\t<li>600</li>\n",
       "\t<li>610</li>\n",
       "\t<li>620</li>\n",
       "\t<li>630</li>\n",
       "\t<li>640</li>\n",
       "\t<li>650</li>\n",
       "\t<li>660</li>\n",
       "\t<li>670</li>\n",
       "\t<li>680</li>\n",
       "\t<li>690</li>\n",
       "\t<li>700</li>\n",
       "\t<li>710</li>\n",
       "\t<li>720</li>\n",
       "\t<li>730</li>\n",
       "\t<li>740</li>\n",
       "\t<li>750</li>\n",
       "\t<li>760</li>\n",
       "\t<li>770</li>\n",
       "\t<li>780</li>\n",
       "\t<li>790</li>\n",
       "\t<li>800</li>\n",
       "\t<li>810</li>\n",
       "\t<li>820</li>\n",
       "\t<li>830</li>\n",
       "\t<li>840</li>\n",
       "\t<li>850</li>\n",
       "\t<li>860</li>\n",
       "\t<li>870</li>\n",
       "\t<li>880</li>\n",
       "\t<li>890</li>\n",
       "\t<li>900</li>\n",
       "\t<li>910</li>\n",
       "\t<li>920</li>\n",
       "\t<li>930</li>\n",
       "\t<li>940</li>\n",
       "\t<li>950</li>\n",
       "\t<li>960</li>\n",
       "\t<li>970</li>\n",
       "\t<li>980</li>\n",
       "\t<li>990</li>\n",
       "\t<li>1000</li>\n",
       "</ol>\n"
      ]
     },
     "execution_count": 5,
     "metadata": {
     },
     "output_type": "execute_result"
    },
    {
     "data": {
      "text/html": [
       "<ol class=list-inline>\n",
       "\t<li>10</li>\n",
       "\t<li>20</li>\n",
       "\t<li>30</li>\n",
       "\t<li>60</li>\n",
       "\t<li>70</li>\n",
       "\t<li>80</li>\n",
       "\t<li>90</li>\n",
       "\t<li>100</li>\n",
       "\t<li>110</li>\n",
       "\t<li>120</li>\n",
       "\t<li>130</li>\n",
       "\t<li>140</li>\n",
       "\t<li>150</li>\n",
       "\t<li>160</li>\n",
       "\t<li>170</li>\n",
       "\t<li>180</li>\n",
       "\t<li>190</li>\n",
       "\t<li>200</li>\n",
       "\t<li>210</li>\n",
       "\t<li>220</li>\n",
       "\t<li>230</li>\n",
       "\t<li>240</li>\n",
       "\t<li>250</li>\n",
       "\t<li>260</li>\n",
       "\t<li>270</li>\n",
       "\t<li>280</li>\n",
       "\t<li>290</li>\n",
       "\t<li>300</li>\n",
       "\t<li>310</li>\n",
       "\t<li>320</li>\n",
       "\t<li>330</li>\n",
       "\t<li>340</li>\n",
       "\t<li>350</li>\n",
       "\t<li>360</li>\n",
       "\t<li>370</li>\n",
       "\t<li>380</li>\n",
       "\t<li>390</li>\n",
       "\t<li>400</li>\n",
       "\t<li>410</li>\n",
       "\t<li>420</li>\n",
       "\t<li>430</li>\n",
       "\t<li>440</li>\n",
       "\t<li>450</li>\n",
       "\t<li>460</li>\n",
       "\t<li>470</li>\n",
       "\t<li>480</li>\n",
       "\t<li>490</li>\n",
       "\t<li>500</li>\n",
       "\t<li>510</li>\n",
       "\t<li>520</li>\n",
       "\t<li>530</li>\n",
       "\t<li>540</li>\n",
       "\t<li>550</li>\n",
       "\t<li>560</li>\n",
       "\t<li>570</li>\n",
       "\t<li>580</li>\n",
       "\t<li>590</li>\n",
       "\t<li>600</li>\n",
       "\t<li>610</li>\n",
       "\t<li>620</li>\n",
       "\t<li>630</li>\n",
       "\t<li>640</li>\n",
       "\t<li>650</li>\n",
       "\t<li>660</li>\n",
       "\t<li>670</li>\n",
       "\t<li>680</li>\n",
       "\t<li>690</li>\n",
       "\t<li>700</li>\n",
       "\t<li>710</li>\n",
       "\t<li>720</li>\n",
       "\t<li>730</li>\n",
       "\t<li>740</li>\n",
       "\t<li>750</li>\n",
       "\t<li>760</li>\n",
       "\t<li>770</li>\n",
       "\t<li>780</li>\n",
       "\t<li>790</li>\n",
       "\t<li>800</li>\n",
       "\t<li>810</li>\n",
       "\t<li>820</li>\n",
       "\t<li>830</li>\n",
       "\t<li>840</li>\n",
       "\t<li>850</li>\n",
       "\t<li>860</li>\n",
       "\t<li>870</li>\n",
       "\t<li>880</li>\n",
       "\t<li>890</li>\n",
       "\t<li>900</li>\n",
       "\t<li>910</li>\n",
       "\t<li>920</li>\n",
       "\t<li>930</li>\n",
       "\t<li>940</li>\n",
       "\t<li>950</li>\n",
       "\t<li>960</li>\n",
       "\t<li>970</li>\n",
       "\t<li>980</li>\n",
       "\t<li>990</li>\n",
       "\t<li>1000</li>\n",
       "</ol>\n"
      ]
     },
     "execution_count": 5,
     "metadata": {
     },
     "output_type": "execute_result"
    },
    {
     "data": {
      "text/html": [
       "<ol class=list-inline>\n",
       "\t<li>610</li>\n",
       "\t<li>620</li>\n",
       "\t<li>630</li>\n",
       "\t<li>640</li>\n",
       "\t<li>650</li>\n",
       "\t<li>660</li>\n",
       "\t<li>670</li>\n",
       "\t<li>680</li>\n",
       "\t<li>690</li>\n",
       "\t<li>700</li>\n",
       "\t<li>710</li>\n",
       "\t<li>720</li>\n",
       "\t<li>730</li>\n",
       "\t<li>740</li>\n",
       "\t<li>750</li>\n",
       "\t<li>760</li>\n",
       "\t<li>770</li>\n",
       "\t<li>780</li>\n",
       "\t<li>790</li>\n",
       "\t<li>800</li>\n",
       "\t<li>810</li>\n",
       "\t<li>820</li>\n",
       "\t<li>830</li>\n",
       "\t<li>840</li>\n",
       "\t<li>850</li>\n",
       "\t<li>860</li>\n",
       "\t<li>870</li>\n",
       "\t<li>880</li>\n",
       "\t<li>890</li>\n",
       "\t<li>900</li>\n",
       "\t<li>910</li>\n",
       "\t<li>920</li>\n",
       "\t<li>930</li>\n",
       "\t<li>940</li>\n",
       "\t<li>950</li>\n",
       "\t<li>960</li>\n",
       "\t<li>970</li>\n",
       "\t<li>980</li>\n",
       "\t<li>990</li>\n",
       "\t<li>1000</li>\n",
       "</ol>\n"
      ]
     },
     "execution_count": 5,
     "metadata": {
     },
     "output_type": "execute_result"
    },
    {
     "data": {
      "text/html": [
       "<ol class=list-inline>\n",
       "\t<li>FALSE</li>\n",
       "\t<li>FALSE</li>\n",
       "\t<li>FALSE</li>\n",
       "\t<li>FALSE</li>\n",
       "\t<li>FALSE</li>\n",
       "\t<li>FALSE</li>\n",
       "\t<li>FALSE</li>\n",
       "\t<li>FALSE</li>\n",
       "\t<li>FALSE</li>\n",
       "\t<li>FALSE</li>\n",
       "\t<li>FALSE</li>\n",
       "\t<li>FALSE</li>\n",
       "\t<li>FALSE</li>\n",
       "\t<li>FALSE</li>\n",
       "\t<li>FALSE</li>\n",
       "\t<li>FALSE</li>\n",
       "\t<li>FALSE</li>\n",
       "\t<li>FALSE</li>\n",
       "\t<li>FALSE</li>\n",
       "\t<li>FALSE</li>\n",
       "\t<li>FALSE</li>\n",
       "\t<li>FALSE</li>\n",
       "\t<li>FALSE</li>\n",
       "\t<li>FALSE</li>\n",
       "\t<li>FALSE</li>\n",
       "\t<li>FALSE</li>\n",
       "\t<li>FALSE</li>\n",
       "\t<li>FALSE</li>\n",
       "\t<li>FALSE</li>\n",
       "\t<li>FALSE</li>\n",
       "\t<li>FALSE</li>\n",
       "\t<li>FALSE</li>\n",
       "\t<li>FALSE</li>\n",
       "\t<li>FALSE</li>\n",
       "\t<li>FALSE</li>\n",
       "\t<li>FALSE</li>\n",
       "\t<li>FALSE</li>\n",
       "\t<li>FALSE</li>\n",
       "\t<li>FALSE</li>\n",
       "\t<li>FALSE</li>\n",
       "\t<li>FALSE</li>\n",
       "\t<li>FALSE</li>\n",
       "\t<li>FALSE</li>\n",
       "\t<li>FALSE</li>\n",
       "\t<li>FALSE</li>\n",
       "\t<li>FALSE</li>\n",
       "\t<li>FALSE</li>\n",
       "\t<li>FALSE</li>\n",
       "\t<li>FALSE</li>\n",
       "\t<li>FALSE</li>\n",
       "\t<li>FALSE</li>\n",
       "\t<li>FALSE</li>\n",
       "\t<li>FALSE</li>\n",
       "\t<li>FALSE</li>\n",
       "\t<li>FALSE</li>\n",
       "\t<li>FALSE</li>\n",
       "\t<li>FALSE</li>\n",
       "\t<li>FALSE</li>\n",
       "\t<li>FALSE</li>\n",
       "\t<li>FALSE</li>\n",
       "\t<li>TRUE</li>\n",
       "\t<li>TRUE</li>\n",
       "\t<li>TRUE</li>\n",
       "\t<li>TRUE</li>\n",
       "\t<li>TRUE</li>\n",
       "\t<li>TRUE</li>\n",
       "\t<li>TRUE</li>\n",
       "\t<li>TRUE</li>\n",
       "\t<li>TRUE</li>\n",
       "\t<li>TRUE</li>\n",
       "\t<li>TRUE</li>\n",
       "\t<li>TRUE</li>\n",
       "\t<li>TRUE</li>\n",
       "\t<li>TRUE</li>\n",
       "\t<li>TRUE</li>\n",
       "\t<li>TRUE</li>\n",
       "\t<li>TRUE</li>\n",
       "\t<li>TRUE</li>\n",
       "\t<li>TRUE</li>\n",
       "\t<li>TRUE</li>\n",
       "\t<li>TRUE</li>\n",
       "\t<li>TRUE</li>\n",
       "\t<li>TRUE</li>\n",
       "\t<li>TRUE</li>\n",
       "\t<li>TRUE</li>\n",
       "\t<li>TRUE</li>\n",
       "\t<li>TRUE</li>\n",
       "\t<li>TRUE</li>\n",
       "\t<li>TRUE</li>\n",
       "\t<li>TRUE</li>\n",
       "\t<li>TRUE</li>\n",
       "\t<li>TRUE</li>\n",
       "\t<li>TRUE</li>\n",
       "\t<li>TRUE</li>\n",
       "\t<li>TRUE</li>\n",
       "\t<li>TRUE</li>\n",
       "\t<li>TRUE</li>\n",
       "\t<li>TRUE</li>\n",
       "\t<li>TRUE</li>\n",
       "\t<li>TRUE</li>\n",
       "</ol>\n"
      ]
     },
     "execution_count": 5,
     "metadata": {
     },
     "output_type": "execute_result"
    }
   ],
   "source": [
    "x[4] # square brackets for indexing\n",
    "x[c(1, 5, 7)]           # in Octave: x([1, 4])\n",
    "x[-4]    # all except the fourth element\n",
    "x[c(-4, -5)] # all except the 4th and 5th elements\n",
    "\n",
    "x[x > 600] # all elements that are greater than 600 (In Octave: x(x > 600) )\n",
    "\n",
    "x > 600 # this is a logical vector. And x[x > 600] is a logical indexing. We select only elements that have TRUE in the index"
   ]
  },
  {
   "cell_type": "code",
   "execution_count": 6,
   "metadata": {
    "collapsed": false
   },
   "outputs": [
    {
     "data": {
      "text/html": [
       "FALSE"
      ]
     },
     "execution_count": 6,
     "metadata": {
     },
     "output_type": "execute_result"
    },
    {
     "data": {
      "text/html": [
       "TRUE"
      ]
     },
     "execution_count": 6,
     "metadata": {
     },
     "output_type": "execute_result"
    },
    {
     "data": {
      "text/html": [
       "<ol class=list-inline>\n",
       "\t<li>FALSE</li>\n",
       "\t<li>TRUE</li>\n",
       "\t<li>FALSE</li>\n",
       "\t<li>FALSE</li>\n",
       "</ol>\n"
      ]
     },
     "execution_count": 6,
     "metadata": {
     },
     "output_type": "execute_result"
    },
    {
     "data": {
      "text/html": [
       "<ol class=list-inline>\n",
       "\t<li>FALSE</li>\n",
       "\t<li>FALSE</li>\n",
       "\t<li>TRUE</li>\n",
       "\t<li>TRUE</li>\n",
       "</ol>\n"
      ]
     },
     "execution_count": 6,
     "metadata": {
     },
     "output_type": "execute_result"
    }
   ],
   "source": [
    "1 == 2\n",
    "30 == 30\n",
    "c(10, 20, 30, 40) == 20\n",
    "c(10, 20, 30, 40) > 20"
   ]
  },
  {
   "cell_type": "markdown",
   "metadata": {
    "collapsed": false
   },
   "source": [
    "## Factors\n",
    "\n",
    "Imagine, we want to store information about a sex of people: Males, Females. Let's have a vector:"
   ]
  },
  {
   "cell_type": "code",
   "execution_count": 7,
   "metadata": {
    "collapsed": false
   },
   "outputs": [
   ],
   "source": [
    "s <- c(T, F, T, F, F, F) # not obvious, who is Male, who is Female.\n",
    "s <- c(\"Male\", \"Female\", \"Male\", \"Female\") # 1) we can make a typo 2) needs a lot of memoro\n",
    "s <- c(1, 2, 1, 2, 2, 2) # you have to specify what is what"
   ]
  },
  {
   "cell_type": "markdown",
   "metadata": {
    "collapsed": false
   },
   "source": [
    "That's why we need factors. They are used to store variables that have a finite number of possible values (Male, Female or Bad, Medium, Good). We use a function called \"factor\" to create factors:"
   ]
  },
  {
   "cell_type": "code",
   "execution_count": 8,
   "metadata": {
    "collapsed": false
   },
   "outputs": [
    {
     "data": {
      "text/html": [
       "<ol class=list-inline>\n",
       "\t<li>Male</li>\n",
       "\t<li>Female</li>\n",
       "\t<li>Male</li>\n",
       "\t<li>Male</li>\n",
       "</ol>\n",
       "\n",
       "<details>\n",
       "\t<summary style=display:list-item;cursor:pointer>\n",
       "\t\t<strong>Levels</strong>:\n",
       "\t</summary>\n",
       "\t<ol class=list-inline>\n",
       "\t\t<li>'Female'</li>\n",
       "\t\t<li>'Male'</li>\n",
       "\t</ol>\n",
       "</details>"
      ]
     },
     "execution_count": 8,
     "metadata": {
     },
     "output_type": "execute_result"
    },
    {
     "data": {
      "text/html": [
       "<ol class=list-inline>\n",
       "\t<li>Good</li>\n",
       "\t<li>Medium</li>\n",
       "\t<li>Good</li>\n",
       "</ol>\n",
       "\n",
       "<details>\n",
       "\t<summary style=display:list-item;cursor:pointer>\n",
       "\t\t<strong>Levels</strong>:\n",
       "\t</summary>\n",
       "\t<ol class=list-inline>\n",
       "\t\t<li>'Good'</li>\n",
       "\t\t<li>'Medium'</li>\n",
       "\t\t<li>'Bad'</li>\n",
       "\t</ol>\n",
       "</details>"
      ]
     },
     "execution_count": 8,
     "metadata": {
     },
     "output_type": "execute_result"
    }
   ],
   "source": [
    "sexes <- factor(c(\"Male\", \"Female\", \"Male\", \"Male\")) # we create a factor from a character vector\n",
    "sexes\n",
    "\n",
    "# we can specify levels explicitly\n",
    "states <- factor(c(\"Good\", \"Medium\", \"Good\"), levels=c(\"Good\", \"Medium\", \"Bad\"))\n",
    "states"
   ]
  },
  {
   "cell_type": "markdown",
   "metadata": {
    "collapsed": false
   },
   "source": [
    "How are factors stored. A factor is just a numeric vector (1, 2, 1, 1, 2) with additional metainformation inside. This is an information about levels, that is, what each number means.\n",
    "\n",
    "Factor = Numeric vector + Metainformation. When we print a factor, we don't see numbers, we see them substituted by levels"
   ]
  },
  {
   "cell_type": "markdown",
   "metadata": {
    "collapsed": false
   },
   "source": [
    "Factors can be ordered. For states of a patient we know that Good is better than Medius, Medium is better that Bad. So we can say that this factor is ordered. In future we will be able to sort based on this factor:"
   ]
  },
  {
   "cell_type": "code",
   "execution_count": 9,
   "metadata": {
    "collapsed": false
   },
   "outputs": [
   ],
   "source": [
    "states <- factor(c(\"Good\", \"Medium\", \"Good\"), levels=c(\"Good\", \"Medium\", \"Bad\"), ordered=T)"
   ]
  },
  {
   "cell_type": "markdown",
   "metadata": {
    "collapsed": false
   },
   "source": [
    "## Simple statistics"
   ]
  },
  {
   "cell_type": "code",
   "execution_count": 10,
   "metadata": {
    "collapsed": false
   },
   "outputs": [
    {
     "data": {
      "text/plain": [
       "   Min. 1st Qu.  Median    Mean 3rd Qu.    Max. \n",
       "  1.000   3.000   4.500   4.562   6.250   8.000 "
      ]
     },
     "execution_count": 10,
     "metadata": {
     },
     "output_type": "execute_result"
    }
   ],
   "source": [
    "x <- c(1, 2, 5, 3, 5, 7, 8, 4, 3, 1, 4, 4, 5, 6, 7, 8)\n",
    "summary(x)"
   ]
  },
  {
   "cell_type": "markdown",
   "metadata": {
    "collapsed": false
   },
   "source": [
    "`summary` shows information about a vector (or any other data given to it). Minimum, maximum, mean value, median value, 1st quantile, 3rd quantile.\n",
    "\n",
    "(Median = 2nd quantile)"
   ]
  },
  {
   "cell_type": "code",
   "execution_count": 11,
   "metadata": {
    "collapsed": false
   },
   "outputs": [
    {
     "data": {
      "text/plain": [
       "   Length     Class      Mode \n",
       "        6 character character "
      ]
     },
     "execution_count": 11,
     "metadata": {
     },
     "output_type": "execute_result"
    }
   ],
   "source": [
    "x <- c(\"a\", \"b\", \"a\", \"a\", \"c\", \"b\")\n",
    "summary(x)"
   ]
  },
  {
   "cell_type": "markdown",
   "metadata": {
    "collapsed": false
   },
   "source": [
    "This only means that this is a vector of charaters (strings) of length 6"
   ]
  },
  {
   "cell_type": "code",
   "execution_count": 12,
   "metadata": {
    "collapsed": false
   },
   "outputs": [
    {
     "data": {
      "text/html": [
       "<dl class=dl-horizontal>\n",
       "\t<dt>Female</dt>\n",
       "\t\t<dd>1</dd>\n",
       "\t<dt>Male</dt>\n",
       "\t\t<dd>3</dd>\n",
       "</dl>\n"
      ]
     },
     "execution_count": 12,
     "metadata": {
     },
     "output_type": "execute_result"
    }
   ],
   "source": [
    "summary(sexes)"
   ]
  },
  {
   "cell_type": "markdown",
   "metadata": {
    "collapsed": false
   },
   "source": [
    "`summary` is a smart function that works differently for different types of arguments. Another example of such a function is a `table` function:"
   ]
  },
  {
   "cell_type": "code",
   "execution_count": 13,
   "metadata": {
    "collapsed": false
   },
   "outputs": [
    {
     "data": {
      "text/plain": [
       "        states\n",
       "sexes    Bad Medium Good\n",
       "  Female   0      0    2\n",
       "  Male     1      1    1"
      ]
     },
     "execution_count": 13,
     "metadata": {
     },
     "output_type": "execute_result"
    }
   ],
   "source": [
    "sexes <- factor(c(\"Male\", \"Female\", \"Male\", \"Male\", \"Female\"))\n",
    "states <- factor(c(\"Good\", \"Good\", \"Bad\", \"Medium\", \"Good\"), levels=c(\"Bad\", \"Medium\", \"Good\"), ordered=T)\n",
    "table(sexes, states)"
   ]
  },
  {
   "cell_type": "markdown",
   "metadata": {
    "collapsed": false
   },
   "source": [
    "This works for vectors of the same size. It counts elements and tables them. It even works if there are 3 vectors. (you may try it)"
   ]
  },
  {
   "cell_type": "markdown",
   "metadata": {
    "collapsed": false
   },
   "source": [
    "## A little more about metainformation"
   ]
  },
  {
   "cell_type": "code",
   "execution_count": 14,
   "metadata": {
    "collapsed": false
   },
   "outputs": [
    {
     "data": {
      "text/html": [
       "<ol class=list-inline>\n",
       "\t<li>10</li>\n",
       "\t<li>20</li>\n",
       "\t<li>30</li>\n",
       "</ol>\n"
      ]
     },
     "execution_count": 14,
     "metadata": {
     },
     "output_type": "execute_result"
    }
   ],
   "source": [
    "x <- c(10, 20, 30)\n",
    "x"
   ]
  },
  {
   "cell_type": "markdown",
   "metadata": {
    "collapsed": false
   },
   "source": [
    "`x` has data 10, 20, 30 inside. But we can add names for its elements"
   ]
  },
  {
   "cell_type": "code",
   "execution_count": 15,
   "metadata": {
    "collapsed": false
   },
   "outputs": [
    {
     "data": {
      "text/html": [
       "<dl class=dl-horizontal>\n",
       "\t<dt>first</dt>\n",
       "\t\t<dd>10</dd>\n",
       "\t<dt>second</dt>\n",
       "\t\t<dd>20</dd>\n",
       "\t<dt>third</dt>\n",
       "\t\t<dd>30</dd>\n",
       "</dl>\n"
      ]
     },
     "execution_count": 15,
     "metadata": {
     },
     "output_type": "execute_result"
    }
   ],
   "source": [
    "names(x) <- c(\"first\", \"second\", \"third\")\n",
    "x"
   ]
  },
  {
   "cell_type": "markdown",
   "metadata": {
    "collapsed": false
   },
   "source": [
    "Metainformation controls the way data is printed and manipulated"
   ]
  },
  {
   "cell_type": "code",
   "execution_count": 18,
   "metadata": {
    "collapsed": false
   },
   "outputs": [
    {
     "data": {
      "text/html": [
       "<dl class=dl-horizontal>\n",
       "\t<dt>first</dt>\n",
       "\t\t<dd>TRUE</dd>\n",
       "\t<dt>second</dt>\n",
       "\t\t<dd>FALSE</dd>\n",
       "\t<dt>third</dt>\n",
       "\t\t<dd>FALSE</dd>\n",
       "</dl>\n"
      ]
     },
     "execution_count": 18,
     "metadata": {
     },
     "output_type": "execute_result"
    },
    {
     "data": {
      "text/html": [
       "<strong>first:</strong> 10"
      ]
     },
     "execution_count": 18,
     "metadata": {
     },
     "output_type": "execute_result"
    },
    {
     "data": {
      "text/html": [
       "<strong>first:</strong> 10"
      ]
     },
     "execution_count": 18,
     "metadata": {
     },
     "output_type": "execute_result"
    }
   ],
   "source": [
    "x == 10 # metainformation is not discarded\n",
    "x[1]\n",
    "x[\"first\"]"
   ]
  }
 ],
 "metadata": {
  "kernelspec": {
   "display_name": "R (R-Project)",
   "language": "r",
   "name": "ir"
  }
 },
 "nbformat": 4,
 "nbformat_minor": 0
}