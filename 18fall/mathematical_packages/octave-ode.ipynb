{
 "cells": [
  {
   "cell_type": "markdown",
   "metadata": {},
   "source": [
    "# Ordinary differential equations\n",
    "\n",
    "(ODE)\n",
    "\n",
    "We have a functional equation (the equation where the unknown is the function), that involves derivatives. This is what DE means. Ordinary means that our equation has the form (or can be converted to the form) $f'(t) = F(f(t), t)$.\n",
    "\n",
    "Examples:\n",
    "\n",
    "1. $f'(x) = x$ has the solution $f(x) = x^2/2 + C$. This kind of answer can be given only by symbolic computation system. In Octave we also should have some initial values for the function, for example, if we add to the statement, that $f(0) = 1$. Then, the answer is $f(x) = $x^2/2 + 1$.\n",
    "\n",
    "    $f'(x) = x = F(f(x), x)$, where $F(y, x) = x$.\n",
    "\n",
    "1. $f'(x) = f(x)$, $f(0) = 2$, then the general solution is $f(x) = Ce^x$. With initial values $f(x) = 2e^x$\n",
    "\n",
    "    $f'(x) = f(x) = F(f(x), x)$, where $F(y, x) = y$.\n",
    "    \n",
    "    The most complex part of solving ODE in Octave is to obtain the $F$ function.\n",
    "    \n",
    "1. $f'(x) = x f(x) + f^2(x)$, $f(0) = ?$. We are not going to write the general solution, we are going just to write down the $F$ function.\n",
    "\n",
    "   $f'(x) = x f(x) + f^2(x) = F(f(x), x)$, where $F(y, x) = xy + y^2$\n",
    "1. $f'(x) = g(x)$; $g'(x) = -f(x)$, $f(0) = 0$, $g(0) = 1$. We just know these functions, they are $f(x) = \\sin(x)$, $g(x) = \\cos(x)$.\n",
    "\n",
    "   The most interesting question here is what does $F$ look like. In Octave we can not solve an ODE with two function, but we can solve ODE with one 2-dimentionals function:\n",
    "   \n",
    "   Let's define $h(x) = [f(x); g(x)] = \\begin{pmatrix}f(x)\\\\g(x)\\end{pmatrix}$. Then $h'(x) = [f'(x); g'(x)] = [g(x); -f(x)]$.\n",
    "   \n",
    "   So, what is $F$.\n",
    "   \n",
    "   $h'(x) = [g(x); -f(x)] = F(h(x), x)$, where $F(y, x) = [y(2); -y(1)]$ (y is column vector with 2 elements, `y(1)`, and `y(2)`)\n",
    "   \n",
    "1. $f''(x) + 2f'(x) + f(x) = x$, $f(0) = 0$. We need to have only one derivative, and the idea is to introduce another function: $g(x) = f'(x)$.\n",
    "\n",
    "    So, the first equation in our system of equation is: $f'(x) = g(x)$ (just as in the previous example!), and the second equation is $g'(x) = x - 2g(x) - f(x)$, because $g'(x) = f''(x)$. Again, introduce $h(x) = [f(x); g(x)]$.\n",
    "\n",
    "    So, $F$ is:\n",
    "    \n",
    "    $h'(x) = [f'(x); g'(x)] = [g(x); x - 2g(x) - f(x)] = F(h(x), x)$, where $F(y, x) = [y(2); x - 2y(2) - y(1)]$.\n",
    "\n",
    " "
   ]
  },
  {
   "cell_type": "markdown",
   "metadata": {},
   "source": [
    "## lsode function\n",
    "This function is not included in Matlab, it has `ode45`, `ode23` and some others to choose from. We use `lsode`, because this function has been a part of Octave for a long time, while matlab compliant solvers were implemented only in last versions of Octave.\n",
    "\n",
    "Read the help about lsode, although there is too much information we are not going to use"
   ]
  },
  {
   "cell_type": "code",
   "execution_count": 1,
   "metadata": {
    "collapsed": false
   },
   "outputs": [
    {
     "name": "stdout",
     "output_type": "stream",
     "text": [
      "'lsode' is a built-in function from the file libinterp/corefcn/lsode.cc\n",
      "\n",
      " -- [X, ISTATE, MSG] = lsode (FCN, X_0, T)\n",
      " -- [X, ISTATE, MSG] = lsode (FCN, X_0, T, T_CRIT)\n",
      "     Ordinary Differential Equation (ODE) solver.\n",
      "\n",
      "     The set of differential equations to solve is\n",
      "\n",
      "          dx\n",
      "          -- = f (x, t)\n",
      "          dt\n",
      "\n",
      "     with\n",
      "\n",
      "          x(t_0) = x_0\n",
      "\n",
      "     The solution is returned in the matrix X, with each row\n",
      "     corresponding to an element of the vector T.  The first element of\n",
      "     T should be t_0 and should correspond to the initial state of the\n",
      "     system X_0, so that the first row of the output is X_0.\n",
      "\n",
      "     The first argument, FCN, is a string, inline, or function handle\n",
      "     that names the function f to call to compute the vector of right\n",
      "     hand sides for the set of equations.  The function must have the\n",
      "     form\n",
      "\n",
      "          XDOT = f (X, T)\n",
      "\n",
      "     in which XDOT and X are vectors and T is a scalar.\n",
      "\n",
      "     If FCN is a two-element string array or a two-element cell array of\n",
      "     strings, inline functions, or function handles, the first element\n",
      "     names the function f described above, and the second element names\n",
      "     a function to compute the Jacobian of f.  The Jacobian function\n",
      "     must have the form\n",
      "\n",
      "          JAC = j (X, T)\n",
      "\n",
      "     in which JAC is the matrix of partial derivatives\n",
      "\n",
      "                       | df_1  df_1       df_1 |\n",
      "                       | ----  ----  ...  ---- |\n",
      "                       | dx_1  dx_2       dx_N |\n",
      "                       |                       |\n",
      "                       | df_2  df_2       df_2 |\n",
      "                       | ----  ----  ...  ---- |\n",
      "                df_i   | dx_1  dx_2       dx_N |\n",
      "          jac = ---- = |                       |\n",
      "                dx_j   |  .    .     .    .    |\n",
      "                       |  .    .      .   .    |\n",
      "                       |  .    .       .  .    |\n",
      "                       |                       |\n",
      "                       | df_N  df_N       df_N |\n",
      "                       | ----  ----  ...  ---- |\n",
      "                       | dx_1  dx_2       dx_N |\n",
      "\n",
      "     The second argument specifies the initial state of the system x_0.\n",
      "     The third argument is a vector, T, specifying the time values for\n",
      "     which a solution is sought.\n",
      "\n",
      "     The fourth argument is optional, and may be used to specify a set\n",
      "     of times that the ODE solver should not integrate past.  It is\n",
      "     useful for avoiding difficulties with singularities and points\n",
      "     where there is a discontinuity in the derivative.\n",
      "\n",
      "     After a successful computation, the value of ISTATE will be 2\n",
      "     (consistent with the Fortran version of LSODE).\n",
      "\n",
      "     If the computation is not successful, ISTATE will be something\n",
      "     other than 2 and MSG will contain additional information.\n",
      "\n",
      "     You can use the function 'lsode_options' to set optional parameters\n",
      "     for 'lsode'.\n",
      "\n",
      "     See also: daspk, dassl, dasrt.\n",
      "\n",
      "Additional help for built-in functions and operators is\n",
      "available in the online version of the manual.  Use the command\n",
      "'doc <topic>' to search the manual index.\n",
      "\n",
      "Help and information about Octave is also available on the WWW\n",
      "at http://www.octave.org and via the help@octave.org\n",
      "mailing list.\n"
     ]
    }
   ],
   "source": [
    "help lsode"
   ]
  },
  {
   "cell_type": "markdown",
   "metadata": {},
   "source": [
    "The notation in help is a little different, we write $y = f(x)$, and they write $x = x(t)$."
   ]
  },
  {
   "cell_type": "code",
   "execution_count": 2,
   "metadata": {
    "collapsed": false
   },
   "outputs": [
    {
     "data": {
      "image/png": "[encoded data removed]",
      "text/plain": [
       "<IPython.core.display.Image object>"
      ]
     },
     "metadata": {},
     "output_type": "display_data"
    }
   ],
   "source": [
    "# 1st example\n",
    "\n",
    "#initial values f(0) = 1\n",
    "\n",
    "F = @(y, x) x;\n",
    "y0 = 1; # this is the initial value, f(0)\n",
    "x = linspace(0, 3, 100); # from 0 to 3 with a small step\n",
    "y = lsode(F, y0, x);\n",
    "\n",
    "# y is now values of our function for points in x\n",
    "\n",
    "plot(x, y) # x^2 / 2\n",
    "hold on\n",
    "\n",
    "# another initial values f(-1) = 1\n",
    "x = linspace(-1, 3, 100);\n",
    "plot(x, lsode(F, 1, x))"
   ]
  },
  {
   "cell_type": "code",
   "execution_count": 3,
   "metadata": {
    "collapsed": false
   },
   "outputs": [
    {
     "data": {
      "image/png": "[encoded data removed]",
      "text/plain": [
       "<IPython.core.display.Image object>"
      ]
     },
     "metadata": {},
     "output_type": "display_data"
    }
   ],
   "source": [
    "# 2nd example\n",
    "\n",
    "F = @(y, x) y;\n",
    "y0 = 2;\n",
    "x = linspace(0, 3, 100);\n",
    "y = lsode(F, y0, x);\n",
    "\n",
    "plot(x, y)\n",
    "hold on\n",
    "plot(x, 2 * e .^ x) # the same answer !"
   ]
  },
  {
   "cell_type": "code",
   "execution_count": 4,
   "metadata": {
    "collapsed": false
   },
   "outputs": [
    {
     "data": {
      "image/png": "[encoded data removed]",
      "text/plain": [
       "<IPython.core.display.Image object>"
      ]
     },
     "metadata": {},
     "output_type": "display_data"
    }
   ],
   "source": [
    "# 3rd example\n",
    "\n",
    "F = @(y, x) x * y + y * y;\n",
    "x = linspace(0, 0.85, 100);\n",
    "y0 = 1;\n",
    "y = lsode(F, y0, x);\n",
    "\n",
    "plot(x, y) "
   ]
  },
  {
   "cell_type": "code",
   "execution_count": 7,
   "metadata": {
    "collapsed": false
   },
   "outputs": [
    {
     "data": {
      "image/png": "[encoded data removed]",
      "text/plain": [
       "<IPython.core.display.Image object>"
      ]
     },
     "metadata": {},
     "output_type": "display_data"
    }
   ],
   "source": [
    "## example 4\n",
    "\n",
    "F = @(y, x) [y(2), -y(1)];\n",
    "y0 = [0; 1]; #initial value for h(0) = [0; 1]: f(0) = 0; g(0) = 1\n",
    "x = linspace(0, 2 * pi, 100);\n",
    "y = lsode(F, y0, x);\n",
    "\n",
    "#plot(x, y) # y is two row matrix, each line is plotted separately\n",
    "plot(x, y(:, 1), 'g', x, y(:, 2), 'k')  # answer functions are given by columns"
   ]
  },
  {
   "cell_type": "code",
   "execution_count": 8,
   "metadata": {},
   "outputs": [
    {
     "data": {
      "image/png": "[encoded data removed]",
      "text/plain": [
       "<IPython.core.display.Image object>"
      ]
     },
     "metadata": {},
     "output_type": "display_data"
    }
   ],
   "source": [
    "# there is usually a situation, where f(x) and g(x) mean coordinates of a point, and x means time.\n",
    "plot(y(:, 1), y(:, 2))"
   ]
  },
  {
   "cell_type": "markdown",
   "metadata": {},
   "source": [
    "You see, that sine and cosine coordinates correspond to points on a circle with radius 1."
   ]
  },
  {
   "cell_type": "code",
   "execution_count": 9,
   "metadata": {
    "collapsed": false
   },
   "outputs": [
    {
     "data": {
      "image/png": "[encoded data removed]",
      "text/plain": [
       "<IPython.core.display.Image object>"
      ]
     },
     "metadata": {},
     "output_type": "display_data"
    }
   ],
   "source": [
    "## example 5\n",
    "\n",
    "F = @(y, x) [y(2), x - 2 * y(2) - y(1)];\n",
    "y0 = [0; 0];\n",
    "x = linspace(0, 3, 100);\n",
    "\n",
    "y = lsode(F, y0, x);\n",
    "\n",
    "plot(x, y(:, 1)) # we need only the first part of h(x) that is f(x), and we don't need g(x)=f'(x)"
   ]
  }
 ],
 "metadata": {
  "kernelspec": {
   "display_name": "Octave",
   "language": "octave",
   "name": "octave"
  },
  "language_info": {
   "file_extension": ".m",
   "help_links": [
    {
     "text": "GNU Octave",
     "url": "https://www.gnu.org/software/octave/support.html"
    },
    {
     "text": "Octave Kernel",
     "url": "https://github.com/Calysto/octave_kernel"
    },
    {
     "text": "MetaKernel Magics",
     "url": "https://github.com/calysto/metakernel/blob/master/metakernel/magics/README.md"
    }
   ],
   "mimetype": "text/x-octave",
   "name": "octave",
   "version": "4.2.2"
  }
 },
 "nbformat": 4,
 "nbformat_minor": 2
}
