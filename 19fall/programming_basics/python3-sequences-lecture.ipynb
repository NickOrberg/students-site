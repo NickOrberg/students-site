{
 "cells": [
  {
   "cell_type": "markdown",
   "metadata": {},
   "source": [
    "# Типы-последовательности\n",
    "Типов последовательностей в питоне много, можно создавать свои, мы начнем для примера со строки, списка, range:"
   ]
  },
  {
   "cell_type": "code",
   "execution_count": 17,
   "metadata": {},
   "outputs": [],
   "source": [
    "s = \"abc\"  # Строки тоже последовательности\n",
    "l = [10, 20, 30]  # список, последовательность элементов\n",
    "r = range(10)  # последовательность чисел от 1 до 9"
   ]
  },
  {
   "cell_type": "markdown",
   "metadata": {},
   "source": [
    "## Действия со значениями-последовательностями:"
   ]
  },
  {
   "cell_type": "code",
   "execution_count": 6,
   "metadata": {},
   "outputs": [
    {
     "name": "stdout",
     "output_type": "stream",
     "text": [
      "abcabcabc\n",
      "[10, 20, 30, 10, 20, 30, 10, 20, 30]\n"
     ]
    }
   ],
   "source": [
    "print(s * 3) # умножение повторяет \n",
    "print(l * 3) # последовательность несколько раз\n",
    "#print(r * 3) # но эта операция определена не для всех типов"
   ]
  },
  {
   "cell_type": "markdown",
   "metadata": {},
   "source": [
    "Оператор `in` (`not in`) проверяет, есть ли элемент в последовательности:"
   ]
  },
  {
   "cell_type": "code",
   "execution_count": 12,
   "metadata": {},
   "outputs": [
    {
     "name": "stdout",
     "output_type": "stream",
     "text": [
      "True\n",
      "True\n",
      "False\n",
      "True\n",
      "False\n",
      "True\n",
      "True\n",
      "True\n"
     ]
    }
   ],
   "source": [
    "print(\"b\" in s)  # для строк проверяется наличие буквы\n",
    "print(\"ab\" in s)  # или подстроки\n",
    "print(\"x\" in s)\n",
    "print(10 in l)\n",
    "print(10 not in l)\n",
    "print(5 in range(10))\n",
    "print(5 in r)"
   ]
  },
  {
   "cell_type": "markdown",
   "metadata": {},
   "source": [
    "Последовательности можно складывать:"
   ]
  },
  {
   "cell_type": "code",
   "execution_count": 14,
   "metadata": {},
   "outputs": [
    {
     "name": "stdout",
     "output_type": "stream",
     "text": [
      "abcxyz\n",
      "[10, 20, 30, 40, 50, 60]\n"
     ]
    }
   ],
   "source": [
    "print(\"abc\" + \"xyz\")  # сумма строк, ничего нового\n",
    "print([10, 20, 30] + [40, 50, 60]) # сумма списков\n",
    "# print(range(10) + range(20)) # а вот range не сложить"
   ]
  },
  {
   "cell_type": "markdown",
   "metadata": {},
   "source": [
    "Длина, минимальный, максимальный элемент последовательности:"
   ]
  },
  {
   "cell_type": "code",
   "execution_count": 16,
   "metadata": {},
   "outputs": [
    {
     "name": "stdout",
     "output_type": "stream",
     "text": [
      "3\n",
      "4\n",
      "a\n",
      "10\n"
     ]
    }
   ],
   "source": [
    "print(len(\"abc\"))\n",
    "print(len([10, 20, 30, 40]))\n",
    "print(min(\"abc\"))  # ищем минимальную букву в строке\n",
    "print(min([10, 20, 30, 40]))\n",
    "print(max(\"abc\"))  \n",
    "print(max([10, 20, 30, 40]))"
   ]
  },
  {
   "cell_type": "markdown",
   "metadata": {},
   "source": [
    "Поиск в последовательности:"
   ]
  },
  {
   "cell_type": "code",
   "execution_count": 24,
   "metadata": {},
   "outputs": [
    {
     "name": "stdout",
     "output_type": "stream",
     "text": [
      "1\n",
      "2\n",
      "3\n",
      "0\n",
      "5\n"
     ]
    }
   ],
   "source": [
    "print(\"abc\".index(\"b\")) # найти элемент в последовательности\n",
    "                        # и вернуть его индекс, начиная с 0\n",
    "# print(\"abc\".index(\"x\")) # ошибка, если не нашел элемент\n",
    "print([10, 20, 30].index(30))\n",
    "\n",
    "print(\"banana\".count(\"a\"))  # сколько раз элемент встречается\n",
    "print([10, 20, 30].count(42))\n",
    "\n",
    "print(range(10).index(5)) # 0, 1, 2, 3, 4, 5"
   ]
  },
  {
   "cell_type": "markdown",
   "metadata": {},
   "source": [
    "### Индексирование\n",
    "В квадратных скобках указываем индекс одного или нескольких\n",
    "элементов последовательности:"
   ]
  },
  {
   "cell_type": "code",
   "execution_count": 28,
   "metadata": {},
   "outputs": [
    {
     "name": "stdout",
     "output_type": "stream",
     "text": [
      "S\n",
      "u\n",
      "30\n"
     ]
    }
   ],
   "source": [
    "s = \"Supercalifragilisticexpialidocious\"\n",
    "print(s[0]) # одно число внутри квадратных скобок\n",
    "print(s[1]) # выбирает один элемент последовательности\n",
    "l = [10, 20, 30, 40]\n",
    "print(l[2])"
   ]
  },
  {
   "cell_type": "markdown",
   "metadata": {},
   "source": [
    "Можно указать диапазон элементов, для этого начало и конец диапазона записываются через двоеточие"
   ]
  },
  {
   "cell_type": "code",
   "execution_count": 32,
   "metadata": {},
   "outputs": [
    {
     "name": "stdout",
     "output_type": "stream",
     "text": [
      "Super\n",
      "fragilistic\n"
     ]
    }
   ],
   "source": [
    "print(s[0:5])  # взять элементы с 0 по 5 (не включительно)\n",
    "print(s[9:20]) # с 9 по 19"
   ]
  },
  {
   "cell_type": "markdown",
   "metadata": {},
   "source": [
    "Указывая диапазон, можно указать шаг, с которым изменяется индекс:"
   ]
  },
  {
   "cell_type": "code",
   "execution_count": 33,
   "metadata": {},
   "outputs": [
    {
     "name": "stdout",
     "output_type": "stream",
     "text": [
      "Sprai\n"
     ]
    }
   ],
   "source": [
    "print(s[0:10:2])  # Supercalifra...\n",
    "                  # * * * * *"
   ]
  },
  {
   "cell_type": "markdown",
   "metadata": {},
   "source": [
    "Отрицательные числа в индексах означают, что элемент отсчитывается с конца:"
   ]
  },
  {
   "cell_type": "code",
   "execution_count": 38,
   "metadata": {},
   "outputs": [
    {
     "name": "stdout",
     "output_type": "stream",
     "text": [
      "Supercalifragilisticexpialidocious\n",
      "s\n",
      "u\n",
      "upercalifragilisticexpialidociou\n",
      "suoicodilaipxecitsiligarfilacrepu\n",
      "socdlixctiiaflceu\n"
     ]
    }
   ],
   "source": [
    "print(s)\n",
    "print(s[-1])\n",
    "print(s[-2])\n",
    "print(s[1:-1]) # с первого индекса по последний, но последний не включается\n",
    "print(s[-1:0:-1]) # шаг, кстати, тоже может быть отрицательным\n",
    "print(s[-1:0:-2]) # прыгаем через две буквы с конца в начало"
   ]
  },
  {
   "cell_type": "markdown",
   "metadata": {},
   "source": [
    "Можно не указывать начальный или конечный индекс. Если не указан начальный, считается, что \"c самого начала\". Если не указан конечный, то \"до конца\":"
   ]
  },
  {
   "cell_type": "code",
   "execution_count": 42,
   "metadata": {},
   "outputs": [
    {
     "name": "stdout",
     "output_type": "stream",
     "text": [
      "califragilisticexpialidocious\n",
      "Super\n",
      "Supercalifragilisticexpialidocious\n",
      "acrepuS\n",
      "suoicodilaipxecitsiligarfilacrepuS\n"
     ]
    }
   ],
   "source": [
    "print(s[5:]) # с пятого индекса до конца\n",
    "print(s[:5]) # с начала до пятого индекса, не включительно\n",
    "print(s[:]) # с начала до конца (для строк это аналогично s)\n",
    "print(s[6::-1]) # с шестого индекса, в обратную строну\n",
    "print(s[::-1]) # переворачивание последовательности"
   ]
  },
  {
   "cell_type": "markdown",
   "metadata": {},
   "source": [
    "Для списков (и других последовательностей) возможность указывать индексы и диапазоны работает аналогично:"
   ]
  },
  {
   "cell_type": "code",
   "execution_count": 46,
   "metadata": {},
   "outputs": [
    {
     "name": "stdout",
     "output_type": "stream",
     "text": [
      "30\n",
      "[30, 40]\n",
      "[40, 30, 20, 10]\n"
     ]
    }
   ],
   "source": [
    "l = [10, 20, 30, 40]\n",
    "print(l[2])\n",
    "print(l[2:])\n",
    "print(l[::-1])"
   ]
  },
  {
   "cell_type": "markdown",
   "metadata": {},
   "source": [
    "## Списки (тип list)\n",
    "Список - структура данных для хранения нескольких значений. Типы значений могут быть произвольными. Записываются списки в квадратных скобках, значения через запятую:"
   ]
  },
  {
   "cell_type": "code",
   "execution_count": 49,
   "metadata": {},
   "outputs": [
    {
     "name": "stdout",
     "output_type": "stream",
     "text": [
      "hello\n",
      "[10, 20]\n",
      "20\n"
     ]
    }
   ],
   "source": [
    "l1 = [10, 20, 30, 40]\n",
    "l2 = [\"hello\", \"world\"]\n",
    "l3 = [10, 20, \"hello\", True]\n",
    "l4 = [10, [10, 20], False]\n",
    "\n",
    "print(l3[2])\n",
    "print(l4[1])\n",
    "print(l4[1][1])"
   ]
  },
  {
   "cell_type": "markdown",
   "metadata": {},
   "source": [
    "Получается, что списки - аналоги массивов в других языках. Если нужен многомерный массив, то делаются списки из списков.\n",
    "\n",
    "Как обычно, функция `list` умеет превращать в список любую последовательность:"
   ]
  },
  {
   "cell_type": "code",
   "execution_count": 59,
   "metadata": {},
   "outputs": [
    {
     "name": "stdout",
     "output_type": "stream",
     "text": [
      "['a', 'b', 'c']\n",
      "[0, 1, 2, 3, 4, 5, 6, 7, 8, 9]\n"
     ]
    }
   ],
   "source": [
    "# print(list(1)) # нельзя, 1 - это не последовательность\n",
    "print(list(\"abc\")) # строка - последовательность букв\n",
    "print(list(range(10))) # range(10) - числа от 0 до 9"
   ]
  },
  {
   "cell_type": "markdown",
   "metadata": {},
   "source": [
    "### Операции на списках:"
   ]
  },
  {
   "cell_type": "code",
   "execution_count": 70,
   "metadata": {},
   "outputs": [
    {
     "name": "stdout",
     "output_type": "stream",
     "text": [
      "[10, 21, 31, 41, 40]\n",
      "[10, 0, 1, 2, 3, 4, 5, 6, 7, 8, 9, 41, 40]\n",
      "[10, 2, 3, 4, 5, 6, 7, 8, 9, 41, 40]\n",
      "[10, 2, 3, 4, 5, 6, 7, 8, 9, 41, 40, 100]\n"
     ]
    }
   ],
   "source": [
    "l = [10, 20, 30, 40]\n",
    "l[1] = 21  # можно присваивать значения отдельным элементам списка\n",
    "l[1:3] = [21, 31, 41] # можно присвоить значение диапазону, т.е. вместо элементов\n",
    "                      # с индексами 1 и 2 будут указанные элементы\n",
    "print(l)\n",
    "\n",
    "l[1:3] = range(10)  # диапазону можно присвоить любую последовательность\n",
    "print(l)\n",
    "\n",
    "del l[1]   # можно удадить из списка один элемент\n",
    "del l[1:2] # или диапазон\n",
    "\n",
    "print(l)\n",
    "\n",
    "l.append(100) # присоединить элемент в конец списка\n",
    "print(l)"
   ]
  },
  {
   "cell_type": "markdown",
   "metadata": {},
   "source": [
    "Еще несколько возможностей по ссылке: ..."
   ]
  }
 ],
 "metadata": {
  "kernelspec": {
   "display_name": "Python 3",
   "language": "python",
   "name": "python3"
  },
  "language_info": {
   "codemirror_mode": {
    "name": "ipython",
    "version": 3
   },
   "file_extension": ".py",
   "mimetype": "text/x-python",
   "name": "python",
   "nbconvert_exporter": "python",
   "pygments_lexer": "ipython3",
   "version": "3.7.3"
  }
 },
 "nbformat": 4,
 "nbformat_minor": 2
}
