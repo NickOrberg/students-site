{
 "cells": [
  {
   "cell_type": "markdown",
   "metadata": {},
   "source": [
    "## List comprehension (списковый генератор, генератор списка)\n",
    "Это удобный способ создать список, его можно и нужно часто применять.\n",
    "Простейшая версия:\n",
    "```\n",
    "[выражение for переменная in перечисляемый_объект]\n",
    "```\n",
    "Все элементы перечисляемого объекта по очереди присваиваются переменной, вычисляется выражение и из результатов вычислений составляется список."
   ]
  },
  {
   "cell_type": "code",
   "execution_count": 1,
   "metadata": {},
   "outputs": [
    {
     "name": "stdout",
     "output_type": "stream",
     "text": [
      "[5, 10, 15]\n",
      "[5, 10, 15]\n"
     ]
    }
   ],
   "source": [
    "l = [10, 20, 30]\n",
    "print([x // 2 for x in l])\n",
    "print([x // 2 for x in (10, 20, 30)]) # для tuple"
   ]
  },
  {
   "cell_type": "markdown",
   "metadata": {},
   "source": [
    "Если мы пишем всё внутри квадратных скобок, будет создан список.\n",
    "\n",
    "Напомним теперь, что строка - это перечисление символов."
   ]
  },
  {
   "cell_type": "code",
   "execution_count": 3,
   "metadata": {},
   "outputs": [
    {
     "name": "stdout",
     "output_type": "stream",
     "text": [
      "['symbol H', 'symbol e', 'symbol l', 'symbol l', 'symbol o', 'symbol  ', 'symbol W', 'symbol o', 'symbol r', 'symbol l', 'symbol d']\n"
     ]
    }
   ],
   "source": [
    "print(['symbol ' + c for c in \"Hello World\"])"
   ]
  },
  {
   "cell_type": "markdown",
   "metadata": {},
   "source": [
    "Можно использовать условия, чтобы отфильтровать элементы списка:"
   ]
  },
  {
   "cell_type": "code",
   "execution_count": 4,
   "metadata": {},
   "outputs": [
    {
     "name": "stdout",
     "output_type": "stream",
     "text": [
      "[5, 11, 22]\n"
     ]
    }
   ],
   "source": [
    "l = [10, 22, 11, 44, 13]\n",
    "print([x // 2 for x in l if x % 2 == 0])"
   ]
  },
  {
   "cell_type": "markdown",
   "metadata": {},
   "source": [
    "Здесь были удалены все нечетные числа перед тем как начать вычислять выражение.\n",
    "Можно вставлять несколько for и несколько if"
   ]
  },
  {
   "cell_type": "code",
   "execution_count": 5,
   "metadata": {},
   "outputs": [
    {
     "name": "stdout",
     "output_type": "stream",
     "text": [
      "[0, 2, 10, 32, 110, 332]\n"
     ]
    }
   ],
   "source": [
    "l = [[1, 2, 3], [11, 22, 33], [111, 222, 333]]\n",
    "print([  \n",
    "         x - 1\n",
    "         for nums in l\n",
    "         if len(nums) == 3\n",
    "         for x in nums\n",
    "         if x % 2 == 1\n",
    "      ])"
   ]
  },
  {
   "cell_type": "markdown",
   "metadata": {},
   "source": [
    "Все вычисляется по порядку: сначала первый цикл, потом проверяется условие, потом следующий цикл, условие и вычисляется выражение, результат добавится в ответ.\n",
    "\n",
    "На самом деле конструкция генератора списков существует и для других типов. Отличие в том, что там выражение не в квадратных скобках. Поэтому внимательно смотрите, в каких скобках вы пишете генератор списка."
   ]
  }
 ],
 "metadata": {
  "kernelspec": {
   "display_name": "Python 3",
   "language": "python",
   "name": "python3"
  },
  "language_info": {
   "codemirror_mode": {
    "name": "ipython",
    "version": 3
   },
   "file_extension": ".py",
   "mimetype": "text/x-python",
   "name": "python",
   "nbconvert_exporter": "python",
   "pygments_lexer": "ipython3",
   "version": "3.7.3"
  }
 },
 "nbformat": 4,
 "nbformat_minor": 2
}
