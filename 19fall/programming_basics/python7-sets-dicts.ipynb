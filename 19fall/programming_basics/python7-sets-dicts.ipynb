{
 "cells": [
  {
   "cell_type": "markdown",
   "metadata": {},
   "source": [
    "# Множества, ассоциативные массивы\n",
    "\n",
    "## Множества\n",
    "Множество хранит набор значений, в отличие от списков:\n",
    "* один и тот же элемент не может входить в множество несколько раз;\n",
    "* в множествах нет понятия порядка элементов, т.е. нельзя обратиться к элементу\n",
    "  по номеру. Можно только перебрать все элементы в каком-то неопределенном порядке.\n",
    "* для множеств очень быстро работает операция проверки вхождения: `in`, `not in`.\n",
    "\n",
    "Как следствие, множество не является типом-последовательностью, в частности, с ним не работают индексирования, слайсы и т.п.\n",
    "\n",
    "Есть два типа множеств: `set` и `frozenset`. Отличие как у списка и кортежа. Т.е. `frozenset` неизменяемо. Оно эффективней.\n",
    "\n",
    "### Создание множества"
   ]
  },
  {
   "cell_type": "code",
   "execution_count": 1,
   "metadata": {},
   "outputs": [
    {
     "name": "stdout",
     "output_type": "stream",
     "text": [
      "{'c', 'b', 'a'}\n",
      "{'0', '4', '5', '6', '1', '8', '7', '3', '9', '2'}\n"
     ]
    }
   ],
   "source": [
    "s1 = {10, 20, 30}  # перечисляем элементы, в фигурных скобках\n",
    "s2 = {}  # это не пустое множество, это словарь (см. далее)\n",
    "s3 = set()  # а это уже пустое множество\n",
    "s4 = set(\"abc\")  # как и list(), превращает в множество любое перечисление\n",
    "s5 = {str(i) for i in range(10)}  # как списковый генератор, только в {}\n",
    "print(s4)\n",
    "print(s5)"
   ]
  },
  {
   "cell_type": "markdown",
   "metadata": {},
   "source": [
    "### Действия с множествами"
   ]
  },
  {
   "cell_type": "code",
   "execution_count": 2,
   "metadata": {},
   "outputs": [
    {
     "name": "stdout",
     "output_type": "stream",
     "text": [
      "3\n",
      "True\n",
      "False\n",
      "False\n",
      "True\n",
      "True\n",
      "False\n",
      "False\n",
      "False\n",
      "{20, 40, 10, 30}\n",
      "{20, 30}\n",
      "{10}\n",
      "{40, 10}\n",
      "{10, 20, 30}\n"
     ]
    }
   ],
   "source": [
    "print(len(s1))  # длина (неудивительно, мы знаем,\n",
    "                # что len это длина любого перечисления)\n",
    "print(20 in s1) # проверка вхождения\n",
    "print(20 not in s1)\n",
    "\n",
    "s1 = {10, 20, 30}\n",
    "s2 = {20, 30, 40}\n",
    "s3 = {20, 40}\n",
    "\n",
    "print(s3 <= s1)  # подмножество или нет?\n",
    "print(s2 >= s3)  # тоже, подмножество или нет? (s3 подмножество)\n",
    "print(s3 < s2)  # s3 подмножество s2, но с меньшим числом элементов\n",
    "print(s3 < s3)\n",
    "print(s1 == s2)  # проверка, что в множествах одинаковые элементы\n",
    "print(s1 is s2)  # напоминание. is проверяет, что это один и тот же объект\n",
    "print(s1 | s2)  # объединение\n",
    "print(s1 & s2)  # пересечение множеств\n",
    "print(s1 - s2)  # разность множеств\n",
    "print(s1 ^ s2)  # симметрическая разность. Элементы, которые в одном из множеств,\n",
    "                # но не в обоих\n",
    "print(s1.copy())  # есть копирование множества"
   ]
  },
  {
   "cell_type": "markdown",
   "metadata": {},
   "source": [
    "У всех операторов есть варианты в виде метода. Например:"
   ]
  },
  {
   "cell_type": "code",
   "execution_count": 3,
   "metadata": {},
   "outputs": [
    {
     "name": "stdout",
     "output_type": "stream",
     "text": [
      "{20, 40, 10, 30}\n",
      "{20, 40, 10, 30}\n"
     ]
    }
   ],
   "source": [
    "print(s1 | s2)\n",
    "print(s1.union(s2))  # аналогично предыдущему"
   ]
  },
  {
   "cell_type": "markdown",
   "metadata": {},
   "source": [
    "У версий в виде методов можно в качестве второго множества указывать произвольные перечисления:"
   ]
  },
  {
   "cell_type": "code",
   "execution_count": 4,
   "metadata": {},
   "outputs": [
    {
     "name": "stdout",
     "output_type": "stream",
     "text": [
      "{'c', 'b', 'z', 'a'}\n"
     ]
    }
   ],
   "source": [
    "s = {'a', 'b', 'z'}\n",
    "# print(s1 | \"abc\") # нельзя, только множество со множеством\n",
    "print(s.union(\"abc\")) # можно перечисление"
   ]
  },
  {
   "cell_type": "markdown",
   "metadata": {},
   "source": [
    "Другие названия методов вместо операторов, см. [документация]https://docs.python.org/3/library/stdtypes.html#set-types-set-frozenset)."
   ]
  },
  {
   "cell_type": "markdown",
   "metadata": {},
   "source": [
    "### Операции по изменению множества\n",
    "Это то, что не будет работать с `frozenset`."
   ]
  },
  {
   "cell_type": "code",
   "execution_count": 5,
   "metadata": {},
   "outputs": [
    {
     "name": "stdout",
     "output_type": "stream",
     "text": [
      "{10, 20, 30}\n",
      "{10, 30}\n",
      "10\n",
      "{30}\n",
      "{5, 6, 7}\n"
     ]
    }
   ],
   "source": [
    "s1 = set()  # пустое множество\n",
    "s1.add(10)  # добавить один элемент\n",
    "s1.add(20)\n",
    "s1.add(30)\n",
    "print(s1)   \n",
    "s1.remove(20)  # удалить элемент\n",
    "print(s1)  \n",
    "# s1.remove(20)  # удалить отсутствующий элемент - возникает ошибка\n",
    "s1.discard(20)  # удалить элемент, но здесь не возникнет ошибка, если его нет\n",
    "print(s1.pop())  # взять произвольный элемент множества и удалить его\n",
    "print(s1)  # s1 теперь без вынутого элемента\n",
    "s1.clear()  # очистка множества\n",
    "\n",
    "# есть ряд методов типа:\n",
    "s1 |= {5, 6, 7}  # эквивалентно s1 = s1 | {5, 6 7}\n",
    "s1.update({5, 6, 7})  # эквивалентно предыдущему, зато можно передать\n",
    "                      # перечисление.\n",
    "print(s1)"
   ]
  },
  {
   "cell_type": "markdown",
   "metadata": {},
   "source": [
    "Другие функции типа `update`, см. [документация](https://docs.python.org/3/library/stdtypes.html#set-types-set-frozenset).\n",
    "\n",
    "### Содержимое множества\n",
    "Не любой объект можно поместить в множество. Только \"хэшируемый\". Это:\n",
    "* числа\n",
    "* строки\n",
    "* обычно, неизменяемые объекты типа кортежа и frozenset.\n",
    "* изменяемые объекты никогда не могут использоваться в множестве. Т.е. списки, обычные множества - нет."
   ]
  },
  {
   "cell_type": "markdown",
   "metadata": {},
   "source": [
    "## Отступление. Деструктуризация при присваивании\n",
    "Если есть какая-то структура со значениями внутри (список, кортеж, другая последовательность), то можно ее присвоить такой же структуре переменных:"
   ]
  },
  {
   "cell_type": "code",
   "execution_count": 6,
   "metadata": {},
   "outputs": [
    {
     "name": "stdout",
     "output_type": "stream",
     "text": [
      "10 20 30\n"
     ]
    }
   ],
   "source": [
    "a = [10, 20, 30]\n",
    "[x, y, z] = a\n",
    "print(x, y, z)\n",
    "# [x, y] = a  # ошибка\n",
    "# [x, y, z, t] = a  # ошибка"
   ]
  },
  {
   "cell_type": "markdown",
   "metadata": {},
   "source": [
    "Аналогично с кортежами:"
   ]
  },
  {
   "cell_type": "code",
   "execution_count": 7,
   "metadata": {},
   "outputs": [
    {
     "name": "stdout",
     "output_type": "stream",
     "text": [
      "10 20 30\n",
      "20 10\n"
     ]
    }
   ],
   "source": [
    "c = 10, 20, 30\n",
    "x, y, z = c\n",
    "print(x, y, z)\n",
    "\n",
    "x, y = y, x  # !! запомните этот пример, обмен значений переменных\n",
    "print(x, y)"
   ]
  },
  {
   "cell_type": "markdown",
   "metadata": {},
   "source": [
    "Пример реального использования, он тоже важный, прошу запомнить."
   ]
  },
  {
   "cell_type": "code",
   "execution_count": 8,
   "metadata": {},
   "outputs": [
    {
     "name": "stdout",
     "output_type": "stream",
     "text": [
      "0 10\n",
      "1 20\n",
      "2 30\n",
      "3 xyz\n",
      "<enumerate object at 0x000002A11FAF8D38>\n",
      "[(0, 10), (1, 20), (2, 30), (3, 'xyz')]\n"
     ]
    }
   ],
   "source": [
    "a = [10, 20, 30, \"xyz\"]\n",
    "# хотим перечислить значения списка и их индексы:\n",
    "for i in range(len(a)):\n",
    "    print(i, a[i]) # индекс и значение\n",
    "# рекомендуется делать иначе:\n",
    "# enumerate(a) - последовательность кортежей из индекса и значения:\n",
    "print(enumerate(a))\n",
    "print(list(enumerate(a)))"
   ]
  },
  {
   "cell_type": "code",
   "execution_count": 9,
   "metadata": {},
   "outputs": [
    {
     "name": "stdout",
     "output_type": "stream",
     "text": [
      "(0, 10) 0 10\n",
      "(1, 20) 1 20\n",
      "(2, 30) 2 30\n",
      "(3, 'xyz') 3 xyz\n"
     ]
    }
   ],
   "source": [
    "for indAndValue in enumerate(a):\n",
    "    print(indAndValue, indAndValue[0], indAndValue[1])"
   ]
  },
  {
   "cell_type": "markdown",
   "metadata": {},
   "source": [
    "Лучше всего сделать так:"
   ]
  },
  {
   "cell_type": "code",
   "execution_count": 10,
   "metadata": {},
   "outputs": [
    {
     "name": "stdout",
     "output_type": "stream",
     "text": [
      "0 10\n",
      "1 20\n",
      "2 30\n",
      "3 xyz\n"
     ]
    }
   ],
   "source": [
    "for i, x in enumerate(a):  # деструктуризация при присваивании в i, x\n",
    "    print(i, x)"
   ]
  },
  {
   "cell_type": "markdown",
   "metadata": {},
   "source": [
    "## Словари (ассоциативные массивы)\n",
    "Обычный массив (в питоне это список) можно понимать как функцию, которая сопоставляет начальному отрезку натурального ряда какие-то значения:"
   ]
  },
  {
   "cell_type": "code",
   "execution_count": 11,
   "metadata": {},
   "outputs": [],
   "source": [
    "a = [10, 20, 30, \"xyz\"]"
   ]
  },
  {
   "cell_type": "markdown",
   "metadata": {},
   "source": [
    "`a` - это функция, которая числам от 0 до 3 сопоставляет следующие значения:"
   ]
  },
  {
   "cell_type": "code",
   "execution_count": 12,
   "metadata": {},
   "outputs": [
    {
     "name": "stdout",
     "output_type": "stream",
     "text": [
      "a[0] = 10\n",
      "a[1] = 20\n",
      "a[2] = 30\n",
      "a[3] = xyz\n"
     ]
    }
   ],
   "source": [
    "for i, x in enumerate(a):\n",
    "    print(f\"a[{i}] = {x}\")"
   ]
  },
  {
   "cell_type": "markdown",
   "metadata": {},
   "source": [
    "другие индексы кроме 0, 1, 2, 3 в `a` подставлять нельзя, будет ошибка:"
   ]
  },
  {
   "cell_type": "code",
   "execution_count": 13,
   "metadata": {},
   "outputs": [
    {
     "ename": "IndexError",
     "evalue": "list index out of range",
     "output_type": "error",
     "traceback": [
      "\u001b[1;31m---------------------------------------------------------------------------\u001b[0m",
      "\u001b[1;31mIndexError\u001b[0m                                Traceback (most recent call last)",
      "\u001b[1;32m<ipython-input-13-624e937164e7>\u001b[0m in \u001b[0;36m<module>\u001b[1;34m\u001b[0m\n\u001b[1;32m----> 1\u001b[1;33m \u001b[0ma\u001b[0m\u001b[1;33m[\u001b[0m\u001b[1;36m4\u001b[0m\u001b[1;33m]\u001b[0m  \u001b[1;31m# index error, неправильное число\u001b[0m\u001b[1;33m\u001b[0m\u001b[1;33m\u001b[0m\u001b[0m\n\u001b[0m\u001b[0;32m      2\u001b[0m \u001b[0ma\u001b[0m\u001b[1;33m[\u001b[0m\u001b[1;34m\"cat\"\u001b[0m\u001b[1;33m]\u001b[0m  \u001b[1;31m# type error, можно только числа\u001b[0m\u001b[1;33m\u001b[0m\u001b[1;33m\u001b[0m\u001b[0m\n",
      "\u001b[1;31mIndexError\u001b[0m: list index out of range"
     ]
    }
   ],
   "source": [
    "a[4]  # index error, неправильное число\n",
    "a[\"cat\"]  # type error, можно только числа"
   ]
  },
  {
   "cell_type": "markdown",
   "metadata": {},
   "source": [
    "В ассоциативном массиве (в словаре) индексы могут быть любыми: и произвольными числами, и строками, и любыми объектами, которые можно использовать в множествах (см. выше)"
   ]
  },
  {
   "cell_type": "markdown",
   "metadata": {},
   "source": [
    "### Создание словаря\n",
    "Тип данных `dict`. Словарь хранит некоторое количество ключей, и для каждого ключа - связанное с ним значение. Можно считать, что словарь - это набор пар из ключа и значения. В словарях очень быстро работает поиск значения по ключу."
   ]
  },
  {
   "cell_type": "code",
   "execution_count": 14,
   "metadata": {},
   "outputs": [
    {
     "name": "stdout",
     "output_type": "stream",
     "text": [
      "True\n",
      "{'abc': 3, 'xy': 2, 'hello': 5}\n"
     ]
    }
   ],
   "source": [
    "a = {'one': 1, 'two': 2, 'three': 3}\n",
    "b = {}  # пустой словарь\n",
    "c = dict(one=1, two=2, three=3)  # функция, в которой у аргументов есть имена\n",
    "                                 # пока мы это встречали только в ф-ии `open`\n",
    "d = dict([(\"one\", 1), (\"two\", 2), (\"three\", 3)])  # любое перечисление тьюплов\n",
    "e = dict({'one': 1, 'two': 2, 'three': 3})  # копия словаря\n",
    "print(a == c == d == e)\n",
    "\n",
    "f = {word : len(word) for word in (\"abc\", \"xy\", \"hello\")} # как генератор списка\n",
    "print(f)"
   ]
  },
  {
   "cell_type": "markdown",
   "metadata": {},
   "source": [
    "Созданные словари (`a`, `c`, `d`, `e`) имеют три записи по ключам (индексам) `\"one\"`, `\"two\"`, `\"three\"`:"
   ]
  },
  {
   "cell_type": "code",
   "execution_count": 15,
   "metadata": {},
   "outputs": [
    {
     "name": "stdout",
     "output_type": "stream",
     "text": [
      "1\n"
     ]
    }
   ],
   "source": [
    "print(a[\"one\"])"
   ]
  },
  {
   "cell_type": "markdown",
   "metadata": {},
   "source": [
    "Классический пример использования словарей - это записать для каждого слова из текста, сколько раз оно встречается в тексте."
   ]
  },
  {
   "cell_type": "markdown",
   "metadata": {},
   "source": [
    "### Действия со словарями\n",
    "#### Обращение к записям в словаре"
   ]
  },
  {
   "cell_type": "code",
   "execution_count": 16,
   "metadata": {},
   "outputs": [
    {
     "name": "stdout",
     "output_type": "stream",
     "text": [
      "1\n",
      "True\n",
      "True\n",
      "1\n",
      "42\n",
      "None\n",
      "100\n"
     ]
    },
    {
     "data": {
      "text/plain": [
       "100"
      ]
     },
     "execution_count": 16,
     "metadata": {},
     "output_type": "execute_result"
    }
   ],
   "source": [
    "d = {'one': 1, 'two': 2, 'three': 3}\n",
    "print(d['one'])  # узнаю значение по ключу\n",
    "# print(d['seven'])  # ошибка KeyError\n",
    "d['seven'] = 6 # можно присвоить\n",
    "d['seven'] = 7 # или перезаписать\n",
    "del d['three']  # удалить значение\n",
    "print('one' in d)  # проверка, что для ключа есть значение\n",
    "print('six' not in d)  # что нет значения\n",
    "# d.clear()   очистить\n",
    "# e = d.copy() скопировать\n",
    "d.update({'twenty': 20, 'thirty': 30})  # дополнить словарь новыми значениями\n",
    "d.update([(\"fourty\", 40), (\"sixty\", 60)])  # перечисление пар\n",
    "d.update(seventy=70, eighty=80)  # еще так можно указать новые пары\n",
    "print(d.get(\"one\"))  # Аналогично d[\"one\"], но никогда не генерирует ошибку\n",
    "print(d.get(\"five\", 42))  # если записи для ключа нет, вернется 42\n",
    "print(d.get(\"eleven\"))  # если записи для ключа нет, вернется None\n",
    "\n",
    "print(d.setdefault(\"hundred\", 100)) # см. ниже\n",
    "d.setdefault(\"hundred\", 101)"
   ]
  },
  {
   "cell_type": "markdown",
   "metadata": {},
   "source": [
    "`setdefault` Если ключ есть в словаре, то возвращается значение, и со словарем ничего не происходит. Иначе для этого ключа вставляется указанное значение и тоже возвращается. Т.е. это `get`, который устанавливает значение ключу, если его не было. Второй аргумент это как раз новое значение для ключа."
   ]
  },
  {
   "cell_type": "markdown",
   "metadata": {},
   "source": [
    "#### Перечисление содержимого словаря\n",
    "Словарь можно воспринимать как перечисление ключей:"
   ]
  },
  {
   "cell_type": "code",
   "execution_count": 17,
   "metadata": {},
   "outputs": [
    {
     "name": "stdout",
     "output_type": "stream",
     "text": [
      "['one', 'two', 'seven', 'twenty', 'thirty', 'fourty', 'sixty', 'seventy', 'eighty', 'hundred']\n",
      "10\n",
      "True\n",
      "Переберем все ключи в цикле\n",
      "    one\n",
      "    two\n",
      "    seven\n",
      "    twenty\n",
      "    thirty\n",
      "    fourty\n",
      "    sixty\n",
      "    seventy\n",
      "    eighty\n",
      "    hundred\n"
     ]
    }
   ],
   "source": [
    "print(list(d))\n",
    "print(len(d))  # количество ключей (записей) в словаре \n",
    "print('one' in d)  # можно проверить вхождение ключа в перечисление ключей\n",
    "\n",
    "print(\"Переберем все ключи в цикле\")\n",
    "for key in d:\n",
    "    print(\"   \", key)"
   ]
  },
  {
   "cell_type": "markdown",
   "metadata": {},
   "source": [
    "Три метода `d.keys()`, `d.values()`, `d.items()` - это перечисления, соответственно, ключей, значений и пар ключ-значение."
   ]
  },
  {
   "cell_type": "code",
   "execution_count": 18,
   "metadata": {},
   "outputs": [
    {
     "name": "stdout",
     "output_type": "stream",
     "text": [
      "['one', 'two', 'seven', 'twenty', 'thirty', 'fourty', 'sixty', 'seventy', 'eighty', 'hundred']\n",
      "[1, 2, 7, 20, 30, 40, 60, 70, 80, 100]\n",
      "[('one', 1), ('two', 2), ('seven', 7), ('twenty', 20), ('thirty', 30), ('fourty', 40), ('sixty', 60), ('seventy', 70), ('eighty', 80), ('hundred', 100)]\n"
     ]
    }
   ],
   "source": [
    "print(list(d.keys()))  # аналогично list(d)\n",
    "print(list(d.values()))\n",
    "print(list(d.items()))"
   ]
  },
  {
   "cell_type": "markdown",
   "metadata": {},
   "source": [
    "Идеоматический код перебора элементов словаря:"
   ]
  },
  {
   "cell_type": "code",
   "execution_count": 19,
   "metadata": {},
   "outputs": [
    {
     "name": "stdout",
     "output_type": "stream",
     "text": [
      "d[one] = 1\n",
      "d[two] = 2\n",
      "d[seven] = 7\n",
      "d[twenty] = 20\n",
      "d[thirty] = 30\n",
      "d[fourty] = 40\n",
      "d[sixty] = 60\n",
      "d[seventy] = 70\n",
      "d[eighty] = 80\n",
      "d[hundred] = 100\n"
     ]
    }
   ],
   "source": [
    "for key, val in d.items():\n",
    "    print(f\"d[{key}] = {val}\")"
   ]
  }
 ],
 "metadata": {
  "kernelspec": {
   "display_name": "Python 3",
   "language": "python",
   "name": "python3"
  },
  "language_info": {
   "codemirror_mode": {
    "name": "ipython",
    "version": 3
   },
   "file_extension": ".py",
   "mimetype": "text/x-python",
   "name": "python",
   "nbconvert_exporter": "python",
   "pygments_lexer": "ipython3",
   "version": "3.7.3"
  }
 },
 "nbformat": 4,
 "nbformat_minor": 2
}
