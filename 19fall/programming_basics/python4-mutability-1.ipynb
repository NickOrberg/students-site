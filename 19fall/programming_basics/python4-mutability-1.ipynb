{
 "cells": [
  {
   "cell_type": "markdown",
   "metadata": {},
   "source": [
    "# Изменяемые и неизменяемые объекты\n",
    "Сначала несколько примеров \"странного\" поведения программы."
   ]
  },
  {
   "cell_type": "code",
   "execution_count": 4,
   "metadata": {},
   "outputs": [
    {
     "name": "stdout",
     "output_type": "stream",
     "text": [
      "a = [10, 20, 30], b = [10, 20], c = [10, 20, 30]\n",
      "a = [11, 20, 30], b = [10, 20], c = [11, 20, 30]\n"
     ]
    }
   ],
   "source": [
    "a = [10, 20, 30]\n",
    "b = a[:-1]\n",
    "c = a\n",
    "print(f\"a = {a}, b = {b}, c = {c}\")\n",
    "a[0] = 11\n",
    "print(f\"a = {a}, b = {b}, c = {c}\")"
   ]
  },
  {
   "cell_type": "code",
   "execution_count": 11,
   "metadata": {},
   "outputs": [
    {
     "name": "stdout",
     "output_type": "stream",
     "text": [
      "a = [[1, 2, 3], [1, 2, 3], [1, 2, 3], [1, 2, 3], [1, 2, 3]]\n",
      "a[0] = [1, 2, 3]\n",
      "a = [[10, 20, 30], [1, 2, 3], [1, 2, 3], [1, 2, 3], [1, 2, 3]]\n",
      "a[1] = [1, 2, 3]\n",
      "a = [[10, 20, 30], [8, 2, 3], [8, 2, 3], [8, 2, 3], [8, 2, 3]]\n"
     ]
    }
   ],
   "source": [
    "a = [[1, 2, 3]] * 5\n",
    "print(f\"a = {a}\")\n",
    "print(f\"a[0] = {a[0]}\")\n",
    "a[0] = [10, 20, 30]\n",
    "print(f\"a = {a}\")\n",
    "print(f\"a[1] = {a[1]}\")\n",
    "a[1][0] = 8\n",
    "print(f\"a = {a}\")"
   ]
  },
  {
   "cell_type": "markdown",
   "metadata": {},
   "source": [
    "Частая ошибка:"
   ]
  },
  {
   "cell_type": "code",
   "execution_count": 13,
   "metadata": {},
   "outputs": [
    {
     "name": "stdout",
     "output_type": "stream",
     "text": [
      "a = [[], [], [], [], []]\n",
      "a = [[42], [42], [42], [42], [42]]\n"
     ]
    }
   ],
   "source": [
    "a = [[]] * 5  # повторить внутренний элемент (пустой []) пять раз\n",
    "print(f\"a = {a}\")\n",
    "a[0].append(42)\n",
    "print(f\"a = {a}\")  # добавилось везде"
   ]
  },
  {
   "cell_type": "markdown",
   "metadata": {},
   "source": [
    "В переменных в python иногда хранятся значения, а иногда ссылки на значения. Значения хранятся только для \"простых типов\": чисел, логических значений и т.п. Практически все остальное хранится в виде ссылки."
   ]
  },
  {
   "cell_type": "markdown",
   "metadata": {},
   "source": [
    "В первом примере переменные `a`, `c` указывают на один и тот же список. А переменная b хранит список, полученный операцией слайса.\n",
    "`b = a[:-1]`. **Слайс копирует список или другой объект, к которому применен**.\n",
    "Поэтому иногда пишут `a[:]` со смыслом, что это копия списка `a`.\n",
    "\n",
    "## Еще примеры"
   ]
  },
  {
   "cell_type": "code",
   "execution_count": 14,
   "metadata": {},
   "outputs": [
    {
     "ename": "TypeError",
     "evalue": "'tuple' object does not support item assignment",
     "output_type": "error",
     "traceback": [
      "\u001b[1;31m---------------------------------------------------------------------------\u001b[0m",
      "\u001b[1;31mTypeError\u001b[0m                                 Traceback (most recent call last)",
      "\u001b[1;32m<ipython-input-14-75718204a6ec>\u001b[0m in \u001b[0;36m<module>\u001b[1;34m\u001b[0m\n\u001b[0;32m      1\u001b[0m \u001b[0ma\u001b[0m \u001b[1;33m=\u001b[0m \u001b[1;36m10\u001b[0m\u001b[1;33m,\u001b[0m \u001b[1;36m20\u001b[0m\u001b[1;33m,\u001b[0m \u001b[1;36m30\u001b[0m  \u001b[1;31m# кортеж\u001b[0m\u001b[1;33m\u001b[0m\u001b[1;33m\u001b[0m\u001b[0m\n\u001b[0;32m      2\u001b[0m \u001b[0mb\u001b[0m \u001b[1;33m=\u001b[0m \u001b[0ma\u001b[0m\u001b[1;33m\u001b[0m\u001b[1;33m\u001b[0m\u001b[0m\n\u001b[1;32m----> 3\u001b[1;33m \u001b[0ma\u001b[0m\u001b[1;33m[\u001b[0m\u001b[1;36m1\u001b[0m\u001b[1;33m]\u001b[0m \u001b[1;33m=\u001b[0m \u001b[1;36m22\u001b[0m\u001b[1;33m\u001b[0m\u001b[1;33m\u001b[0m\u001b[0m\n\u001b[0m\u001b[0;32m      4\u001b[0m \u001b[0mprint\u001b[0m\u001b[1;33m(\u001b[0m\u001b[1;34mf\"a = {a}, b = {b}\"\u001b[0m\u001b[1;33m)\u001b[0m\u001b[1;33m\u001b[0m\u001b[1;33m\u001b[0m\u001b[0m\n",
      "\u001b[1;31mTypeError\u001b[0m: 'tuple' object does not support item assignment"
     ]
    }
   ],
   "source": [
    "a = 10, 20, 30  # кортеж\n",
    "b = a\n",
    "a[1] = 22  # Невозможно для tuple\n",
    "print(f\"a = {a}, b = {b}\")"
   ]
  },
  {
   "cell_type": "markdown",
   "metadata": {},
   "source": [
    "Но если все-таки нужно очень изменить какой-то элемент кортежа, создайте новый:"
   ]
  },
  {
   "cell_type": "code",
   "execution_count": 17,
   "metadata": {},
   "outputs": [
    {
     "name": "stdout",
     "output_type": "stream",
     "text": [
      "a = (10, 20, 30, 40, 50, 60, 70), b = (10, 20, 30, 44, 50, 60, 70)\n"
     ]
    }
   ],
   "source": [
    "a = 10, 20, 30, 40, 50, 60, 70\n",
    "# a[3] = 44 \n",
    "b = a[:3] + (44,) + a[4:]\n",
    "print(f\"a = {a}, b = {b}\")"
   ]
  },
  {
   "cell_type": "code",
   "execution_count": 19,
   "metadata": {},
   "outputs": [
    {
     "name": "stdout",
     "output_type": "stream",
     "text": [
      "a = (10, ['abc', 'xyz'], 20)\n",
      "a = (10, ['cba', 'xyz'], 20)\n"
     ]
    }
   ],
   "source": [
    "l = [\"abc\", \"xyz\"]\n",
    "a = 10, l, 20\n",
    "print(f\"a = {a}\")\n",
    "l[0] = 'cba'\n",
    "print(f\"a = {a}\")"
   ]
  },
  {
   "cell_type": "markdown",
   "metadata": {},
   "source": [
    "Здесь сам кортеж не изменился, но изменились другие объекты внутри него."
   ]
  },
  {
   "cell_type": "code",
   "execution_count": 21,
   "metadata": {},
   "outputs": [
    {
     "name": "stdout",
     "output_type": "stream",
     "text": [
      "l = [111, 222, 333]\n",
      "after f1, l = [42, 222, 333]\n",
      "after f2, l = [42, 222, 333]\n"
     ]
    }
   ],
   "source": [
    "def f1(a):\n",
    "    a[0] = 42\n",
    "    \n",
    "def f2(a):\n",
    "    a = 42\n",
    "    \n",
    "l = [111, 222, 333]\n",
    "print(f\"l = {l}\")\n",
    "f1(l)\n",
    "print(f\"after f1, l = {l}\")\n",
    "f2(l)\n",
    "print(f\"after f2, l = {l}\")"
   ]
  },
  {
   "cell_type": "markdown",
   "metadata": {},
   "source": [
    "Функция `f1` смогла изменить список `l`, потому что изменила его содержимое.\n",
    "Функция `f2` не смогла изменить список `l`, потому что изменила только свою переменную `a`.\n",
    "\n",
    "Поэтому писать функции нужно аккуратно, и думать, не изменяет ли она какие-то внешние данные, в частности, переданные в аргументах."
   ]
  }
 ],
 "metadata": {
  "kernelspec": {
   "display_name": "Python 3",
   "language": "python",
   "name": "python3"
  },
  "language_info": {
   "codemirror_mode": {
    "name": "ipython",
    "version": 3
   },
   "file_extension": ".py",
   "mimetype": "text/x-python",
   "name": "python",
   "nbconvert_exporter": "python",
   "pygments_lexer": "ipython3",
   "version": "3.7.3"
  }
 },
 "nbformat": 4,
 "nbformat_minor": 2
}
