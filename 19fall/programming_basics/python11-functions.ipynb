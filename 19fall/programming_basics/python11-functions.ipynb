{
 "cells": [
  {
   "cell_type": "markdown",
   "metadata": {},
   "source": [
    "# Функции как объекты первого рода"
   ]
  },
  {
   "cell_type": "code",
   "execution_count": 1,
   "metadata": {},
   "outputs": [
    {
     "name": "stdout",
     "output_type": "stream",
     "text": [
      "11\n",
      "20\n"
     ]
    }
   ],
   "source": [
    "def f(x):\n",
    "    return x + 1\n",
    "\n",
    "def g(x):\n",
    "    return 2 * x\n",
    "\n",
    "h = f  # это не тоже самое, что h = f(). Нет скобок!\n",
    "print(h(10))\n",
    "h = g\n",
    "print(h(10))"
   ]
  },
  {
   "cell_type": "markdown",
   "metadata": {},
   "source": [
    "Т.е. переменная `h` хранит функции. Функция - это еще один тип данных в python. Функции можно хранить в перменных, можно передавать внутрь других функций, можно возвращать из функций, хранить в списке, делать все то же, что можно и со значениями любых других типов."
   ]
  },
  {
   "cell_type": "code",
   "execution_count": 2,
   "metadata": {},
   "outputs": [
    {
     "name": "stdout",
     "output_type": "stream",
     "text": [
      "101\n",
      "200\n"
     ]
    }
   ],
   "source": [
    "for fun in f, g:  # кортеж (f, g)\n",
    "    print(fun(100))"
   ]
  },
  {
   "cell_type": "markdown",
   "metadata": {},
   "source": [
    "## Лямбда выражения\n",
    "Короткий способ задания безымянных функций"
   ]
  },
  {
   "cell_type": "code",
   "execution_count": 3,
   "metadata": {},
   "outputs": [
    {
     "name": "stdout",
     "output_type": "stream",
     "text": [
      "11\n",
      "20\n",
      "25\n",
      "x = 10\n"
     ]
    }
   ],
   "source": [
    "f = lambda x: x + 1  # функция, если ей дать x, она вернет x + 1\n",
    "g = lambda x: 2 * x\n",
    "h = lambda x, y: x * x + y * y\n",
    "p = lambda x: print(f\"x = {x}\")\n",
    "\n",
    "print(f(10))\n",
    "print(g(10))\n",
    "print(h(3, 4))\n",
    "\n",
    "p(10)"
   ]
  },
  {
   "cell_type": "markdown",
   "metadata": {},
   "source": [
    "Внутри lambda может быть только одно выражение, т.е. нельзя писать последовательность команд."
   ]
  }
 ],
 "metadata": {
  "kernelspec": {
   "display_name": "Python 3",
   "language": "python",
   "name": "python3"
  },
  "language_info": {
   "codemirror_mode": {
    "name": "ipython",
    "version": 3
   },
   "file_extension": ".py",
   "mimetype": "text/x-python",
   "name": "python",
   "nbconvert_exporter": "python",
   "pygments_lexer": "ipython3",
   "version": "3.7.3"
  }
 },
 "nbformat": 4,
 "nbformat_minor": 2
}
