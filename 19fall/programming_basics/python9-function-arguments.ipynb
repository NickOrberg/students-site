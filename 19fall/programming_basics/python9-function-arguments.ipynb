{
 "cells": [
  {
   "cell_type": "markdown",
   "metadata": {},
   "source": [
    "# Подробнее об аргументах функций"
   ]
  },
  {
   "cell_type": "code",
   "execution_count": 1,
   "metadata": {},
   "outputs": [
    {
     "name": "stdout",
     "output_type": "stream",
     "text": [
      "3 12\n"
     ]
    }
   ],
   "source": [
    "def f(x, y, z, t):\n",
    "    a = x + y\n",
    "    b = z * t\n",
    "    print(a, b)\n",
    "    \n",
    "f(1, 2, 3, 4)"
   ]
  },
  {
   "cell_type": "markdown",
   "metadata": {},
   "source": [
    "так можно делать для читаемости:"
   ]
  },
  {
   "cell_type": "code",
   "execution_count": 2,
   "metadata": {},
   "outputs": [
    {
     "name": "stdout",
     "output_type": "stream",
     "text": [
      "3 12\n"
     ]
    }
   ],
   "source": [
    "f(1, 2, z=3, t=4)"
   ]
  },
  {
   "cell_type": "markdown",
   "metadata": {},
   "source": [
    "если у аргументов есть имена, можно менять их порядок:"
   ]
  },
  {
   "cell_type": "code",
   "execution_count": 3,
   "metadata": {},
   "outputs": [
    {
     "name": "stdout",
     "output_type": "stream",
     "text": [
      "3 12\n"
     ]
    }
   ],
   "source": [
    "f(t=4, z=3, y=2, x=1)"
   ]
  },
  {
   "cell_type": "markdown",
   "metadata": {},
   "source": [
    "Все аргументы с именами должны быть после аргументов без имен:"
   ]
  },
  {
   "cell_type": "code",
   "execution_count": 4,
   "metadata": {},
   "outputs": [
    {
     "ename": "SyntaxError",
     "evalue": "positional argument follows keyword argument (<ipython-input-4-23113e61b4dc>, line 1)",
     "output_type": "error",
     "traceback": [
      "\u001b[1;36m  File \u001b[1;32m\"<ipython-input-4-23113e61b4dc>\"\u001b[1;36m, line \u001b[1;32m1\u001b[0m\n\u001b[1;33m    f(z=3, 1, 2, 4)  # ошибка\u001b[0m\n\u001b[1;37m          ^\u001b[0m\n\u001b[1;31mSyntaxError\u001b[0m\u001b[1;31m:\u001b[0m positional argument follows keyword argument\n"
     ]
    }
   ],
   "source": [
    "f(z=3, 1, 2, 4)  # ошибка\n",
    "f(1, 2, 4, z=3)  # тоже ошибка, z определен дважды, как 3 и как 4"
   ]
  },
  {
   "cell_type": "markdown",
   "metadata": {},
   "source": [
    "## Немного о функции `print`\n",
    "Оказывается, у нее есть возможность писать аргументы с именами. Это обычный вызов:"
   ]
  },
  {
   "cell_type": "code",
   "execution_count": 5,
   "metadata": {},
   "outputs": [
    {
     "name": "stdout",
     "output_type": "stream",
     "text": [
      "12 23\n"
     ]
    }
   ],
   "source": [
    "print(12, 23)"
   ]
  },
  {
   "cell_type": "markdown",
   "metadata": {},
   "source": [
    "Укажем именованный аргумент `sep`. Это разделитель выводимых значений, по умолчанию он пробел."
   ]
  },
  {
   "cell_type": "code",
   "execution_count": 6,
   "metadata": {},
   "outputs": [
    {
     "name": "stdout",
     "output_type": "stream",
     "text": [
      "12+23+45\n",
      "helloworld\n"
     ]
    }
   ],
   "source": [
    "print(12, 23, 45, sep=\"+\")\n",
    "print(\"hello\", \"world\", sep=\"\")  # не разделять"
   ]
  },
  {
   "cell_type": "markdown",
   "metadata": {},
   "source": [
    "Аргумент `end` - чем заканчивать вывод. По умолчанию это `\\n`."
   ]
  },
  {
   "cell_type": "code",
   "execution_count": 7,
   "metadata": {},
   "outputs": [
    {
     "name": "stdout",
     "output_type": "stream",
     "text": [
      "10 20!30 40!!"
     ]
    }
   ],
   "source": [
    "print(10, 20, end=\"!\")\n",
    "print(30, 40, end=\"!!\")"
   ]
  },
  {
   "cell_type": "markdown",
   "metadata": {},
   "source": [
    "Еще один аргумент, без примера, это аргумент `file`, в нем можно указать, в какой файл записать текст. Это может быть удобнее, чем функция `write`."
   ]
  },
  {
   "cell_type": "markdown",
   "metadata": {},
   "source": [
    "## Значения по умолчанию\n",
    "При определении функции можно указать значения аргументам. Если при вызове значения не указаны, будут использоваться значения из определения функции:"
   ]
  },
  {
   "cell_type": "code",
   "execution_count": 8,
   "metadata": {},
   "outputs": [
    {
     "name": "stdout",
     "output_type": "stream",
     "text": [
      "3 12\n",
      "3 40\n",
      "3 200\n",
      "3 15\n"
     ]
    }
   ],
   "source": [
    "def f(x, y, z=3, t=4):\n",
    "    a = x + y\n",
    "    b = z * t\n",
    "    print(a, b)\n",
    "    \n",
    "f(1, 2)\n",
    "f(1, 2, 10)\n",
    "f(1, 2, 10, 20)\n",
    "f(1, 2, t=5)"
   ]
  },
  {
   "cell_type": "markdown",
   "metadata": {},
   "source": [
    "## Оператор распаковки, запаковки\n",
    "Распаковка: превращения списка или любой последовательности в значения, записанные в коде как будто через запятую:"
   ]
  },
  {
   "cell_type": "code",
   "execution_count": 9,
   "metadata": {},
   "outputs": [
    {
     "name": "stdout",
     "output_type": "stream",
     "text": [
      "10 20 30 40 50\n"
     ]
    }
   ],
   "source": [
    "a = [10, 20, 30, 40, 50]\n",
    "x1, x2, x3, x4, x5 = a  # деструктуризация\n",
    "print(x1, x2, x3, x4, x5)"
   ]
  },
  {
   "cell_type": "markdown",
   "metadata": {},
   "source": [
    "Проблема: нужно точно знать, сколько в списке элементов"
   ]
  },
  {
   "cell_type": "code",
   "execution_count": 10,
   "metadata": {},
   "outputs": [
    {
     "ename": "ValueError",
     "evalue": "too many values to unpack (expected 3)",
     "output_type": "error",
     "traceback": [
      "\u001b[1;31m---------------------------------------------------------------------------\u001b[0m",
      "\u001b[1;31mValueError\u001b[0m                                Traceback (most recent call last)",
      "\u001b[1;32m<ipython-input-10-c87653b01a1d>\u001b[0m in \u001b[0;36m<module>\u001b[1;34m\u001b[0m\n\u001b[1;32m----> 1\u001b[1;33m \u001b[0mx_first\u001b[0m\u001b[1;33m,\u001b[0m \u001b[0mx_middle\u001b[0m\u001b[1;33m,\u001b[0m \u001b[0mx_end\u001b[0m \u001b[1;33m=\u001b[0m \u001b[0ma\u001b[0m  \u001b[1;31m# ошибка. Слева должно быть 5 значений\u001b[0m\u001b[1;33m\u001b[0m\u001b[1;33m\u001b[0m\u001b[0m\n\u001b[0m",
      "\u001b[1;31mValueError\u001b[0m: too many values to unpack (expected 3)"
     ]
    }
   ],
   "source": [
    "x_first, x_middle, x_end = a  # ошибка. Слева должно быть 5 значений"
   ]
  },
  {
   "cell_type": "markdown",
   "metadata": {},
   "source": [
    "Но можно:"
   ]
  },
  {
   "cell_type": "code",
   "execution_count": 11,
   "metadata": {},
   "outputs": [
    {
     "name": "stdout",
     "output_type": "stream",
     "text": [
      "10 [20, 30, 40] 50\n"
     ]
    }
   ],
   "source": [
    "x_first, *x_middle, x_end = a\n",
    "print(x_first, x_middle, x_end)"
   ]
  },
  {
   "cell_type": "code",
   "execution_count": 12,
   "metadata": {},
   "outputs": [
    {
     "name": "stdout",
     "output_type": "stream",
     "text": [
      "10 [20, 30] 40\n"
     ]
    }
   ],
   "source": [
    "x, *y, z = 10, 20, 30, 40  # даже если справа кортеж, все равно список\n",
    "print(x, y, z)"
   ]
  },
  {
   "cell_type": "markdown",
   "metadata": {},
   "source": [
    "В этом примере мы как бы собрали несколько значений в список. Можно наоборот:"
   ]
  },
  {
   "cell_type": "code",
   "execution_count": 13,
   "metadata": {},
   "outputs": [
    {
     "name": "stdout",
     "output_type": "stream",
     "text": [
      "[10, [1, 2, 3], 20]\n",
      "[10, 1, 2, 3, 20]\n"
     ]
    }
   ],
   "source": [
    "a = [1, 2, 3]\n",
    "b = [10, a, 20]\n",
    "print(b)\n",
    "c = [10, *a, 20]\n",
    "print(c)"
   ]
  },
  {
   "cell_type": "markdown",
   "metadata": {},
   "source": [
    "Как теперь поменять местами первый и последний элемент списка (это одна из задач курса):"
   ]
  },
  {
   "cell_type": "code",
   "execution_count": 14,
   "metadata": {},
   "outputs": [
    {
     "name": "stdout",
     "output_type": "stream",
     "text": [
      "[50, 20, 30, 40, 10]\n"
     ]
    }
   ],
   "source": [
    "a = [10, 20, 30, 40, 50]\n",
    "a_first, *a_middle, a_end = a\n",
    "b = [a_end, *a_middle, a_first]\n",
    "print(b)"
   ]
  },
  {
   "cell_type": "markdown",
   "metadata": {},
   "source": [
    "Этот оператор можно использовать при вызове функций:"
   ]
  },
  {
   "cell_type": "code",
   "execution_count": 15,
   "metadata": {},
   "outputs": [
    {
     "name": "stdout",
     "output_type": "stream",
     "text": [
      "3 12\n",
      "3 12\n",
      "1 6\n"
     ]
    }
   ],
   "source": [
    "def f(x, y, z, t):\n",
    "    a = x + y\n",
    "    b = z * t\n",
    "    print(a, b)\n",
    "  \n",
    "v = [1, 2, 3, 4]\n",
    "# f(v) - ошибка, потому что задаем только значение x\n",
    "f(*v)\n",
    "f(*[1, 2, 3], 4)  # распаковали часть\n",
    "f(*range(4))  # это f(0, 1, 2, 3)"
   ]
  },
  {
   "cell_type": "markdown",
   "metadata": {},
   "source": [
    "Так можно распечатывать списки:"
   ]
  },
  {
   "cell_type": "code",
   "execution_count": 16,
   "metadata": {},
   "outputs": [
    {
     "name": "stdout",
     "output_type": "stream",
     "text": [
      "10+20+30+40\n"
     ]
    }
   ],
   "source": [
    "a = [10, 20, 30, 40]\n",
    "print(*a, sep=\"+\")"
   ]
  },
  {
   "cell_type": "markdown",
   "metadata": {},
   "source": [
    "## Оператор распаковки в определении функции\n",
    "Его можно использовать, чтобы в функцию можно было передавать разное количество аргументов."
   ]
  },
  {
   "cell_type": "code",
   "execution_count": 17,
   "metadata": {},
   "outputs": [
    {
     "name": "stdout",
     "output_type": "stream",
     "text": [
      "1 2 ()\n",
      "1 2 (3,)\n",
      "1 2 (3, 4)\n",
      "1 2 (3, 4, 5)\n"
     ]
    }
   ],
   "source": [
    "def g(x, y, *z):  # z - кортеж из переданных аргументов\n",
    "    print(x, y, z)\n",
    "    \n",
    "g(1, 2)\n",
    "g(1, 2, 3)\n",
    "g(1, 2, 3, 4)\n",
    "g(1, 2, 3, 4, 5)"
   ]
  },
  {
   "cell_type": "markdown",
   "metadata": {},
   "source": [
    "Описание функции `print` из документации: `print(*objects, sep=' ', end='\\n', file=sys.stdout, flush=False)`"
   ]
  },
  {
   "cell_type": "markdown",
   "metadata": {},
   "source": [
    "## Распаковка для словарей\n",
    "Для словарей есть такая же распаковка, она обозначается двумя звездочками:"
   ]
  },
  {
   "cell_type": "code",
   "execution_count": 18,
   "metadata": {},
   "outputs": [
    {
     "name": "stdout",
     "output_type": "stream",
     "text": [
      "{'x': 1, 'y': 2, 's': 'abc', 'z': 3}\n"
     ]
    }
   ],
   "source": [
    "d = {'x': 1, 'y': 2, 's': \"abc\"}\n",
    "e = {**d, 'z': 3}  # как бы записали значения из d\n",
    "print(e)"
   ]
  },
  {
   "cell_type": "markdown",
   "metadata": {},
   "source": [
    "Это можно использовать в функциях:"
   ]
  },
  {
   "cell_type": "code",
   "execution_count": 19,
   "metadata": {},
   "outputs": [
    {
     "name": "stdout",
     "output_type": "stream",
     "text": [
      "3 12\n",
      "3 12\n"
     ]
    }
   ],
   "source": [
    "def f(x, y, z, t):\n",
    "    a = x + y\n",
    "    b = z * t\n",
    "    print(a, b)\n",
    "    \n",
    "d = {'y': 2, 'x': 1, 't': 4, 'z': 3}\n",
    "f(**d)  # задали значения аргументам по их именам\n",
    "f(**{'x': 1, 'z': 3}, y=2, t=4)  # задали значения x и z распаковкой"
   ]
  },
  {
   "cell_type": "markdown",
   "metadata": {},
   "source": [
    "В обратную сторону, можно использовать это при опредлении функции. Все аргументы без имен идут в кортеж args. Все аргументы с именами идут в `kwargs`:"
   ]
  },
  {
   "cell_type": "code",
   "execution_count": 20,
   "metadata": {},
   "outputs": [
    {
     "name": "stdout",
     "output_type": "stream",
     "text": [
      "(10, 20, 30) {'a': 10, 'b': 'xyz'}\n",
      "10    20    (30,)    {'a': 10, 'b': 'xyz'}\n",
      "11    22    ()    {'b': 'xyz'}\n"
     ]
    }
   ],
   "source": [
    "def g(*args, **kwargs):\n",
    "    print(args, kwargs)\n",
    "\n",
    "g(10, 20, 30, a=10, b=\"xyz\")\n",
    "\n",
    "def h(x, y, *args, **kwargs):\n",
    "    print(x, y, args, kwargs, sep=\"    \")\n",
    "    \n",
    "h(10, 20, 30, a=10, b=\"xyz\")\n",
    "# h(10, 20, 30, x=11, b=\"xyz\") ошибка, у x два значения\n",
    "# если именованный аргумент задан, то он не попадет в kwargs:\n",
    "h(x=11, y=22, b=\"xyz\")"
   ]
  }
 ],
 "metadata": {
  "kernelspec": {
   "display_name": "Python 3",
   "language": "python",
   "name": "python3"
  },
  "language_info": {
   "codemirror_mode": {
    "name": "ipython",
    "version": 3
   },
   "file_extension": ".py",
   "mimetype": "text/x-python",
   "name": "python",
   "nbconvert_exporter": "python",
   "pygments_lexer": "ipython3",
   "version": "3.7.3"
  }
 },
 "nbformat": 4,
 "nbformat_minor": 2
}
