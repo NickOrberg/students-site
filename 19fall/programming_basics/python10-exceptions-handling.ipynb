{
 "cells": [
  {
   "cell_type": "markdown",
   "metadata": {},
   "source": [
    "# Обработка исключений\n",
    "\n",
    "Философия. Пишем программу, не думая о том, что может произойти исключительная ситуация. (ошибка). Например, деление на ноль, выход за границу списка, ошибка чтения файла и т.п. Т.е. программируем оптимистичный сценарий выполнения программы. Но, дополнительно, отдельно от основной программы, пишем код, который нужно выполнить, если ошибка все-таки случилась:"
   ]
  },
  {
   "cell_type": "code",
   "execution_count": 1,
   "metadata": {},
   "outputs": [
    {
     "name": "stdout",
     "output_type": "stream",
     "text": [
      "ой\n"
     ]
    }
   ],
   "source": [
    "try:\n",
    "    1 // 0  # гарантированная ошибка\n",
    "    print(\"пронесло\")\n",
    "except:\n",
    "    print(\"ой\")"
   ]
  },
  {
   "cell_type": "markdown",
   "metadata": {},
   "source": [
    "Если ошибки не произошло, то блок `try` выполняется полностью, блок `except` не выполняется вообще.\n",
    "\n",
    "Но если ошибка случилась, выполнение блока `try` прекращается, и управление передается в `except`."
   ]
  },
  {
   "cell_type": "code",
   "execution_count": 2,
   "metadata": {},
   "outputs": [
    {
     "name": "stdout",
     "output_type": "stream",
     "text": [
      "пронесло\n"
     ]
    }
   ],
   "source": [
    "x = 42\n",
    "try:\n",
    "    1 // x  # ошибка, если x = 0\n",
    "    print(\"пронесло\")\n",
    "except:\n",
    "    print(\"ой\")"
   ]
  },
  {
   "cell_type": "markdown",
   "metadata": {},
   "source": [
    "Блок `finally` можно добавить, код в нем исполняется гарантированно (100% гарантии), независимо от того, была ли ошибка. Если есть `finally`, то можно не делать `except`:"
   ]
  },
  {
   "cell_type": "code",
   "execution_count": 3,
   "metadata": {},
   "outputs": [
    {
     "name": "stdout",
     "output_type": "stream",
     "text": [
      "пронесло\n",
      "точно напечатается\n",
      "------------\n",
      "ой\n",
      "точно напечатается\n"
     ]
    }
   ],
   "source": [
    "def some_function(x):\n",
    "    try:\n",
    "        1 // x  # ошибка, если x = 0\n",
    "        print(\"пронесло\")\n",
    "    except:\n",
    "        print(\"ой\")\n",
    "    finally:\n",
    "        print(\"точно напечатается\")\n",
    "        \n",
    "some_function(42)\n",
    "print('------------')\n",
    "some_function(0)"
   ]
  },
  {
   "cell_type": "markdown",
   "metadata": {},
   "source": [
    "После выполнения блока `except` ошибка считается обработанной, и выполнение кода переходит к тому, что написано после `try-except-finally`:"
   ]
  },
  {
   "cell_type": "code",
   "execution_count": 4,
   "metadata": {},
   "outputs": [
    {
     "name": "stdout",
     "output_type": "stream",
     "text": [
      "ой\n",
      "продолжение кода\n"
     ]
    }
   ],
   "source": [
    "try:\n",
    "    1 // 0\n",
    "    print(\"не печатается из-за того, что в предыдущей строке ошибка\")\n",
    "except:\n",
    "    print(\"ой\")\n",
    "\n",
    "print(\"продолжение кода\")  # продолжает выполняться после "
   ]
  },
  {
   "cell_type": "markdown",
   "metadata": {},
   "source": [
    "Что происходит с необработанной ошибкой?"
   ]
  },
  {
   "cell_type": "code",
   "execution_count": 5,
   "metadata": {},
   "outputs": [
    {
     "ename": "ZeroDivisionError",
     "evalue": "integer division or modulo by zero",
     "output_type": "error",
     "traceback": [
      "\u001b[1;31m---------------------------------------------------------------------------\u001b[0m",
      "\u001b[1;31mZeroDivisionError\u001b[0m                         Traceback (most recent call last)",
      "\u001b[1;32m<ipython-input-5-7fc8a4784866>\u001b[0m in \u001b[0;36m<module>\u001b[1;34m\u001b[0m\n\u001b[1;32m----> 1\u001b[1;33m \u001b[1;36m1\u001b[0m \u001b[1;33m//\u001b[0m \u001b[1;36m0\u001b[0m\u001b[1;33m\u001b[0m\u001b[1;33m\u001b[0m\u001b[0m\n\u001b[0m",
      "\u001b[1;31mZeroDivisionError\u001b[0m: integer division or modulo by zero"
     ]
    }
   ],
   "source": [
    "1 // 0"
   ]
  },
  {
   "cell_type": "markdown",
   "metadata": {},
   "source": [
    "Появляется стандартный текст с сообщением о типе ошибке (здесь: `ZeroDivisionError`),\n",
    "человеко-читаемом сообщении об ошибке (здесь: `integer division or modulo by zero`) и\n",
    "информация о том, где случилась ошибка. В обычном python, не в jupyter-блокнотах, информация представлена более сжато.\n",
    "\n",
    "## Стек вызовов\n",
    "Что происходит с необработанной ошибкой, если она появляется при вызове функции:"
   ]
  },
  {
   "cell_type": "code",
   "execution_count": 6,
   "metadata": {},
   "outputs": [
    {
     "ename": "IndexError",
     "evalue": "list index out of range",
     "output_type": "error",
     "traceback": [
      "\u001b[1;31m---------------------------------------------------------------------------\u001b[0m",
      "\u001b[1;31mIndexError\u001b[0m                                Traceback (most recent call last)",
      "\u001b[1;32m<ipython-input-6-29f445f619be>\u001b[0m in \u001b[0;36m<module>\u001b[1;34m\u001b[0m\n\u001b[0;32m     11\u001b[0m     \u001b[0mprint\u001b[0m\u001b[1;33m(\u001b[0m\u001b[1;36m42\u001b[0m\u001b[1;33m)\u001b[0m\u001b[1;33m\u001b[0m\u001b[1;33m\u001b[0m\u001b[0m\n\u001b[0;32m     12\u001b[0m \u001b[1;33m\u001b[0m\u001b[0m\n\u001b[1;32m---> 13\u001b[1;33m \u001b[0mf\u001b[0m\u001b[1;33m(\u001b[0m\u001b[1;33m)\u001b[0m\u001b[1;33m\u001b[0m\u001b[1;33m\u001b[0m\u001b[0m\n\u001b[0m\u001b[0;32m     14\u001b[0m \u001b[0mprint\u001b[0m\u001b[1;33m(\u001b[0m\u001b[1;36m42\u001b[0m\u001b[1;33m)\u001b[0m\u001b[1;33m\u001b[0m\u001b[1;33m\u001b[0m\u001b[0m\n",
      "\u001b[1;32m<ipython-input-6-29f445f619be>\u001b[0m in \u001b[0;36mf\u001b[1;34m()\u001b[0m\n\u001b[0;32m      8\u001b[0m \u001b[1;33m\u001b[0m\u001b[0m\n\u001b[0;32m      9\u001b[0m \u001b[1;32mdef\u001b[0m \u001b[0mf\u001b[0m\u001b[1;33m(\u001b[0m\u001b[1;33m)\u001b[0m\u001b[1;33m:\u001b[0m\u001b[1;33m\u001b[0m\u001b[1;33m\u001b[0m\u001b[0m\n\u001b[1;32m---> 10\u001b[1;33m     \u001b[0mg\u001b[0m\u001b[1;33m(\u001b[0m\u001b[1;33m)\u001b[0m\u001b[1;33m\u001b[0m\u001b[1;33m\u001b[0m\u001b[0m\n\u001b[0m\u001b[0;32m     11\u001b[0m     \u001b[0mprint\u001b[0m\u001b[1;33m(\u001b[0m\u001b[1;36m42\u001b[0m\u001b[1;33m)\u001b[0m\u001b[1;33m\u001b[0m\u001b[1;33m\u001b[0m\u001b[0m\n\u001b[0;32m     12\u001b[0m \u001b[1;33m\u001b[0m\u001b[0m\n",
      "\u001b[1;32m<ipython-input-6-29f445f619be>\u001b[0m in \u001b[0;36mg\u001b[1;34m()\u001b[0m\n\u001b[0;32m      4\u001b[0m \u001b[1;33m\u001b[0m\u001b[0m\n\u001b[0;32m      5\u001b[0m \u001b[1;32mdef\u001b[0m \u001b[0mg\u001b[0m\u001b[1;33m(\u001b[0m\u001b[1;33m)\u001b[0m\u001b[1;33m:\u001b[0m\u001b[1;33m\u001b[0m\u001b[1;33m\u001b[0m\u001b[0m\n\u001b[1;32m----> 6\u001b[1;33m     \u001b[0mdanger\u001b[0m\u001b[1;33m(\u001b[0m\u001b[1;33m)\u001b[0m\u001b[1;33m\u001b[0m\u001b[1;33m\u001b[0m\u001b[0m\n\u001b[0m\u001b[0;32m      7\u001b[0m     \u001b[0mprint\u001b[0m\u001b[1;33m(\u001b[0m\u001b[1;36m42\u001b[0m\u001b[1;33m)\u001b[0m\u001b[1;33m\u001b[0m\u001b[1;33m\u001b[0m\u001b[0m\n\u001b[0;32m      8\u001b[0m \u001b[1;33m\u001b[0m\u001b[0m\n",
      "\u001b[1;32m<ipython-input-6-29f445f619be>\u001b[0m in \u001b[0;36mdanger\u001b[1;34m()\u001b[0m\n\u001b[0;32m      1\u001b[0m \u001b[1;32mdef\u001b[0m \u001b[0mdanger\u001b[0m\u001b[1;33m(\u001b[0m\u001b[1;33m)\u001b[0m\u001b[1;33m:\u001b[0m\u001b[1;33m\u001b[0m\u001b[1;33m\u001b[0m\u001b[0m\n\u001b[1;32m----> 2\u001b[1;33m     \u001b[1;33m[\u001b[0m\u001b[1;33m]\u001b[0m\u001b[1;33m[\u001b[0m\u001b[1;36m0\u001b[0m\u001b[1;33m]\u001b[0m  \u001b[1;31m# гарантированная ошибка, в пустом списке нет нулевого элемента\u001b[0m\u001b[1;33m\u001b[0m\u001b[1;33m\u001b[0m\u001b[0m\n\u001b[0m\u001b[0;32m      3\u001b[0m     \u001b[0mprint\u001b[0m\u001b[1;33m(\u001b[0m\u001b[1;36m42\u001b[0m\u001b[1;33m)\u001b[0m\u001b[1;33m\u001b[0m\u001b[1;33m\u001b[0m\u001b[0m\n\u001b[0;32m      4\u001b[0m \u001b[1;33m\u001b[0m\u001b[0m\n\u001b[0;32m      5\u001b[0m \u001b[1;32mdef\u001b[0m \u001b[0mg\u001b[0m\u001b[1;33m(\u001b[0m\u001b[1;33m)\u001b[0m\u001b[1;33m:\u001b[0m\u001b[1;33m\u001b[0m\u001b[1;33m\u001b[0m\u001b[0m\n",
      "\u001b[1;31mIndexError\u001b[0m: list index out of range"
     ]
    }
   ],
   "source": [
    "def danger():\n",
    "    [][0]  # гарантированная ошибка, в пустом списке нет нулевого элемента\n",
    "    print(42)\n",
    "    \n",
    "def g():\n",
    "    danger()\n",
    "    print(42)\n",
    "    \n",
    "def f():\n",
    "    g()\n",
    "    print(42)\n",
    "    \n",
    "f()\n",
    "print(42)"
   ]
  },
  {
   "cell_type": "markdown",
   "metadata": {},
   "source": [
    "Итого, если в функции ошибка не обрабатывается в блоке `except`, то считается, что вызов этой функции привел к ошибке. Код после ошибки не выполняется."
   ]
  },
  {
   "cell_type": "code",
   "execution_count": 7,
   "metadata": {},
   "outputs": [
    {
     "name": "stdout",
     "output_type": "stream",
     "text": [
      "какая-то ошибка\n",
      "123\n"
     ]
    }
   ],
   "source": [
    "try:\n",
    "    f()\n",
    "    print(42)\n",
    "except:\n",
    "    print(\"какая-то ошибка\")\n",
    "    \n",
    "print(123)"
   ]
  },
  {
   "cell_type": "markdown",
   "metadata": {},
   "source": [
    "Если вы используете какую-то функцию, обычно про нее известно, к каким ошибкам она может привести. Об этом написано в ее документации. При необходимости, вы можете обернуть вызов в блок `try`, чтобы обработать ошибку.\n",
    "\n",
    "Если вызов функции может привести к ошибке, вы должны решить, обработать ее сразу в блоке `catch` или не обрабатывать, но тогда ответственность за обработку переходит к вызывающей функции."
   ]
  },
  {
   "cell_type": "markdown",
   "metadata": {},
   "source": [
    "## Иерархия исключений\n",
    "\n",
    "Ошибки (исключения) бывают разные: `ZeroDivisionError`, `IndexError` и много других. Все ошибки образуют иерархию. Например, `ZeroDivisionError` - это частный случай `ArithmeticError`, и `OverflowError` тоже частный случай `ArithmeticError`. А `ArithmeticError` частный случай `Exception`, а `Exception` - частный случай `BaseException`. Все ошибки - это частные случаи `BaseException`.\n",
    "\n",
    "Можно делать несколько блоков `except` для разных видов ошибок. Они проверяются по-очереди:"
   ]
  },
  {
   "cell_type": "code",
   "execution_count": 8,
   "metadata": {},
   "outputs": [
    {
     "name": "stdout",
     "output_type": "stream",
     "text": [
      "что-то плохо посчиталось\n"
     ]
    }
   ],
   "source": [
    "try:\n",
    "    1 // 0  # ZeroDivisionError\n",
    "except OverflowError:\n",
    "    print(\"что-то переполнилось\")\n",
    "except ArithmeticError:\n",
    "    print(\"что-то плохо посчиталось\")\n",
    "except ZeroDivisionError:  # никогда не выполнится, потому что перед этим сработает ArithmeticError\n",
    "    print(\"поделили на ноль\")\n",
    "except:  # аналогично except BaseException, т.е. ловится все подряд\n",
    "    print(\"что-то плохо посчиталось\")"
   ]
  },
  {
   "cell_type": "markdown",
   "metadata": {},
   "source": [
    "`Exception` - это частный случай почти всех исключений, обычно можно рассчитывать, что в вашей программе происходят только они. `BaseException` содержит исключения типа `SystemExit`, такое не нужно обрабатывать.\n",
    "\n",
    "Если вы будете сами создавать свой тип исключений, сделайте его частным случаем `Exception`. Как? См. наследование из ООП."
   ]
  },
  {
   "cell_type": "markdown",
   "metadata": {},
   "source": [
    "## Генерация исключения\n",
    "Оператор `raise`:"
   ]
  },
  {
   "cell_type": "code",
   "execution_count": 9,
   "metadata": {},
   "outputs": [
    {
     "ename": "IndexError",
     "evalue": "какой-то неправильный индекс",
     "output_type": "error",
     "traceback": [
      "\u001b[1;31m---------------------------------------------------------------------------\u001b[0m",
      "\u001b[1;31mIndexError\u001b[0m                                Traceback (most recent call last)",
      "\u001b[1;32m<ipython-input-9-e42b49e7f966>\u001b[0m in \u001b[0;36m<module>\u001b[1;34m\u001b[0m\n\u001b[1;32m----> 1\u001b[1;33m \u001b[1;32mraise\u001b[0m \u001b[0mIndexError\u001b[0m\u001b[1;33m(\u001b[0m\u001b[1;34m\"какой-то неправильный индекс\"\u001b[0m\u001b[1;33m)\u001b[0m  \u001b[1;31m# создали исключение и вызывали его\u001b[0m\u001b[1;33m\u001b[0m\u001b[1;33m\u001b[0m\u001b[0m\n\u001b[0m",
      "\u001b[1;31mIndexError\u001b[0m: какой-то неправильный индекс"
     ]
    }
   ],
   "source": [
    "raise IndexError(\"какой-то неправильный индекс\")  # создали исключение и вызывали его"
   ]
  },
  {
   "cell_type": "markdown",
   "metadata": {},
   "source": [
    "## Информация об исключении\n",
    "При обработке исключения можно узнать о нем информацию:"
   ]
  },
  {
   "cell_type": "code",
   "execution_count": 10,
   "metadata": {},
   "outputs": [
    {
     "name": "stdout",
     "output_type": "stream",
     "text": [
      "integer division or modulo by zero\n"
     ]
    }
   ],
   "source": [
    "try:\n",
    "    1 // 0\n",
    "except ArithmeticError as e:  # as e\n",
    "    print(e)"
   ]
  },
  {
   "cell_type": "markdown",
   "metadata": {},
   "source": [
    "Переменная `e` содержит информацию об ошибке. Она находится в кортеже `e.args`, чаще всего там есть только один текст с сообщением, что именно случилось."
   ]
  }
 ],
 "metadata": {
  "kernelspec": {
   "display_name": "Python 3",
   "language": "python",
   "name": "python3"
  },
  "language_info": {
   "codemirror_mode": {
    "name": "ipython",
    "version": 3
   },
   "file_extension": ".py",
   "mimetype": "text/x-python",
   "name": "python",
   "nbconvert_exporter": "python",
   "pygments_lexer": "ipython3",
   "version": "3.7.3"
  }
 },
 "nbformat": 4,
 "nbformat_minor": 2
}
