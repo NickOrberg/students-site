{
 "cells": [
  {
   "cell_type": "markdown",
   "metadata": {
    "collapsed": false
   },
   "source": [
    "# Функторы\n",
    "\n",
    "Функция `map` была бы логична не только для списков. Как бы она работала для Maybe?"
   ]
  },
  {
   "cell_type": "code",
   "execution_count": 1,
   "metadata": {
    "collapsed": false
   },
   "outputs": [
    {
     "data": {
      "text/plain": [
       "Just 43"
      ]
     },
     "execution_count": 1,
     "metadata": {
     },
     "output_type": "execute_result"
    },
    {
     "data": {
      "text/plain": [
       "Nothing"
      ]
     },
     "execution_count": 1,
     "metadata": {
     },
     "output_type": "execute_result"
    }
   ],
   "source": [
    "f x = x + 1\n",
    "\n",
    "x1 = Just 42\n",
    "x2 = Nothing\n",
    "\n",
    "-- хочу применить f к x1, x2, точнее, к значению внутри\n",
    "-- maybeMap f x1     ->    Just 43\n",
    "-- maybeMap f x2     ->    Nothing\n",
    "\n",
    "maybeMap fun (Just n) = Just (fun n)\n",
    "maybeMap _ Nothing = Nothing\n",
    "\n",
    "print $ maybeMap f x1\n",
    "print $ maybeMap f x2"
   ]
  },
  {
   "cell_type": "markdown",
   "metadata": {
    "collapsed": false
   },
   "source": [
    "Допустим, я хочу уметь так же применять функции ко вторым элементам пары:"
   ]
  },
  {
   "cell_type": "code",
   "execution_count": 2,
   "metadata": {
    "collapsed": false
   },
   "outputs": [
    {
     "data": {
      "text/plain": [
       "(\"hello\",43)"
      ]
     },
     "execution_count": 2,
     "metadata": {
     },
     "output_type": "execute_result"
    },
    {
     "data": {
      "text/plain": [
       "([1,2,3],43.0)"
      ]
     },
     "execution_count": 2,
     "metadata": {
     },
     "output_type": "execute_result"
    }
   ],
   "source": [
    "f x = x + 1\n",
    "x1 = (\"hello\", 42)\n",
    "x2 = ([1, 2, 3], 42.0)\n",
    "\n",
    "-- хочу применить f ко второму элементу пары\n",
    "\n",
    "pairMap fun (x, y) = (x, fun y)\n",
    "\n",
    "print $ pairMap f x1\n",
    "print $ pairMap f x2"
   ]
  },
  {
   "cell_type": "markdown",
   "metadata": {
    "collapsed": false
   },
   "source": [
    "Есть и другие аналогичные ситуации. Когда значение (или значения) хранятся в какой-то структуре с дополнительными данными.\n",
    "Список - несколько значений и информация об их порядке\n",
    "Maybe - одно значение или ноль\n",
    "Пара - значение вместе с дополнительной информацией\n",
    "\n",
    "Функции тоже можно понимать как такие структуры:\n",
    "fun :: a -> b\n",
    "получается, функция хранит значения типа b, доступ к которым осуществляется по аргументу типа a:\n",
    "\n",
    "Например,\n",
    "```\n",
    "f 1 = \"один\"\n",
    "f 2 = \"два\"\n",
    "...\n",
    "```\n",
    "функция \"хранит\" внутри себя значения `\"один\"`, `\"два\"`, получить их можно, подставив соответствующий аргумент в функцию."
   ]
  },
  {
   "cell_type": "code",
   "execution_count": 3,
   "metadata": {
    "collapsed": false
   },
   "outputs": [
    {
     "data": {
      "text/plain": [
       "85"
      ]
     },
     "execution_count": 3,
     "metadata": {
     },
     "output_type": "execute_result"
    },
    {
     "data": {
      "text/plain": [
       "127"
      ]
     },
     "execution_count": 3,
     "metadata": {
     },
     "output_type": "execute_result"
    }
   ],
   "source": [
    "f x = x + 1\n",
    "x1 = \\x -> 2 * x\n",
    "x2 = \\x -> 3 * x\n",
    "\n",
    "-- funMap f x1 - должна получиться функция, которая совпадает с x1, но после применения x1 дополнительно вызывает f\n",
    "\n",
    "funMap fun x = \\t -> fun (x t)\n",
    "\n",
    "xx1 = funMap f x1\n",
    "xx2 = funMap f x2\n",
    "print $ xx1 42\n",
    "print $ xx2 42"
   ]
  },
  {
   "cell_type": "markdown",
   "metadata": {
    "collapsed": false
   },
   "source": [
    "На самом деле все эти map функции уже есть. Они называются fmap или <$>, и они делают ровно то же, что делаем мы:"
   ]
  },
  {
   "cell_type": "code",
   "execution_count": 4,
   "metadata": {
    "collapsed": false
   },
   "outputs": [
    {
     "data": {
      "text/plain": [
       "Just 43"
      ]
     },
     "execution_count": 4,
     "metadata": {
     },
     "output_type": "execute_result"
    },
    {
     "data": {
      "text/plain": [
       "Just 43"
      ]
     },
     "execution_count": 4,
     "metadata": {
     },
     "output_type": "execute_result"
    },
    {
     "data": {
      "text/plain": [
       "[11,21,31]"
      ]
     },
     "execution_count": 4,
     "metadata": {
     },
     "output_type": "execute_result"
    },
    {
     "data": {
      "text/plain": [
       "(\"abc\",124)"
      ]
     },
     "execution_count": 4,
     "metadata": {
     },
     "output_type": "execute_result"
    }
   ],
   "source": [
    "print $ fmap (+1) (Just 42)\n",
    "print $ (+1) <$> Just 42\n",
    "\n",
    "print $ (+1) <$> [10, 20, 30]\n",
    "print $ (+1) <$> (\"abc\", 123)"
   ]
  },
  {
   "cell_type": "markdown",
   "metadata": {
    "collapsed": false
   },
   "source": [
    "Это работает, потому что в Haskell есть класс типов Functor - функтор. Он определен так:"
   ]
  },
  {
   "cell_type": "code",
   "execution_count": 5,
   "metadata": {
    "collapsed": false
   },
   "outputs": [
   ],
   "source": [
    "class Functor' f where\n",
    "  fmap' :: (a -> b) -> f a -> f b"
   ]
  },
  {
   "cell_type": "markdown",
   "metadata": {
    "collapsed": false
   },
   "source": [
    "У него есть реализации, например, примерно так выглядит реализация для Maybe:\n",
    "\n",
    "```\n",
    "instance Functor Maybe where\n",
    "  fmap f (Just x) = Just (f x)\n",
    "  fmap _ Nothing = Nothing\n",
    "```"
   ]
  },
  {
   "cell_type": "markdown",
   "metadata": {
    "collapsed": false
   },
   "source": [
    "Если вы определяете как функтор, вы должны гарантировать выполнение следующего правила. Функция `id` - это функция, которая ничего не делает: `id x = x`, ее тип `a -> a`.\n",
    "\n",
    "**Правила**:\n",
    "1. `fmap id x == x` (или эквивалентно) `fmap id == id`\n",
    "1. `fmap (g . f) == fmap g . fmap f`\n",
    "\n",
    "## Аппликативные функторы\n",
    "\n",
    "Расширение обычных функторов дополнительными операциями. Представьте опять же Maybe.\n",
    "Было в функторах:\n",
    "1. Обычная функция\n",
    "2. Данные внутри структуры\n",
    "3. Применяем функцию к каждому данному внутри структуры\n",
    "\n",
    "Теперь в аппликативных функторах можно дополнительно\n",
    "1. Обычные функции внутри структуры\n",
    "2. Данные внутри структуры\n",
    "3. Применяем функции из структуры к данным. Как именно применять - очень сильно зависит от ситуации.\n",
    "\n",
    "Пример с Maybe:"
   ]
  },
  {
   "cell_type": "code",
   "execution_count": 6,
   "metadata": {
    "collapsed": false
   },
   "outputs": [
    {
     "data": {
      "text/plain": [
       "Just 43"
      ]
     },
     "execution_count": 6,
     "metadata": {
     },
     "output_type": "execute_result"
    },
    {
     "data": {
      "text/plain": [
       "Nothing"
      ]
     },
     "execution_count": 6,
     "metadata": {
     },
     "output_type": "execute_result"
    },
    {
     "data": {
      "text/plain": [
       "Nothing"
      ]
     },
     "execution_count": 6,
     "metadata": {
     },
     "output_type": "execute_result"
    }
   ],
   "source": [
    "f = Just (+1) -- увеличение на 1, но внутри Maybe\n",
    "x = Just 42 -- значение внутри Maybe\n",
    "\n",
    "-- применение:\n",
    "maybeApply (Just fun) (Just x) = Just (fun x)\n",
    "maybeApply _ _ = Nothing\n",
    "\n",
    "print $ maybeApply f x\n",
    "print $ maybeApply Nothing x\n",
    "print $ maybeApply (Just (*2)) Nothing\n"
   ]
  },
  {
   "cell_type": "markdown",
   "metadata": {
    "collapsed": false
   },
   "source": [
    "А для списков?"
   ]
  },
  {
   "cell_type": "code",
   "execution_count": 7,
   "metadata": {
    "collapsed": false
   },
   "outputs": [
    {
     "data": {
      "text/plain": [
       "[11,21,31,20,40,60]"
      ]
     },
     "execution_count": 7,
     "metadata": {
     },
     "output_type": "execute_result"
    }
   ],
   "source": [
    "f = [(+1), (*2)]\n",
    "x = [10, 20, 30]\n",
    "\n",
    "-- что может означать listApply, когда есть список функций и список значений?\n",
    "-- Применить каждую функцию к каждому элементу, получить список новых значений.\n",
    "\n",
    "listApply fs xs = concatMap (\\f -> map f xs) fs\n",
    "\n",
    "print $ listApply f x"
   ]
  },
  {
   "cell_type": "markdown",
   "metadata": {
    "collapsed": false
   },
   "source": [
    "Немного философии, почему для списков это логично делать именно так. Можно считать, что Maybe - это вычисления, в которых иногда отсутствуют результаты. А в списках можно считать, что мы делаем вычисления, в которых может быть несколько результатов."
   ]
  },
  {
   "cell_type": "markdown",
   "metadata": {
    "collapsed": false
   },
   "source": [
    "В Haskell есть класс типов Аппликативные функторы:"
   ]
  },
  {
   "cell_type": "code",
   "execution_count": 8,
   "metadata": {
    "collapsed": false
   },
   "outputs": [
   ],
   "source": [
    "class Functor' f => Applicative' f where\n",
    "    pure :: a -> f a -- вставить значение в функтор\n",
    "    (<*>) :: f (a -> b) -> f a -> f b -- та самая функция применения, рассмотренная выше\n",
    "    -- и еще несколько, см. дальше"
   ]
  },
  {
   "cell_type": "markdown",
   "metadata": {
    "collapsed": false
   },
   "source": [
    "`pure` - это функция, которая помещает значение внутрь функтора, \"самым естественным способом\". Что это значит будет понятно из требований к аппликативному функтору, см. дальше.\n",
    "\n",
    "Для Maybe: `pure x = Just x`, для списка `pure x = [x]`"
   ]
  },
  {
   "cell_type": "markdown",
   "metadata": {
    "collapsed": false
   },
   "source": [
    "Допустим, хотим сложить значения в двух Maybe. Или в двух списках сложить попарно значения. Как это будет написано?"
   ]
  },
  {
   "cell_type": "code",
   "execution_count": 9,
   "metadata": {
    "collapsed": false
   },
   "outputs": [
    {
     "data": {
      "text/html": [
       "<style>/* Styles used for the Hoogle display in the pager */\n",
       ".hoogle-doc {\n",
       "display: block;\n",
       "padding-bottom: 1.3em;\n",
       "padding-left: 0.4em;\n",
       "}\n",
       ".hoogle-code {\n",
       "display: block;\n",
       "font-family: monospace;\n",
       "white-space: pre;\n",
       "}\n",
       ".hoogle-text {\n",
       "display: block;\n",
       "}\n",
       ".hoogle-name {\n",
       "color: green;\n",
       "font-weight: bold;\n",
       "}\n",
       ".hoogle-head {\n",
       "font-weight: bold;\n",
       "}\n",
       ".hoogle-sub {\n",
       "display: block;\n",
       "margin-left: 0.4em;\n",
       "}\n",
       ".hoogle-package {\n",
       "font-weight: bold;\n",
       "font-style: italic;\n",
       "}\n",
       ".hoogle-module {\n",
       "font-weight: bold;\n",
       "}\n",
       ".hoogle-class {\n",
       "font-weight: bold;\n",
       "}\n",
       ".get-type {\n",
       "color: green;\n",
       "font-weight: bold;\n",
       "font-family: monospace;\n",
       "display: block;\n",
       "white-space: pre-wrap;\n",
       "}\n",
       ".show-type {\n",
       "color: green;\n",
       "font-weight: bold;\n",
       "font-family: monospace;\n",
       "margin-left: 1em;\n",
       "}\n",
       ".mono {\n",
       "font-family: monospace;\n",
       "display: block;\n",
       "}\n",
       ".err-msg {\n",
       "color: red;\n",
       "font-style: italic;\n",
       "font-family: monospace;\n",
       "white-space: pre;\n",
       "display: block;\n",
       "}\n",
       "#unshowable {\n",
       "color: red;\n",
       "font-weight: bold;\n",
       "}\n",
       ".err-msg.in.collapse {\n",
       "padding-top: 0.7em;\n",
       "}\n",
       ".highlight-code {\n",
       "white-space: pre;\n",
       "font-family: monospace;\n",
       "}\n",
       ".suggestion-warning { \n",
       "font-weight: bold;\n",
       "color: rgb(200, 130, 0);\n",
       "}\n",
       ".suggestion-error { \n",
       "font-weight: bold;\n",
       "color: red;\n",
       "}\n",
       ".suggestion-name {\n",
       "font-weight: bold;\n",
       "}\n",
       "</style><div class=\"suggestion-name\" style=\"clear:both;\">Use section</div><div class=\"suggestion-row\" style=\"float: left;\"><div class=\"suggestion-warning\">Found:</div><div class=\"highlight-code\" id=\"haskell\">((+) 110)</div></div><div class=\"suggestion-row\" style=\"float: left;\"><div class=\"suggestion-warning\">Why Not:</div><div class=\"highlight-code\" id=\"haskell\">(110 +)</div></div>"
      ],
      "text/plain": [
       "Line 1: Use section\n",
       "Found:\n",
       "((+) 110)\n",
       "Why not:\n",
       "(110 +)"
      ]
     },
     "execution_count": 9,
     "metadata": {
     },
     "output_type": "execute_result"
    },
    {
     "data": {
      "text/plain": [
       "Just 764"
      ]
     },
     "execution_count": 9,
     "metadata": {
     },
     "output_type": "execute_result"
    },
    {
     "data": {
      "text/plain": [
       "Just 764"
      ]
     },
     "execution_count": 9,
     "metadata": {
     },
     "output_type": "execute_result"
    },
    {
     "data": {
      "text/html": [
       "<style>/* Styles used for the Hoogle display in the pager */\n",
       ".hoogle-doc {\n",
       "display: block;\n",
       "padding-bottom: 1.3em;\n",
       "padding-left: 0.4em;\n",
       "}\n",
       ".hoogle-code {\n",
       "display: block;\n",
       "font-family: monospace;\n",
       "white-space: pre;\n",
       "}\n",
       ".hoogle-text {\n",
       "display: block;\n",
       "}\n",
       ".hoogle-name {\n",
       "color: green;\n",
       "font-weight: bold;\n",
       "}\n",
       ".hoogle-head {\n",
       "font-weight: bold;\n",
       "}\n",
       ".hoogle-sub {\n",
       "display: block;\n",
       "margin-left: 0.4em;\n",
       "}\n",
       ".hoogle-package {\n",
       "font-weight: bold;\n",
       "font-style: italic;\n",
       "}\n",
       ".hoogle-module {\n",
       "font-weight: bold;\n",
       "}\n",
       ".hoogle-class {\n",
       "font-weight: bold;\n",
       "}\n",
       ".get-type {\n",
       "color: green;\n",
       "font-weight: bold;\n",
       "font-family: monospace;\n",
       "display: block;\n",
       "white-space: pre-wrap;\n",
       "}\n",
       ".show-type {\n",
       "color: green;\n",
       "font-weight: bold;\n",
       "font-family: monospace;\n",
       "margin-left: 1em;\n",
       "}\n",
       ".mono {\n",
       "font-family: monospace;\n",
       "display: block;\n",
       "}\n",
       ".err-msg {\n",
       "color: red;\n",
       "font-style: italic;\n",
       "font-family: monospace;\n",
       "white-space: pre;\n",
       "display: block;\n",
       "}\n",
       "#unshowable {\n",
       "color: red;\n",
       "font-weight: bold;\n",
       "}\n",
       ".err-msg.in.collapse {\n",
       "padding-top: 0.7em;\n",
       "}\n",
       ".highlight-code {\n",
       "white-space: pre;\n",
       "font-family: monospace;\n",
       "}\n",
       ".suggestion-warning { \n",
       "font-weight: bold;\n",
       "color: rgb(200, 130, 0);\n",
       "}\n",
       ".suggestion-error { \n",
       "font-weight: bold;\n",
       "color: red;\n",
       "}\n",
       ".suggestion-name {\n",
       "font-weight: bold;\n",
       "}\n",
       "</style><span class='err-msg'>&lt;interactive&gt;:1:1: error:<br/>    • Could not deduce (Applicative' Maybe) arising from a use of ‘&lt;*&gt;’<br/>      from the context: Num b bound by the inferred type of it :: Num b =&gt; Maybe b at &lt;interactive&gt;:1:1-24<br/>    • In the expression: Just (110 +) &lt;*&gt; Just 654<br/>      In an equation for ‘it’: it = Just (110 +) &lt;*&gt; Just 654</span>"
      ],
      "text/plain": [
       "<interactive>:1:1: error:\n",
       "    • Could not deduce (Applicative' Maybe) arising from a use of ‘<*>’\n",
       "      from the context: Num b bound by the inferred type of it :: Num b => Maybe b at <interactive>:1:1-24\n",
       "    • In the expression: Just (110 +) <*> Just 654\n",
       "      In an equation for ‘it’: it = Just (110 +) <*> Just 654"
      ]
     },
     "execution_count": 9,
     "metadata": {
     },
     "output_type": "execute_result"
    }
   ],
   "source": [
    "import Control.Applicative\n",
    "\n",
    "x1 = Just 110\n",
    "x2 = Just 654\n",
    "\n",
    "-- надо сложить. Сначала давайте получим Just (110+), потом применим ее к Just 654:\n",
    "-- вынес это как отдельную задачу\n",
    "fmap (110+) (Just 654)\n",
    "(110+) <$> Just 654\n",
    "\n",
    "Just (110+) <*> Just 654\n",
    "Just ((+) 110) <*> Just 654\n",
    "\n",
    "(110+) <$> [1, 2, 3]\n",
    "[(110+), (220+)] <*> [1, 2, 3]\n",
    "\n",
    "Just (110+) <*> Just 654\n",
    "Just (+) <*> x1 <*> x2\n",
    "(+) <$> x1 <*> x2\n",
    "liftA2 (+) x1 x2\n",
    "liftA2 (+) [1, 2, 3] [10, 20, 30]"
   ]
  },
  {
   "cell_type": "markdown",
   "metadata": {
    "collapsed": false
   },
   "source": [
    "Аппликативные функторы должны уметь делать не только `<*>`, но и функция `pure`, которая\n",
    "вводит обычное значение в функтор.\n",
    "`pure 42` в типе Maybe это `Just 42`. `pure 42` в типе списка: `[42]`.\n",
    "\n",
    "Правила для функторов:\n",
    "`pure id <*> v = v` и др по ссылке [https://hackage.haskell.org/package/base-4.12.0.0/docs/Control-Applicative.html#g:1](https://hackage.haskell.org/package/base-4.12.0.0/docs/Control-Applicative.html#g:1)."
   ]
  },
  {
   "cell_type": "markdown",
   "metadata": {
    "collapsed": false
   },
   "source": [
    "# Монады\n",
    "Вычисления с Maybe - это вычисления, в которых может не получиться результа. Если мы делаем последовательность вычислений, в которой в какой-то момент результата не получилось, то и дальше считаем, что результата нет."
   ]
  },
  {
   "cell_type": "code",
   "execution_count": 10,
   "metadata": {
    "collapsed": false
   },
   "outputs": [
   ],
   "source": [
    "mSqrt :: Double -> Maybe Double\n",
    "mSqrt x | x < 0 = Nothing\n",
    "        | otherwise = Just $ sqrt x"
   ]
  },
  {
   "cell_type": "markdown",
   "metadata": {
    "collapsed": false
   },
   "source": [
    "[хотим вычислить (sqrt(x) + 1) / 2]"
   ]
  },
  {
   "cell_type": "code",
   "execution_count": 11,
   "metadata": {
    "collapsed": false
   },
   "outputs": [
    {
     "data": {
      "text/plain": [
       "Just 2.0"
      ]
     },
     "execution_count": 11,
     "metadata": {
     },
     "output_type": "execute_result"
    },
    {
     "data": {
      "text/plain": [
       "Nothing"
      ]
     },
     "execution_count": 11,
     "metadata": {
     },
     "output_type": "execute_result"
    }
   ],
   "source": [
    "eval x = let sx = mSqrt x\n",
    "             y = (+1) <$> sx\n",
    "           in (/2) <$> y\n",
    "eval 9\n",
    "eval (-9)"
   ]
  },
  {
   "cell_type": "code",
   "execution_count": 12,
   "metadata": {
    "collapsed": false
   },
   "outputs": [
    {
     "data": {
      "text/html": [
       "<style>/* Styles used for the Hoogle display in the pager */\n",
       ".hoogle-doc {\n",
       "display: block;\n",
       "padding-bottom: 1.3em;\n",
       "padding-left: 0.4em;\n",
       "}\n",
       ".hoogle-code {\n",
       "display: block;\n",
       "font-family: monospace;\n",
       "white-space: pre;\n",
       "}\n",
       ".hoogle-text {\n",
       "display: block;\n",
       "}\n",
       ".hoogle-name {\n",
       "color: green;\n",
       "font-weight: bold;\n",
       "}\n",
       ".hoogle-head {\n",
       "font-weight: bold;\n",
       "}\n",
       ".hoogle-sub {\n",
       "display: block;\n",
       "margin-left: 0.4em;\n",
       "}\n",
       ".hoogle-package {\n",
       "font-weight: bold;\n",
       "font-style: italic;\n",
       "}\n",
       ".hoogle-module {\n",
       "font-weight: bold;\n",
       "}\n",
       ".hoogle-class {\n",
       "font-weight: bold;\n",
       "}\n",
       ".get-type {\n",
       "color: green;\n",
       "font-weight: bold;\n",
       "font-family: monospace;\n",
       "display: block;\n",
       "white-space: pre-wrap;\n",
       "}\n",
       ".show-type {\n",
       "color: green;\n",
       "font-weight: bold;\n",
       "font-family: monospace;\n",
       "margin-left: 1em;\n",
       "}\n",
       ".mono {\n",
       "font-family: monospace;\n",
       "display: block;\n",
       "}\n",
       ".err-msg {\n",
       "color: red;\n",
       "font-style: italic;\n",
       "font-family: monospace;\n",
       "white-space: pre;\n",
       "display: block;\n",
       "}\n",
       "#unshowable {\n",
       "color: red;\n",
       "font-weight: bold;\n",
       "}\n",
       ".err-msg.in.collapse {\n",
       "padding-top: 0.7em;\n",
       "}\n",
       ".highlight-code {\n",
       "white-space: pre;\n",
       "font-family: monospace;\n",
       "}\n",
       ".suggestion-warning { \n",
       "font-weight: bold;\n",
       "color: rgb(200, 130, 0);\n",
       "}\n",
       ".suggestion-error { \n",
       "font-weight: bold;\n",
       "color: red;\n",
       "}\n",
       ".suggestion-name {\n",
       "font-weight: bold;\n",
       "}\n",
       "</style><span class='err-msg'>&lt;interactive&gt;:3:30: error:<br/>    • No instance for (Applicative' Maybe) arising from a use of ‘&lt;*&gt;’<br/>    • In the expression: Just (+) &lt;*&gt; sx &lt;*&gt; sy<br/>      In an equation for ‘sq_plus_sq’: sq_plus_sq = Just (+) &lt;*&gt; sx &lt;*&gt; sy<br/>      In the expression:<br/>        let<br/>          sx = mSqrt x<br/>          sy = mSqrt y<br/>          sq_plus_sq = Just (+) &lt;*&gt; sx &lt;*&gt; sy<br/>        in (+ 1) &lt;<span>&dollar;</span>&gt; sq_plus_sq</span>"
      ],
      "text/plain": [
       "<interactive>:3:30: error:\n",
       "    • No instance for (Applicative' Maybe) arising from a use of ‘<*>’\n",
       "    • In the expression: Just (+) <*> sx <*> sy\n",
       "      In an equation for ‘sq_plus_sq’: sq_plus_sq = Just (+) <*> sx <*> sy\n",
       "      In the expression:\n",
       "        let\n",
       "          sx = mSqrt x\n",
       "          sy = mSqrt y\n",
       "          sq_plus_sq = Just (+) <*> sx <*> sy\n",
       "        in (+ 1) <$> sq_plus_sq"
      ]
     },
     "execution_count": 12,
     "metadata": {
     },
     "output_type": "execute_result"
    }
   ],
   "source": [
    "-- sqrt(x) + sqrt(y) + 1\n",
    "eval2 x y = let sx = mSqrt x\n",
    "                sy = mSqrt y\n",
    "                sq_plus_sq = Just (+) <*> sx <*> sy  -- liftA2 (+) sx sy\n",
    "               in\n",
    "                (+1) <$> sq_plus_sq\n",
    "\n",
    "eval2 9 16\n",
    "eval2 (-9) 16"
   ]
  },
  {
   "cell_type": "code",
   "execution_count": 13,
   "metadata": {
    "collapsed": false
   },
   "outputs": [
    {
     "data": {
      "text/plain": [
       "Just 2.6457513110645907"
      ]
     },
     "execution_count": 13,
     "metadata": {
     },
     "output_type": "execute_result"
    },
    {
     "data": {
      "text/plain": [
       "Nothing"
      ]
     },
     "execution_count": 13,
     "metadata": {
     },
     "output_type": "execute_result"
    },
    {
     "data": {
      "text/plain": [
       "Nothing"
      ]
     },
     "execution_count": 13,
     "metadata": {
     },
     "output_type": "execute_result"
    }
   ],
   "source": [
    "-- sqrt(sqrt(x) - 3)\n",
    "eval3 x = let sx = mSqrt x\n",
    "              sx_3 = (\\t -> t - 3) <$> sx\n",
    "              -- ?? не получается сделать ни с <*>, ни с <$>\n",
    "              -- есть Just y и есть mSqrt :: Double -> Maybe Double\n",
    "              z = case sx_3 of\n",
    "                    Just n -> mSqrt n\n",
    "                    Nothing -> Nothing\n",
    "            in\n",
    "              z\n",
    "eval3 100\n",
    "eval3 (-100)\n",
    "eval3 4"
   ]
  },
  {
   "cell_type": "markdown",
   "metadata": {
    "collapsed": false
   },
   "source": [
    "Хочется вспомогательную функцию типа `<*>` и `<$>`, чтобы она имела такой заголовок:\n",
    "\n",
    "`bind :: Maybe a -> (a -> Maybe b) -> Maybe b`.\n",
    "\n",
    "Если подумать, то\n",
    "1. `fmap` - частный случай этой функции. Сравним\n",
    "   \n",
    "   `bind :: Maybe a -> (a -> Maybe b) -> Maybe b`.\n",
    "   \n",
    "   `fmap :: Maybe a -> (a -> b) -> Maybe b`.\n",
    "   \n",
    "   `fmap f t = bind t (\\x -> pure $ f x)` или \n",
    "   \n",
    "   `fmap f t = bind t (pure . f)`\n",
    "1. `<*>` - тоже частный случай. Попробуйте ее сами выразить через bind\n",
    "\n",
    "Реализуем `bind` для Maybe:"
   ]
  },
  {
   "cell_type": "code",
   "execution_count": 14,
   "metadata": {
    "collapsed": false
   },
   "outputs": [
    {
     "data": {
      "text/plain": [
       "Just 2.6457513110645907"
      ]
     },
     "execution_count": 14,
     "metadata": {
     },
     "output_type": "execute_result"
    },
    {
     "data": {
      "text/plain": [
       "Nothing"
      ]
     },
     "execution_count": 14,
     "metadata": {
     },
     "output_type": "execute_result"
    },
    {
     "data": {
      "text/plain": [
       "Nothing"
      ]
     },
     "execution_count": 14,
     "metadata": {
     },
     "output_type": "execute_result"
    }
   ],
   "source": [
    "maybeBind :: Maybe a -> (a -> Maybe b) -> Maybe b\n",
    "maybeBind Nothing _ = Nothing\n",
    "maybeBind (Just x) f = f x\n",
    "\n",
    "-- sqrt(sqrt(x) - 3)\n",
    "eval3 x = let sx = mSqrt x\n",
    "              sx_3 = maybeBind sx (\\t -> Just (t - 3))\n",
    "             in\n",
    "              maybeBind sx_3 mSqrt\n",
    "\n",
    "eval3 100\n",
    "eval3 (-100)\n",
    "eval3 4"
   ]
  },
  {
   "cell_type": "code",
   "execution_count": 15,
   "metadata": {
    "collapsed": false,
    "scrolled": true
   },
   "outputs": [
    {
     "data": {
      "text/plain": [
       "Just 2.6457513110645907"
      ]
     },
     "execution_count": 15,
     "metadata": {
     },
     "output_type": "execute_result"
    },
    {
     "data": {
      "text/plain": [
       "Nothing"
      ]
     },
     "execution_count": 15,
     "metadata": {
     },
     "output_type": "execute_result"
    },
    {
     "data": {
      "text/plain": [
       "Nothing"
      ]
     },
     "execution_count": 15,
     "metadata": {
     },
     "output_type": "execute_result"
    }
   ],
   "source": [
    "eval3 x = do\n",
    "            sx <- mSqrt x\n",
    "            sx_3 <- Just (sx - 3)\n",
    "            mSqrt sx_3\n",
    "\n",
    "eval3 100\n",
    "eval3 (-100)\n",
    "eval3 4"
   ]
  },
  {
   "cell_type": "markdown",
   "metadata": {
    "collapsed": false
   },
   "source": [
    "Давайте остановимся на одной вспомогательной функции\n",
    "\n",
    "`maybeBind :: Maybe a -> (a -> Maybe b) -> Maybe b`\n",
    "\n",
    "Функции дается значение, очередной шаг вычисления, она возвращает новое значение."
   ]
  },
  {
   "cell_type": "code",
   "execution_count": 16,
   "metadata": {
    "collapsed": false
   },
   "outputs": [
    {
     "data": {
      "text/plain": [
       "Just 2.6457513110645907"
      ]
     },
     "execution_count": 16,
     "metadata": {
     },
     "output_type": "execute_result"
    },
    {
     "data": {
      "text/plain": [
       "Nothing"
      ]
     },
     "execution_count": 16,
     "metadata": {
     },
     "output_type": "execute_result"
    },
    {
     "data": {
      "text/plain": [
       "Nothing"
      ]
     },
     "execution_count": 16,
     "metadata": {
     },
     "output_type": "execute_result"
    }
   ],
   "source": [
    "maybeBind :: Maybe a -> (a -> Maybe b) -> Maybe b\n",
    "maybeBind Nothing _ = Nothing\n",
    "maybeBind (Just x) f = f x\n",
    "\n",
    "-- взятие корня\n",
    "mSqrt :: Double -> Maybe Double\n",
    "mSqrt x | x < 0 = Nothing\n",
    "        | otherwise = Just $ sqrt x\n",
    "\n",
    "-- sqrt(sqrt(x) - 3)\n",
    "\n",
    "eval4 :: Double -> Maybe Double\n",
    "-- maybeBind (Just x) mSqrt      это sqrt(x) внутри maybe\n",
    "eval4 x = maybeBind\n",
    "              (mSqrt x)\n",
    "              (\\a -> mSqrt (a - 3))\n",
    "\n",
    "eval4 100\n",
    "eval4 (-100)\n",
    "eval4 3"
   ]
  },
  {
   "cell_type": "markdown",
   "metadata": {
    "collapsed": false
   },
   "source": [
    "Эта програма похожа на последовательность шагов:\n",
    "1. `mSqrt`\n",
    "2. `\\a -> mSqrt (a - 3)`\n",
    "\n",
    "Посчитаем теперь $\\sqrt x + \\sqrt y + 1$.\n",
    "\n",
    "Шаги:\n",
    "1. $\\sqrt x$\n",
    "1. $\\sqrt y$\n",
    "1. $\\sqrt x + \\sqrt y + 1$"
   ]
  },
  {
   "cell_type": "code",
   "execution_count": 17,
   "metadata": {
    "collapsed": false
   },
   "outputs": [
    {
     "data": {
      "text/plain": [
       "Just 15.0"
      ]
     },
     "execution_count": 17,
     "metadata": {
     },
     "output_type": "execute_result"
    },
    {
     "data": {
      "text/plain": [
       "Nothing"
      ]
     },
     "execution_count": 17,
     "metadata": {
     },
     "output_type": "execute_result"
    }
   ],
   "source": [
    "eval5 :: Double -> Double -> Maybe Double\n",
    "eval5 x y = maybeBind\n",
    "              (mSqrt x) -- 1 шаг\n",
    "              (\\a -> maybeBind\n",
    "                        (mSqrt y) -- 2 шаг\n",
    "                        (\\b -> Just (a + b + 1)) -- 3 шаг\n",
    "              )\n",
    "\n",
    "eval5 16 100\n",
    "eval5 (-16) 100"
   ]
  },
  {
   "cell_type": "markdown",
   "metadata": {
    "collapsed": false
   },
   "source": [
    "`maybeBind` - это функция `>>=`, которая существует для `Maybe` и других типов:"
   ]
  },
  {
   "cell_type": "code",
   "execution_count": 18,
   "metadata": {
    "collapsed": false
   },
   "outputs": [
    {
     "data": {
      "text/plain": [
       "Just 15.0"
      ]
     },
     "execution_count": 18,
     "metadata": {
     },
     "output_type": "execute_result"
    },
    {
     "data": {
      "text/plain": [
       "Nothing"
      ]
     },
     "execution_count": 18,
     "metadata": {
     },
     "output_type": "execute_result"
    }
   ],
   "source": [
    "eval5 :: Double -> Double -> Maybe Double\n",
    "eval5 x y = (mSqrt x) >>= (\\a ->\n",
    "                    (mSqrt y) >>= (\\b ->\n",
    "                         Just (a + b + 1)\n",
    "                    )\n",
    "            )\n",
    "\n",
    "eval5 16 100\n",
    "eval5 (-16) 100"
   ]
  },
  {
   "cell_type": "markdown",
   "metadata": {
    "collapsed": false
   },
   "source": [
    "Для подобной записи есть do-нотация:"
   ]
  },
  {
   "cell_type": "code",
   "execution_count": 19,
   "metadata": {
    "collapsed": false
   },
   "outputs": [
    {
     "data": {
      "text/plain": [
       "Just 15.0"
      ]
     },
     "execution_count": 19,
     "metadata": {
     },
     "output_type": "execute_result"
    },
    {
     "data": {
      "text/plain": [
       "Nothing"
      ]
     },
     "execution_count": 19,
     "metadata": {
     },
     "output_type": "execute_result"
    }
   ],
   "source": [
    "eval5 :: Double -> Double -> Maybe Double\n",
    "eval5 x y = do\n",
    "             a <- mSqrt x\n",
    "             b <- mSqrt y\n",
    "             return (a + b + 1)\n",
    "\n",
    "eval5 16 100\n",
    "eval5 (-16) 100"
   ]
  },
  {
   "cell_type": "markdown",
   "metadata": {
    "collapsed": false
   },
   "source": [
    "Получился \"императивный\" код. `return` для Maybe это `Just`.\n",
    "Перепишем теперь `eval4`"
   ]
  },
  {
   "cell_type": "code",
   "execution_count": 20,
   "metadata": {
    "collapsed": false
   },
   "outputs": [
    {
     "data": {
      "text/plain": [
       "Just 2.6457513110645907"
      ]
     },
     "execution_count": 20,
     "metadata": {
     },
     "output_type": "execute_result"
    },
    {
     "data": {
      "text/plain": [
       "Nothing"
      ]
     },
     "execution_count": 20,
     "metadata": {
     },
     "output_type": "execute_result"
    },
    {
     "data": {
      "text/plain": [
       "Nothing"
      ]
     },
     "execution_count": 20,
     "metadata": {
     },
     "output_type": "execute_result"
    }
   ],
   "source": [
    "-- sqrt(sqrt(x) - 3)\n",
    "\n",
    "eval4 :: Double -> Maybe Double\n",
    "--eval4 x = maybeBind\n",
    "--              (mSqrt x)\n",
    "--              (\\a -> mSqrt (a - 3))\n",
    "--\n",
    "--eval4 x = (mSqrt x) >>= (\\a ->\n",
    "--               mSqrt (a - 3)\n",
    "--          )\n",
    "eval4 x = do\n",
    "           a <- mSqrt x\n",
    "           mSqrt (a - 3) -- сразу возвращает Maybe\n",
    "\n",
    "--eval4 x = do                  -- эквивалентно\n",
    "--           a <- mSqrt x\n",
    "--           b <- mSqrt (a - 3)\n",
    "--           return b\n",
    "\n",
    "eval4 100\n",
    "eval4 (-100)\n",
    "eval4 3"
   ]
  },
  {
   "cell_type": "markdown",
   "metadata": {
    "collapsed": false
   },
   "source": [
    "Комплексное число `1 :+ 2` это $1 + 2i$."
   ]
  },
  {
   "cell_type": "code",
   "execution_count": 21,
   "metadata": {
    "collapsed": false
   },
   "outputs": [
    {
     "data": {
      "text/plain": [
       "[2.0 :+ 0.0,(-2.0) :+ (-0.0)]"
      ]
     },
     "execution_count": 21,
     "metadata": {
     },
     "output_type": "execute_result"
    }
   ],
   "source": [
    "import Data.Complex\n",
    "lSqrt :: Complex Double -> [Complex Double]\n",
    "lSqrt x = [sqrt x, -sqrt x]\n",
    "\n",
    "lSqrt (4 :+ 0)"
   ]
  },
  {
   "cell_type": "code",
   "execution_count": 22,
   "metadata": {
    "collapsed": false
   },
   "outputs": [
    {
     "data": {
      "text/plain": [
       "[15.0 :+ 0.0,(-5.0) :+ 0.0,7.0 :+ 0.0,(-13.0) :+ 0.0]"
      ]
     },
     "execution_count": 22,
     "metadata": {
     },
     "output_type": "execute_result"
    }
   ],
   "source": [
    "-- sqrt(x) + sqrt(y) + 1\n",
    "eval5 :: Complex Double -> Complex Double -> [Complex Double]\n",
    "eval5 x y = do\n",
    "             a <- lSqrt x\n",
    "             b <- lSqrt y\n",
    "             return (a + b + 1)\n",
    "\n",
    "eval5 16 100"
   ]
  },
  {
   "cell_type": "markdown",
   "metadata": {
    "collapsed": false
   },
   "source": [
    "Монада в хаскеле:\n",
    "```\n",
    "class Applicative m => Monad m where\n",
    "  (>>=) :: m a -> (a -> m b) -> m b\n",
    "  return :: a -> m a  -- превращает обычное значение в значение в монаде\n",
    "  (>>) :: m a -> m b -> mb\n",
    "  (>>) x y = x >>= (\\_ -> y)\n",
    "```"
   ]
  },
  {
   "cell_type": "markdown",
   "metadata": {
    "collapsed": false
   },
   "source": [
    "Пример монады. Вычисления с журналированием действий."
   ]
  },
  {
   "cell_type": "code",
   "execution_count": 23,
   "metadata": {
    "collapsed": false
   },
   "outputs": [
   ],
   "source": [
    "data Log a = Log a [String] -- храним значение и список сообщений"
   ]
  },
  {
   "cell_type": "markdown",
   "metadata": {
    "collapsed": false
   },
   "source": [
    "Будем пользоваться функциями, которые при вычислениях могут выдать несколько сообщений:"
   ]
  },
  {
   "cell_type": "code",
   "execution_count": 24,
   "metadata": {
    "collapsed": false
   },
   "outputs": [
   ],
   "source": [
    "add1 :: Int -> Log Int\n",
    "add1 x = Log (x + 1) [\"я добавила один\"]\n",
    "\n",
    "mul2 :: Int -> Log Int\n",
    "mul2 x = Log (2 * x) [\"Я умножила на 2\", \"было тяжело\"]"
   ]
  },
  {
   "cell_type": "markdown",
   "metadata": {
    "collapsed": false
   },
   "source": [
    "Скажем, что `Log` это монада и объясним, как комбинировать вычисления."
   ]
  },
  {
   "cell_type": "code",
   "execution_count": 25,
   "metadata": {
    "collapsed": false
   },
   "outputs": [
    {
     "data": {
      "text/html": [
       "<style>/* Styles used for the Hoogle display in the pager */\n",
       ".hoogle-doc {\n",
       "display: block;\n",
       "padding-bottom: 1.3em;\n",
       "padding-left: 0.4em;\n",
       "}\n",
       ".hoogle-code {\n",
       "display: block;\n",
       "font-family: monospace;\n",
       "white-space: pre;\n",
       "}\n",
       ".hoogle-text {\n",
       "display: block;\n",
       "}\n",
       ".hoogle-name {\n",
       "color: green;\n",
       "font-weight: bold;\n",
       "}\n",
       ".hoogle-head {\n",
       "font-weight: bold;\n",
       "}\n",
       ".hoogle-sub {\n",
       "display: block;\n",
       "margin-left: 0.4em;\n",
       "}\n",
       ".hoogle-package {\n",
       "font-weight: bold;\n",
       "font-style: italic;\n",
       "}\n",
       ".hoogle-module {\n",
       "font-weight: bold;\n",
       "}\n",
       ".hoogle-class {\n",
       "font-weight: bold;\n",
       "}\n",
       ".get-type {\n",
       "color: green;\n",
       "font-weight: bold;\n",
       "font-family: monospace;\n",
       "display: block;\n",
       "white-space: pre-wrap;\n",
       "}\n",
       ".show-type {\n",
       "color: green;\n",
       "font-weight: bold;\n",
       "font-family: monospace;\n",
       "margin-left: 1em;\n",
       "}\n",
       ".mono {\n",
       "font-family: monospace;\n",
       "display: block;\n",
       "}\n",
       ".err-msg {\n",
       "color: red;\n",
       "font-style: italic;\n",
       "font-family: monospace;\n",
       "white-space: pre;\n",
       "display: block;\n",
       "}\n",
       "#unshowable {\n",
       "color: red;\n",
       "font-weight: bold;\n",
       "}\n",
       ".err-msg.in.collapse {\n",
       "padding-top: 0.7em;\n",
       "}\n",
       ".highlight-code {\n",
       "white-space: pre;\n",
       "font-family: monospace;\n",
       "}\n",
       ".suggestion-warning { \n",
       "font-weight: bold;\n",
       "color: rgb(200, 130, 0);\n",
       "}\n",
       ".suggestion-error { \n",
       "font-weight: bold;\n",
       "color: red;\n",
       "}\n",
       ".suggestion-name {\n",
       "font-weight: bold;\n",
       "}\n",
       "</style><span class='err-msg'>&lt;interactive&gt;:1:10: error:<br/>    • No instance for (Applicative Log) arising from the superclasses of an instance declaration<br/>    • In the instance declaration for ‘Monad Log’</span>"
      ],
      "text/plain": [
       "<interactive>:1:10: error:\n",
       "    • No instance for (Applicative Log) arising from the superclasses of an instance declaration\n",
       "    • In the instance declaration for ‘Monad Log’"
      ]
     },
     "execution_count": 25,
     "metadata": {
     },
     "output_type": "execute_result"
    }
   ],
   "source": [
    "--instance Functor Log where\n",
    "--  \n",
    "\n",
    "--instance Applicative Log where\n",
    "--  \n",
    "\n",
    "instance Monad Log where\n",
    "  --(>>=) :: Log a -> (a -> Log b) -> Log b\n",
    "  (Log x messages) >>= f = let (Log y newMessages) = f x in\n",
    "                            Log y (messages ++ newMessages)\n",
    "  --return :: a -> Log a\n",
    "  return x = Log x []\n",
    "\n",
    "-- 2 * x + 1 через функции add1 и mul2\n",
    "eval6 :: Int -> Log Int\n",
    "eval6 x = do\n",
    "           a <- mul2 x\n",
    "           add1 a   -- или b <- add1 a; return b\n",
    "\n",
    "eval6 10 -- должен вернуть 21 и журнал [\"умножила на 2\", \"добавила 1\"]"
   ]
  },
  {
   "cell_type": "markdown",
   "metadata": {
    "collapsed": false
   },
   "source": [
    "Напишите свою реализацию"
   ]
  }
 ],
 "metadata": {
  "kernelspec": {
   "display_name": "Haskell",
   "language": "haskell",
   "name": "haskell"
  },
  "language_info": {
   "codemirror_mode": "ihaskell",
   "file_extension": ".hs",
   "name": "haskell",
   "version": "8.4.2"
  }
 },
 "nbformat": 4,
 "nbformat_minor": 0
}