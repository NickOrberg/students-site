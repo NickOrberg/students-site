{
 "cells": [
  {
   "cell_type": "markdown",
   "metadata": {
    "collapsed": false
   },
   "source": [
    "# Функторы\n",
    "\n",
    "Функция `map` была бы логична не только для списков. Как бы она работала для Maybe?"
   ]
  },
  {
   "cell_type": "code",
   "execution_count": 1,
   "metadata": {
    "collapsed": false
   },
   "outputs": [
    {
     "data": {
      "text/plain": [
       "Just 43"
      ]
     },
     "execution_count": 1,
     "metadata": {
     },
     "output_type": "execute_result"
    },
    {
     "data": {
      "text/plain": [
       "Nothing"
      ]
     },
     "execution_count": 1,
     "metadata": {
     },
     "output_type": "execute_result"
    }
   ],
   "source": [
    "f x = x + 1\n",
    "\n",
    "x1 = Just 42\n",
    "x2 = Nothing\n",
    "\n",
    "-- хочу применить f к x1, x2, точнее, к значению внутри\n",
    "-- maybeMap f x1     ->    Just 43\n",
    "-- maybeMap f x2     ->    Nothing\n",
    "\n",
    "maybeMap fun (Just n) = Just (fun n)\n",
    "maybeMap _ Nothing = Nothing\n",
    "\n",
    "print $ maybeMap f x1\n",
    "print $ maybeMap f x2"
   ]
  },
  {
   "cell_type": "markdown",
   "metadata": {
    "collapsed": false
   },
   "source": [
    "Допустим, я хочу уметь так же применять функции ко вторым элементам пары:"
   ]
  },
  {
   "cell_type": "code",
   "execution_count": 2,
   "metadata": {
    "collapsed": false
   },
   "outputs": [
    {
     "data": {
      "text/plain": [
       "(\"hello\",43)"
      ]
     },
     "execution_count": 2,
     "metadata": {
     },
     "output_type": "execute_result"
    },
    {
     "data": {
      "text/plain": [
       "([1,2,3],43.0)"
      ]
     },
     "execution_count": 2,
     "metadata": {
     },
     "output_type": "execute_result"
    }
   ],
   "source": [
    "f x = x + 1\n",
    "x1 = (\"hello\", 42)\n",
    "x2 = ([1, 2, 3], 42.0)\n",
    "\n",
    "-- хочу применить f ко второму элементу пары\n",
    "\n",
    "pairMap fun (x, y) = (x, fun y)\n",
    "\n",
    "print $ pairMap f x1\n",
    "print $ pairMap f x2"
   ]
  },
  {
   "cell_type": "markdown",
   "metadata": {
    "collapsed": false
   },
   "source": [
    "Есть и другие аналогичные ситуации. Когда значение (или значения) хранятся в какой-то структуре с дополнительными данными.\n",
    "Список - несколько значений и информация об их порядке\n",
    "Maybe - одно значение или ноль\n",
    "Пара - значение вместе с дополнительной информацией\n",
    "\n",
    "Функции тоже можно понимать как такие структуры:\n",
    "fun :: a -> b\n",
    "получается, функция хранит значения типа b, доступ к которым осуществляется по аргументу типа a:\n",
    "\n",
    "Например,\n",
    "```\n",
    "f 1 = \"один\"\n",
    "f 2 = \"два\"\n",
    "...\n",
    "```\n",
    "функция \"хранит\" внутри себя значения `\"один\"`, `\"два\"`, получить их можно, подставив соответствующий аргумент в функцию."
   ]
  },
  {
   "cell_type": "code",
   "execution_count": 3,
   "metadata": {
    "collapsed": false
   },
   "outputs": [
    {
     "data": {
      "text/plain": [
       "85"
      ]
     },
     "execution_count": 3,
     "metadata": {
     },
     "output_type": "execute_result"
    },
    {
     "data": {
      "text/plain": [
       "127"
      ]
     },
     "execution_count": 3,
     "metadata": {
     },
     "output_type": "execute_result"
    }
   ],
   "source": [
    "f x = x + 1\n",
    "x1 = \\x -> 2 * x\n",
    "x2 = \\x -> 3 * x\n",
    "\n",
    "-- funMap f x1 - должна получиться функция, которая совпадает с x1, но после применения x1 дополнительно вызывает f\n",
    "\n",
    "funMap fun x = \\t -> fun (x t)\n",
    "\n",
    "xx1 = funMap f x1\n",
    "xx2 = funMap f x2\n",
    "print $ xx1 42\n",
    "print $ xx2 42"
   ]
  },
  {
   "cell_type": "markdown",
   "metadata": {
    "collapsed": false
   },
   "source": [
    "На самом деле все эти map функции уже есть. Они называются fmap или <$>, и они делают ровно то же, что делаем мы:"
   ]
  },
  {
   "cell_type": "code",
   "execution_count": 4,
   "metadata": {
    "collapsed": false
   },
   "outputs": [
    {
     "data": {
      "text/plain": [
       "Just 43"
      ]
     },
     "execution_count": 4,
     "metadata": {
     },
     "output_type": "execute_result"
    },
    {
     "data": {
      "text/plain": [
       "Just 43"
      ]
     },
     "execution_count": 4,
     "metadata": {
     },
     "output_type": "execute_result"
    },
    {
     "data": {
      "text/plain": [
       "[11,21,31]"
      ]
     },
     "execution_count": 4,
     "metadata": {
     },
     "output_type": "execute_result"
    },
    {
     "data": {
      "text/plain": [
       "(\"abc\",124)"
      ]
     },
     "execution_count": 4,
     "metadata": {
     },
     "output_type": "execute_result"
    }
   ],
   "source": [
    "print $ fmap (+1) (Just 42)\n",
    "print $ (+1) <$> Just 42\n",
    "\n",
    "print $ (+1) <$> [10, 20, 30]\n",
    "print $ (+1) <$> (\"abc\", 123)"
   ]
  },
  {
   "cell_type": "markdown",
   "metadata": {
    "collapsed": false
   },
   "source": [
    "Это работает, потому что в Haskell есть класс типов Functor - функтор. Он определен так:"
   ]
  },
  {
   "cell_type": "code",
   "execution_count": 5,
   "metadata": {
    "collapsed": false
   },
   "outputs": [
   ],
   "source": [
    "class Functor' f where\n",
    "  fmap' :: (a -> b) -> f a -> f b"
   ]
  },
  {
   "cell_type": "markdown",
   "metadata": {
    "collapsed": false
   },
   "source": [
    "У него есть реализации, например, примерно так выглядит реализация для Maybe:"
   ]
  },
  {
   "cell_type": "code",
   "execution_count": 0,
   "metadata": {
    "collapsed": false
   },
   "outputs": [
   ],
   "source": [
    "instance Functor Maybe where\n",
    "  fmap f (Just x) = Just (f x)\n",
    "  fmap _ Nothing = Nothing"
   ]
  },
  {
   "cell_type": "markdown",
   "metadata": {
    "collapsed": false
   },
   "source": [
    "Если вы определяете как функтор, вы должны гарантировать выполнение следующего правила. Функция `id` - это функция, которая ничего не делает: `id x = x`, ее тип `a -> a`.\n",
    "\n",
    "**Правила**:\n",
    "1. `fmap id x == x` (или эквивалентно) `fmap id == id`\n",
    "1. `fmap (g . f) == fmap g . fmap f`\n",
    "\n",
    "## Аппликативные функторы\n",
    "\n",
    "Расширение обычных функторов дополнительными операциями. Представьте опять же Maybe.\n",
    "Было в функторах:\n",
    "1. Обычная функция\n",
    "2. Данные внутри структуры\n",
    "3. Применяем функцию к каждому данному внутри структуры\n",
    "\n",
    "Теперь в аппликативных функторах можно дополнительно\n",
    "1. Обычные функции внутри структуры\n",
    "2. Данные внутри структуры\n",
    "3. Применяем функции из структуры к данным. Как именно применять - очень сильно зависит от ситуации.\n",
    "\n",
    "Пример с Maybe:"
   ]
  },
  {
   "cell_type": "code",
   "execution_count": 8,
   "metadata": {
    "collapsed": false
   },
   "outputs": [
    {
     "data": {
      "text/plain": [
       "Just 43"
      ]
     },
     "execution_count": 8,
     "metadata": {
     },
     "output_type": "execute_result"
    },
    {
     "data": {
      "text/plain": [
       "Nothing"
      ]
     },
     "execution_count": 8,
     "metadata": {
     },
     "output_type": "execute_result"
    },
    {
     "data": {
      "text/plain": [
       "Nothing"
      ]
     },
     "execution_count": 8,
     "metadata": {
     },
     "output_type": "execute_result"
    }
   ],
   "source": [
    "f = Just (+1) -- увеличение на 1, но внутри Maybe\n",
    "x = Just 42 -- значение внутри Maybe\n",
    "\n",
    "-- применение:\n",
    "maybeApply (Just fun) (Just x) = Just (fun x)\n",
    "maybeApply _ _ = Nothing\n",
    "\n",
    "print $ maybeApply f x\n",
    "print $ maybeApply Nothing x\n",
    "print $ maybeApply (Just (*2)) Nothing\n"
   ]
  },
  {
   "cell_type": "markdown",
   "metadata": {
    "collapsed": false
   },
   "source": [
    "А для списков?"
   ]
  },
  {
   "cell_type": "code",
   "execution_count": 10,
   "metadata": {
    "collapsed": false
   },
   "outputs": [
    {
     "data": {
      "text/plain": [
       "[11,21,31,20,40,60]"
      ]
     },
     "execution_count": 10,
     "metadata": {
     },
     "output_type": "execute_result"
    }
   ],
   "source": [
    "f = [(+1), (*2)]\n",
    "x = [10, 20, 30]\n",
    "\n",
    "-- что может означать listApply, когда есть список функций и список значений?\n",
    "-- Применить каждую функцию к каждому элементу, получить список новых значений.\n",
    "\n",
    "listApply fs xs = concatMap (\\f -> map f xs) fs\n",
    "\n",
    "print $ listApply f x"
   ]
  },
  {
   "cell_type": "markdown",
   "metadata": {
    "collapsed": false
   },
   "source": [
    "Немного философии, почему для списков это логично делать именно так. Можно считать, что Maybe - это вычисления, в которых иногда отсутствуют результаты. А в списках можно считать, что мы делаем вычисления, в которых может быть несколько результатов."
   ]
  },
  {
   "cell_type": "markdown",
   "metadata": {
    "collapsed": false
   },
   "source": [
    "В Haskell есть класс типов Аппликативные функторы:"
   ]
  },
  {
   "cell_type": "code",
   "execution_count": 0,
   "metadata": {
    "collapsed": false
   },
   "outputs": [
   ],
   "source": [
    "class Functor' f => Applicative' f where\n",
    "    pure :: a -> f a -- вставить значение в функтор\n",
    "    (<*>) :: f (a -> b) -> f a -> f b -- та самая функция применения, рассмотренная выше\n",
    "    -- и еще несколько, см. дальше"
   ]
  },
  {
   "cell_type": "markdown",
   "metadata": {
    "collapsed": false
   },
   "source": [
    "`pure` - это функция, которая помещает значение внутрь функтора, \"самым естественным способом\". Что это значит будет понятно из требований к аппликативному функтору, см. дальше.\n",
    "\n",
    "Для Maybe: `pure x = Just x`, для списка `pure x = [x]`"
   ]
  },
  {
   "cell_type": "markdown",
   "metadata": {
    "collapsed": false
   },
   "source": [
    "Допустим, хотим сложить значения в двух Maybe. Или в двух списках сложить попарно значения. Как это будет написано?"
   ]
  },
  {
   "cell_type": "code",
   "execution_count": 11,
   "metadata": {
    "collapsed": false
   },
   "outputs": [
   ],
   "source": [
    "x1 = Just 110\n",
    "x2 = Just 654\n",
    "\n",
    "-- надо сложить. Сначала давайте получим Just (+110), потом применим ее к Just 654:\n",
    "\n",
    "(+) 110"
   ]
  }
 ],
 "metadata": {
  "kernelspec": {
   "display_name": "Haskell",
   "language": "haskell",
   "name": "haskell"
  },
  "language_info": {
   "codemirror_mode": "ihaskell",
   "file_extension": ".hs",
   "name": "haskell",
   "version": "8.4.2"
  }
 },
 "nbformat": 4,
 "nbformat_minor": 0
}