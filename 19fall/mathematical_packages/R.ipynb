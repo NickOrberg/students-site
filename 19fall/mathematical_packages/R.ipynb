{
 "cells": [
  {
   "cell_type": "code",
   "execution_count": 3,
   "metadata": {
    "collapsed": false
   },
   "outputs": [
   ],
   "source": [
    "l <- list(1, c(2, 3), \"abc\", list(1, 2), s1=\"abc\", s2=\"xyz\")"
   ]
  },
  {
   "cell_type": "code",
   "execution_count": 4,
   "metadata": {
    "collapsed": false
   },
   "outputs": [
    {
     "data": {
      "text/html": [
       "<dl>\n",
       "\t<dt>[[1]]</dt>\n",
       "\t\t<dd>1</dd>\n",
       "\t<dt>[[2]]</dt>\n",
       "\t\t<dd><ol class=list-inline>\n",
       "\t<li>2</li>\n",
       "\t<li>3</li>\n",
       "</ol>\n",
       "</dd>\n",
       "\t<dt>[[3]]</dt>\n",
       "\t\t<dd>'abc'</dd>\n",
       "\t<dt>[[4]]</dt>\n",
       "\t\t<dd><ol>\n",
       "\t<li>1</li>\n",
       "\t<li>2</li>\n",
       "</ol>\n",
       "</dd>\n",
       "\t<dt>$s1</dt>\n",
       "\t\t<dd>'abc'</dd>\n",
       "\t<dt>$s2</dt>\n",
       "\t\t<dd>'xyz'</dd>\n",
       "</dl>\n"
      ],
      "text/latex": [
       "\\begin{description}\n",
       "\\item[{[[1]]}] 1\n",
       "\\item[{[[2]]}] \\begin{enumerate*}\n",
       "\\item 2\n",
       "\\item 3\n",
       "\\end{enumerate*}\n",
       "\n",
       "\\item[{[[3]]}] 'abc'\n",
       "\\item[{[[4]]}] \\begin{enumerate}\n",
       "\\item 1\n",
       "\\item 2\n",
       "\\end{enumerate}\n",
       "\n",
       "\\item[\\$s1] 'abc'\n",
       "\\item[\\$s2] 'xyz'\n",
       "\\end{description}\n"
      ],
      "text/markdown": [
       "[[1]]\n",
       ":   1\n",
       "[[2]]\n",
       ":   1. 2\n",
       "2. 3\n",
       "\n",
       "\n",
       "\n",
       "[[3]]\n",
       ":   'abc'\n",
       "[[4]]\n",
       ":   1. 1\n",
       "2. 2\n",
       "\n",
       "\n",
       "\n",
       "$s1\n",
       ":   'abc'\n",
       "$s2\n",
       ":   'xyz'\n",
       "\n",
       "\n"
      ],
      "text/plain": [
       "[[1]]\n",
       "[1] 1\n",
       "\n",
       "[[2]]\n",
       "[1] 2 3\n",
       "\n",
       "[[3]]\n",
       "[1] \"abc\"\n",
       "\n",
       "[[4]]\n",
       "[[4]][[1]]\n",
       "[1] 1\n",
       "\n",
       "[[4]][[2]]\n",
       "[1] 2\n",
       "\n",
       "\n",
       "$s1\n",
       "[1] \"abc\"\n",
       "\n",
       "$s2\n",
       "[1] \"xyz\"\n"
      ]
     },
     "execution_count": 4,
     "metadata": {
     },
     "output_type": "execute_result"
    }
   ],
   "source": [
    "l"
   ]
  },
  {
   "cell_type": "code",
   "execution_count": 6,
   "metadata": {
    "collapsed": false
   },
   "outputs": [
    {
     "name": "stdout",
     "output_type": "stream",
     "text": [
      "[1] 1\n"
     ]
    },
    {
     "name": "stdout",
     "output_type": "stream",
     "text": [
      "[1] \"abc\"\n"
     ]
    },
    {
     "name": "stdout",
     "output_type": "stream",
     "text": [
      "[1] \"abc\"\n"
     ]
    }
   ],
   "source": [
    "print(l[[1]])\n",
    "print(l[[\"s1\"]])\n",
    "# the same as previous\n",
    "print(l$s1)"
   ]
  },
  {
   "cell_type": "markdown",
   "metadata": {
    "collapsed": false
   },
   "source": [
    "Compare `[]` and `[[]]`"
   ]
  },
  {
   "cell_type": "code",
   "execution_count": 10,
   "metadata": {
    "collapsed": false
   },
   "outputs": [
    {
     "name": "stdout",
     "output_type": "stream",
     "text": [
      "[1] 1\n"
     ]
    },
    {
     "name": "stdout",
     "output_type": "stream",
     "text": [
      "[1] \"----------\"\n"
     ]
    },
    {
     "name": "stdout",
     "output_type": "stream",
     "text": [
      "[[1]]\n",
      "[1] 1\n",
      "\n"
     ]
    },
    {
     "name": "stdout",
     "output_type": "stream",
     "text": [
      "[1] \"----------\"\n"
     ]
    },
    {
     "name": "stdout",
     "output_type": "stream",
     "text": [
      "[[1]]\n",
      "[1] 1\n",
      "\n",
      "[[2]]\n",
      "[1] 2 3\n",
      "\n",
      "[[3]]\n",
      "[1] \"abc\"\n",
      "\n"
     ]
    }
   ],
   "source": [
    "print(l[[1]])\n",
    "print(\"----------\")\n",
    "print(l[1])\n",
    "print(\"----------\")\n",
    "print(l[c(1, 2, 3)])"
   ]
  },
  {
   "cell_type": "markdown",
   "metadata": {
    "collapsed": false
   },
   "source": [
    "# Data frames\n",
    "Let's create a table with data about 3 students. Each student will have information about their name, age, gender."
   ]
  },
  {
   "cell_type": "code",
   "execution_count": 20,
   "metadata": {
    "collapsed": false
   },
   "outputs": [
   ],
   "source": [
    "name <- c(\"John\", \"Jane\", \"June\")\n",
    "age <- c(14, 15, 16)\n",
    "gender <- factor(c(\"Male\", \"Female\", \"Female\"))\n",
    "students = data.frame(name, age, gender, stringsAsFactors=F)"
   ]
  },
  {
   "cell_type": "code",
   "execution_count": 21,
   "metadata": {
    "collapsed": false
   },
   "outputs": [
    {
     "data": {
      "text/html": [
       "<table>\n",
       "<caption>A data.frame: 3 × 3</caption>\n",
       "<thead>\n",
       "\t<tr><th scope=col>name</th><th scope=col>age</th><th scope=col>gender</th></tr>\n",
       "\t<tr><th scope=col>&lt;chr&gt;</th><th scope=col>&lt;dbl&gt;</th><th scope=col>&lt;fct&gt;</th></tr>\n",
       "</thead>\n",
       "<tbody>\n",
       "\t<tr><td>John</td><td>14</td><td>Male  </td></tr>\n",
       "\t<tr><td>Jane</td><td>15</td><td>Female</td></tr>\n",
       "\t<tr><td>June</td><td>16</td><td>Female</td></tr>\n",
       "</tbody>\n",
       "</table>\n"
      ],
      "text/latex": [
       "A data.frame: 3 × 3\n",
       "\\begin{tabular}{r|lll}\n",
       " name & age & gender\\\\\n",
       " <chr> & <dbl> & <fct>\\\\\n",
       "\\hline\n",
       "\t John & 14 & Male  \\\\\n",
       "\t Jane & 15 & Female\\\\\n",
       "\t June & 16 & Female\\\\\n",
       "\\end{tabular}\n"
      ],
      "text/markdown": [
       "\n",
       "A data.frame: 3 × 3\n",
       "\n",
       "| name &lt;chr&gt; | age &lt;dbl&gt; | gender &lt;fct&gt; |\n",
       "|---|---|---|\n",
       "| John | 14 | Male   |\n",
       "| Jane | 15 | Female |\n",
       "| June | 16 | Female |\n",
       "\n"
      ],
      "text/plain": [
       "  name age gender\n",
       "1 John 14  Male  \n",
       "2 Jane 15  Female\n",
       "3 June 16  Female"
      ]
     },
     "execution_count": 21,
     "metadata": {
     },
     "output_type": "execute_result"
    }
   ],
   "source": [
    "students"
   ]
  },
  {
   "cell_type": "markdown",
   "metadata": {
    "collapsed": false
   },
   "source": [
    "A data frame is a list consisting of columns. Each column has a name."
   ]
  },
  {
   "cell_type": "code",
   "execution_count": 24,
   "metadata": {
    "collapsed": false
   },
   "outputs": [
    {
     "name": "stdout",
     "output_type": "stream",
     "text": [
      "[1] \"John\" \"Jane\" \"June\"\n"
     ]
    },
    {
     "name": "stdout",
     "output_type": "stream",
     "text": [
      "[1] Male   Female Female\n",
      "Levels: Female Male\n"
     ]
    },
    {
     "name": "stdout",
     "output_type": "stream",
     "text": [
      "[1] 14 15 16\n"
     ]
    }
   ],
   "source": [
    "print(students$name)\n",
    "print(students$gender)\n",
    "print(students$age)"
   ]
  },
  {
   "cell_type": "markdown",
   "metadata": {
    "collapsed": false
   },
   "source": [
    "Select several columns:"
   ]
  },
  {
   "cell_type": "code",
   "execution_count": 28,
   "metadata": {
    "collapsed": false
   },
   "outputs": [
    {
     "data": {
      "text/html": [
       "<table>\n",
       "<caption>A data.frame: 3 × 2</caption>\n",
       "<thead>\n",
       "\t<tr><th scope=col>name</th><th scope=col>age</th></tr>\n",
       "\t<tr><th scope=col>&lt;chr&gt;</th><th scope=col>&lt;dbl&gt;</th></tr>\n",
       "</thead>\n",
       "<tbody>\n",
       "\t<tr><td>John</td><td>14</td></tr>\n",
       "\t<tr><td>Jane</td><td>15</td></tr>\n",
       "\t<tr><td>June</td><td>16</td></tr>\n",
       "</tbody>\n",
       "</table>\n"
      ],
      "text/latex": [
       "A data.frame: 3 × 2\n",
       "\\begin{tabular}{r|ll}\n",
       " name & age\\\\\n",
       " <chr> & <dbl>\\\\\n",
       "\\hline\n",
       "\t John & 14\\\\\n",
       "\t Jane & 15\\\\\n",
       "\t June & 16\\\\\n",
       "\\end{tabular}\n"
      ],
      "text/markdown": [
       "\n",
       "A data.frame: 3 × 2\n",
       "\n",
       "| name &lt;chr&gt; | age &lt;dbl&gt; |\n",
       "|---|---|\n",
       "| John | 14 |\n",
       "| Jane | 15 |\n",
       "| June | 16 |\n",
       "\n"
      ],
      "text/plain": [
       "  name age\n",
       "1 John 14 \n",
       "2 Jane 15 \n",
       "3 June 16 "
      ]
     },
     "execution_count": 28,
     "metadata": {
     },
     "output_type": "execute_result"
    }
   ],
   "source": [
    "students[c(\"name\", \"age\")]  # as in lists, just take two elements"
   ]
  },
  {
   "cell_type": "markdown",
   "metadata": {
    "collapsed": false
   },
   "source": [
    "Data frames have two dimentional indexing, when we specify rows and columns:"
   ]
  },
  {
   "cell_type": "code",
   "execution_count": 30,
   "metadata": {
    "collapsed": false
   },
   "outputs": [
    {
     "data": {
      "text/html": [
       "'John'"
      ],
      "text/latex": [
       "'John'"
      ],
      "text/markdown": [
       "'John'"
      ],
      "text/plain": [
       "[1] \"John\""
      ]
     },
     "execution_count": 30,
     "metadata": {
     },
     "output_type": "execute_result"
    }
   ],
   "source": [
    "students[1, \"name\"]  # 1 row from column \"name\""
   ]
  },
  {
   "cell_type": "code",
   "execution_count": 31,
   "metadata": {
    "collapsed": false
   },
   "outputs": [
    {
     "data": {
      "text/html": [
       "<table>\n",
       "<caption>A data.frame: 1 × 3</caption>\n",
       "<thead>\n",
       "\t<tr><th scope=col>name</th><th scope=col>age</th><th scope=col>gender</th></tr>\n",
       "\t<tr><th scope=col>&lt;chr&gt;</th><th scope=col>&lt;dbl&gt;</th><th scope=col>&lt;fct&gt;</th></tr>\n",
       "</thead>\n",
       "<tbody>\n",
       "\t<tr><td>John</td><td>14</td><td>Male</td></tr>\n",
       "</tbody>\n",
       "</table>\n"
      ],
      "text/latex": [
       "A data.frame: 1 × 3\n",
       "\\begin{tabular}{r|lll}\n",
       " name & age & gender\\\\\n",
       " <chr> & <dbl> & <fct>\\\\\n",
       "\\hline\n",
       "\t John & 14 & Male\\\\\n",
       "\\end{tabular}\n"
      ],
      "text/markdown": [
       "\n",
       "A data.frame: 1 × 3\n",
       "\n",
       "| name &lt;chr&gt; | age &lt;dbl&gt; | gender &lt;fct&gt; |\n",
       "|---|---|---|\n",
       "| John | 14 | Male |\n",
       "\n"
      ],
      "text/plain": [
       "  name age gender\n",
       "1 John 14  Male  "
      ]
     },
     "execution_count": 31,
     "metadata": {
     },
     "output_type": "execute_result"
    }
   ],
   "source": [
    "students[1, ]  # select all columns by writing nothing"
   ]
  },
  {
   "cell_type": "code",
   "execution_count": 33,
   "metadata": {
    "collapsed": false
   },
   "outputs": [
    {
     "name": "stdout",
     "output_type": "stream",
     "text": [
      "[1] 14 15 16\n"
     ]
    },
    {
     "name": "stdout",
     "output_type": "stream",
     "text": [
      "[1] FALSE  TRUE  TRUE\n"
     ]
    }
   ],
   "source": [
    "print(students$age)\n",
    "print(students$age >= 15)"
   ]
  },
  {
   "cell_type": "code",
   "execution_count": 34,
   "metadata": {
    "collapsed": false
   },
   "outputs": [
    {
     "data": {
      "text/html": [
       "<table>\n",
       "<caption>A data.frame: 2 × 3</caption>\n",
       "<thead>\n",
       "\t<tr><th></th><th scope=col>name</th><th scope=col>age</th><th scope=col>gender</th></tr>\n",
       "\t<tr><th></th><th scope=col>&lt;chr&gt;</th><th scope=col>&lt;dbl&gt;</th><th scope=col>&lt;fct&gt;</th></tr>\n",
       "</thead>\n",
       "<tbody>\n",
       "\t<tr><th scope=row>2</th><td>Jane</td><td>15</td><td>Female</td></tr>\n",
       "\t<tr><th scope=row>3</th><td>June</td><td>16</td><td>Female</td></tr>\n",
       "</tbody>\n",
       "</table>\n"
      ],
      "text/latex": [
       "A data.frame: 2 × 3\n",
       "\\begin{tabular}{r|lll}\n",
       "  & name & age & gender\\\\\n",
       "  & <chr> & <dbl> & <fct>\\\\\n",
       "\\hline\n",
       "\t2 & Jane & 15 & Female\\\\\n",
       "\t3 & June & 16 & Female\\\\\n",
       "\\end{tabular}\n"
      ],
      "text/markdown": [
       "\n",
       "A data.frame: 2 × 3\n",
       "\n",
       "| <!--/--> | name &lt;chr&gt; | age &lt;dbl&gt; | gender &lt;fct&gt; |\n",
       "|---|---|---|---|\n",
       "| 2 | Jane | 15 | Female |\n",
       "| 3 | June | 16 | Female |\n",
       "\n"
      ],
      "text/plain": [
       "  name age gender\n",
       "2 Jane 15  Female\n",
       "3 June 16  Female"
      ]
     },
     "execution_count": 34,
     "metadata": {
     },
     "output_type": "execute_result"
    }
   ],
   "source": [
    "students[students$age >= 15, ]  # get rows with age >= 15"
   ]
  },
  {
   "cell_type": "markdown",
   "metadata": {
    "collapsed": false
   },
   "source": [
    "Manipulating columns:"
   ]
  },
  {
   "cell_type": "code",
   "execution_count": 35,
   "metadata": {
    "collapsed": false
   },
   "outputs": [
   ],
   "source": [
    "students$age <- students$age + 1"
   ]
  },
  {
   "cell_type": "code",
   "execution_count": 36,
   "metadata": {
    "collapsed": false
   },
   "outputs": [
    {
     "data": {
      "text/html": [
       "<table>\n",
       "<caption>A data.frame: 3 × 3</caption>\n",
       "<thead>\n",
       "\t<tr><th scope=col>name</th><th scope=col>age</th><th scope=col>gender</th></tr>\n",
       "\t<tr><th scope=col>&lt;chr&gt;</th><th scope=col>&lt;dbl&gt;</th><th scope=col>&lt;fct&gt;</th></tr>\n",
       "</thead>\n",
       "<tbody>\n",
       "\t<tr><td>John</td><td>15</td><td>Male  </td></tr>\n",
       "\t<tr><td>Jane</td><td>16</td><td>Female</td></tr>\n",
       "\t<tr><td>June</td><td>17</td><td>Female</td></tr>\n",
       "</tbody>\n",
       "</table>\n"
      ],
      "text/latex": [
       "A data.frame: 3 × 3\n",
       "\\begin{tabular}{r|lll}\n",
       " name & age & gender\\\\\n",
       " <chr> & <dbl> & <fct>\\\\\n",
       "\\hline\n",
       "\t John & 15 & Male  \\\\\n",
       "\t Jane & 16 & Female\\\\\n",
       "\t June & 17 & Female\\\\\n",
       "\\end{tabular}\n"
      ],
      "text/markdown": [
       "\n",
       "A data.frame: 3 × 3\n",
       "\n",
       "| name &lt;chr&gt; | age &lt;dbl&gt; | gender &lt;fct&gt; |\n",
       "|---|---|---|\n",
       "| John | 15 | Male   |\n",
       "| Jane | 16 | Female |\n",
       "| June | 17 | Female |\n",
       "\n"
      ],
      "text/plain": [
       "  name age gender\n",
       "1 John 15  Male  \n",
       "2 Jane 16  Female\n",
       "3 June 17  Female"
      ]
     },
     "execution_count": 36,
     "metadata": {
     },
     "output_type": "execute_result"
    }
   ],
   "source": [
    "students"
   ]
  },
  {
   "cell_type": "code",
   "execution_count": 37,
   "metadata": {
    "collapsed": false
   },
   "outputs": [
   ],
   "source": [
    "students$marks <- c(5, 4, 5)"
   ]
  },
  {
   "cell_type": "code",
   "execution_count": 38,
   "metadata": {
    "collapsed": false
   },
   "outputs": [
    {
     "data": {
      "text/html": [
       "<table>\n",
       "<caption>A data.frame: 3 × 4</caption>\n",
       "<thead>\n",
       "\t<tr><th scope=col>name</th><th scope=col>age</th><th scope=col>gender</th><th scope=col>marks</th></tr>\n",
       "\t<tr><th scope=col>&lt;chr&gt;</th><th scope=col>&lt;dbl&gt;</th><th scope=col>&lt;fct&gt;</th><th scope=col>&lt;dbl&gt;</th></tr>\n",
       "</thead>\n",
       "<tbody>\n",
       "\t<tr><td>John</td><td>15</td><td>Male  </td><td>5</td></tr>\n",
       "\t<tr><td>Jane</td><td>16</td><td>Female</td><td>4</td></tr>\n",
       "\t<tr><td>June</td><td>17</td><td>Female</td><td>5</td></tr>\n",
       "</tbody>\n",
       "</table>\n"
      ],
      "text/latex": [
       "A data.frame: 3 × 4\n",
       "\\begin{tabular}{r|llll}\n",
       " name & age & gender & marks\\\\\n",
       " <chr> & <dbl> & <fct> & <dbl>\\\\\n",
       "\\hline\n",
       "\t John & 15 & Male   & 5\\\\\n",
       "\t Jane & 16 & Female & 4\\\\\n",
       "\t June & 17 & Female & 5\\\\\n",
       "\\end{tabular}\n"
      ],
      "text/markdown": [
       "\n",
       "A data.frame: 3 × 4\n",
       "\n",
       "| name &lt;chr&gt; | age &lt;dbl&gt; | gender &lt;fct&gt; | marks &lt;dbl&gt; |\n",
       "|---|---|---|---|\n",
       "| John | 15 | Male   | 5 |\n",
       "| Jane | 16 | Female | 4 |\n",
       "| June | 17 | Female | 5 |\n",
       "\n"
      ],
      "text/plain": [
       "  name age gender marks\n",
       "1 John 15  Male   5    \n",
       "2 Jane 16  Female 4    \n",
       "3 June 17  Female 5    "
      ]
     },
     "execution_count": 38,
     "metadata": {
     },
     "output_type": "execute_result"
    }
   ],
   "source": [
    "students"
   ]
  },
  {
   "cell_type": "markdown",
   "metadata": {
    "collapsed": false
   },
   "source": [
    "## Reading data frames\n",
    "\n",
    "R supports many formats with table data. For CSV files there are two functions: `read.table`, `read.csv`."
   ]
  },
  {
   "cell_type": "code",
   "execution_count": 39,
   "metadata": {
    "collapsed": false,
    "scrolled": true
   },
   "outputs": [
    {
     "name": "stderr",
     "output_type": "stream",
     "text": [
      "WARNING: Some output was deleted.\n"
     ]
    }
   ],
   "source": [
    "help(read.csv)"
   ]
  },
  {
   "cell_type": "code",
   "execution_count": 46,
   "metadata": {
    "collapsed": false
   },
   "outputs": [
    {
     "data": {
      "text/html": [
       "<table>\n",
       "<caption>A data.frame: 3 × 3</caption>\n",
       "<thead>\n",
       "\t<tr><th scope=col>name</th><th scope=col>age</th><th scope=col>gender</th></tr>\n",
       "\t<tr><th scope=col>&lt;chr&gt;</th><th scope=col>&lt;int&gt;</th><th scope=col>&lt;fct&gt;</th></tr>\n",
       "</thead>\n",
       "<tbody>\n",
       "\t<tr><td>John</td><td>13</td><td>Male  </td></tr>\n",
       "\t<tr><td>Jane</td><td>14</td><td>Female</td></tr>\n",
       "\t<tr><td>June</td><td>15</td><td>Female</td></tr>\n",
       "</tbody>\n",
       "</table>\n"
      ],
      "text/latex": [
       "A data.frame: 3 × 3\n",
       "\\begin{tabular}{r|lll}\n",
       " name & age & gender\\\\\n",
       " <chr> & <int> & <fct>\\\\\n",
       "\\hline\n",
       "\t John & 13 & Male  \\\\\n",
       "\t Jane & 14 & Female\\\\\n",
       "\t June & 15 & Female\\\\\n",
       "\\end{tabular}\n"
      ],
      "text/markdown": [
       "\n",
       "A data.frame: 3 × 3\n",
       "\n",
       "| name &lt;chr&gt; | age &lt;int&gt; | gender &lt;fct&gt; |\n",
       "|---|---|---|\n",
       "| John | 13 | Male   |\n",
       "| Jane | 14 | Female |\n",
       "| June | 15 | Female |\n",
       "\n"
      ],
      "text/plain": [
       "  name age gender\n",
       "1 John 13  Male  \n",
       "2 Jane 14  Female\n",
       "3 June 15  Female"
      ]
     },
     "execution_count": 46,
     "metadata": {
     },
     "output_type": "execute_result"
    }
   ],
   "source": [
    "students <- read.csv(\"students.csv\", stringsAsFactors=F, sep=',')\n",
    "students$gender <- factor(students$gender)\n",
    "students"
   ]
  },
  {
   "cell_type": "markdown",
   "metadata": {
    "collapsed": false
   },
   "source": [
    "## Plotting"
   ]
  },
  {
   "cell_type": "code",
   "execution_count": 57,
   "metadata": {
    "collapsed": false
   },
   "outputs": [
    {
     "data": {
      "image/png": "[encoded data removed]",
      "text/plain": [
       "plot without title"
      ]
     },
     "execution_count": 57,
     "metadata": {
     },
     "output_type": "execute_result"
    }
   ],
   "source": [
    "x <- seq(-1, 1, length.out=100) # in Octave: linspace(-1, 1, 100)\n",
    "y <- x * x # y = x ^ 2\n",
    "z <- sin(x)\n",
    "\n",
    "plot(x, y, type=\"l\", col=2, x)  # there are many parameters of how to plot, adds new graphics\n",
    "lines(x, z)  # lines function adds graphics to what you have now. lines = plot, but 1) adds graphics 2) lines by default"
   ]
  },
  {
   "cell_type": "code",
   "execution_count": 0,
   "metadata": {
    "collapsed": false
   },
   "outputs": [
   ],
   "source": [
   ]
  }
 ],
 "metadata": {
  "kernelspec": {
   "display_name": "R (R-Project)",
   "language": "r",
   "metadata": {
    "cocalc": {
     "description": "R statistical programming language",
     "priority": 10,
     "url": "https://www.r-project.org/"
    }
   },
   "name": "ir"
  },
  "language_info": {
   "codemirror_mode": "r",
   "file_extension": ".r",
   "mimetype": "text/x-r-source",
   "name": "R",
   "pygments_lexer": "r",
   "version": "3.6.1"
  }
 },
 "nbformat": 4,
 "nbformat_minor": 0
}