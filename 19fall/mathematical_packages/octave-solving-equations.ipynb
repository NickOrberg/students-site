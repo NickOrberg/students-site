{
 "cells": [
  {
   "cell_type": "markdown",
   "metadata": {},
   "source": [
    "# Solving equations\n",
    "## Polynomial equations\n",
    "\n",
    "Solve $2x^3+5x^2-10x-16=0$"
   ]
  },
  {
   "cell_type": "code",
   "execution_count": 1,
   "metadata": {},
   "outputs": [
    {
     "name": "stdout",
     "output_type": "stream",
     "text": [
      "a =\n",
      "\n",
      "    2    5  -10  -16\n",
      "\n",
      "r =\n",
      "\n",
      "   2.0000\n",
      "  -3.2808\n",
      "  -1.2192\n",
      "\n"
     ]
    }
   ],
   "source": [
    "a = [2, 5, -10, -16]\n",
    "r = roots(a)  # find roots of a poly"
   ]
  },
  {
   "cell_type": "code",
   "execution_count": 2,
   "metadata": {},
   "outputs": [
    {
     "data": {
      "image/png": "[encoded data removed]",
      "text/plain": [
       "<IPython.core.display.Image object>"
      ]
     },
     "metadata": {},
     "output_type": "display_data"
    }
   ],
   "source": [
    "x = linspace(-4, 3, 100);\n",
    "y = polyval(a, x);  # evaluates values of a polynomial\n",
    "plot(x, y)"
   ]
  },
  {
   "cell_type": "code",
   "execution_count": 3,
   "metadata": {},
   "outputs": [
    {
     "name": "stdout",
     "output_type": "stream",
     "text": [
      "ans =\n",
      "\n",
      "   2.0000\n",
      "  -3.2808\n",
      "  -1.2192\n",
      "   3.0000\n",
      "\n",
      "ans =\n",
      "\n",
      "    0.00000\n",
      "   -0.00000\n",
      "    0.00000\n",
      "   53.00000\n",
      "\n"
     ]
    }
   ],
   "source": [
    "[r; 3]\n",
    "polyval(a, [r; 3])"
   ]
  },
  {
   "cell_type": "markdown",
   "metadata": {},
   "source": [
    "## Finding a root\n",
    "### How to represent a function\n",
    "Imagine, we want to solve $x + \\sin(x) = 2$.\n",
    "We are going to write `fzero(???)` how to pass a function as a parameter?\n",
    "\n",
    "`fzero` takes a function as an argument, and a diaposone on which it will try to find a root. Signs of the function on two ends of the diaposone must be different."
   ]
  },
  {
   "cell_type": "code",
   "execution_count": 4,
   "metadata": {},
   "outputs": [
    {
     "name": "stdout",
     "output_type": "stream",
     "text": [
      "ans =  1.1061\n"
     ]
    },
    {
     "data": {
      "image/png": "[encoded data removed]",
      "text/plain": [
       "<IPython.core.display.Image object>"
      ]
     },
     "metadata": {},
     "output_type": "display_data"
    }
   ],
   "source": [
    "function y = f(x)\n",
    "   y = x + sin(x) - 2;\n",
    "endfunction\n",
    "\n",
    "fzero(\"f\", [0 5])  # here we ask to find a root between 0 and 5\n",
    "\n",
    "x = linspace(0, 5, 100);\n",
    "plot(x, f(x)) "
   ]
  },
  {
   "cell_type": "markdown",
   "metadata": {},
   "source": [
    "Lambda expression, a short way to express a function:"
   ]
  },
  {
   "cell_type": "code",
   "execution_count": 5,
   "metadata": {},
   "outputs": [
    {
     "name": "stdout",
     "output_type": "stream",
     "text": [
      "ans =  1.1061\n"
     ]
    }
   ],
   "source": [
    "f = @(x) x + sin(x) - 2; # we define a function of x\n",
    "fzero(f, [0 5])"
   ]
  },
  {
   "cell_type": "markdown",
   "metadata": {},
   "source": [
    "## `fsolve` to solve equations of any dimension"
   ]
  },
  {
   "cell_type": "code",
   "execution_count": 6,
   "metadata": {},
   "outputs": [
    {
     "name": "stdout",
     "output_type": "stream",
     "text": [
      "ans =  1.1061\n"
     ]
    }
   ],
   "source": [
    "f = @(x) x + sin(x) - 2; \n",
    "fsolve(f, 3)  # find a root starting from this point"
   ]
  },
  {
   "cell_type": "markdown",
   "metadata": {},
   "source": [
    "we don't need to search for a diapasone.\n",
    "\n",
    "### Another example\n",
    "\n",
    "$x^2 - xy = 1$\n",
    "\n",
    "$x + \\sin(y) = -1$"
   ]
  },
  {
   "cell_type": "code",
   "execution_count": 7,
   "metadata": {},
   "outputs": [
    {
     "name": "stdout",
     "output_type": "stream",
     "text": [
      "ans =\n",
      "\n",
      "  -0.23544\n",
      "   4.01195\n",
      "\n"
     ]
    }
   ],
   "source": [
    "function u = F(v)\n",
    "  # v = [x; y]\n",
    "  x = v(1);\n",
    "  y = v(2);\n",
    "  u = [\n",
    "      x * x - x * y - 1\n",
    "      x + sin(y) + 1\n",
    "  ];\n",
    "endfunction\n",
    "\n",
    "fsolve(\"F\", [-0.2 ; 4])"
   ]
  }
 ],
 "metadata": {
  "kernelspec": {
   "display_name": "Octave",
   "language": "octave",
   "name": "octave"
  },
  "language_info": {
   "file_extension": ".m",
   "help_links": [
    {
     "text": "GNU Octave",
     "url": "https://www.gnu.org/software/octave/support.html"
    },
    {
     "text": "Octave Kernel",
     "url": "https://github.com/Calysto/octave_kernel"
    },
    {
     "text": "MetaKernel Magics",
     "url": "https://metakernel.readthedocs.io/en/latest/source/README.html"
    }
   ],
   "mimetype": "text/x-octave",
   "name": "octave",
   "version": "4.4.1"
  }
 },
 "nbformat": 4,
 "nbformat_minor": 4
}
