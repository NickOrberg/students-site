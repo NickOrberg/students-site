{
 "cells": [
  {
   "cell_type": "markdown",
   "metadata": {},
   "source": [
    "# Создание матриц"
   ]
  },
  {
   "cell_type": "markdown",
   "metadata": {},
   "source": [
    "## Явное указание элементов"
   ]
  },
  {
   "cell_type": "markdown",
   "metadata": {},
   "source": [
    "Используйте квадратные скобки, чтобы собрать матрицу из чисел или других матриц. Чтобы выстроить элементы в строчку, разделите их __пробелом__ или __запятой__, а чтобы выстроить в столбец, разделите их __переводом строки__ или __точкой с запятой__.\n",
    "\n",
    "Все следующие примеры создают одну и ту же матрицу:"
   ]
  },
  {
   "cell_type": "code",
   "execution_count": 1,
   "metadata": {},
   "outputs": [
    {
     "name": "stdout",
     "output_type": "stream",
     "text": [
      "a =\n",
      "\n",
      "   1   2\n",
      "   3   4\n",
      "\n",
      "b =\n",
      "\n",
      "   1   2\n",
      "   3   4\n",
      "\n",
      "c =\n",
      "\n",
      "   1   2\n",
      "   3   4\n",
      "\n"
     ]
    }
   ],
   "source": [
    "a = [1 2; 3 4]\n",
    "b = [1, 2; 3, 4]\n",
    "c = [1, 2\n",
    "     3  4]"
   ]
  },
  {
   "cell_type": "markdown",
   "metadata": {},
   "source": [
    "Дальше примеры строчной и столбцовой матрицы:"
   ]
  },
  {
   "cell_type": "code",
   "execution_count": 2,
   "metadata": {},
   "outputs": [
    {
     "name": "stdout",
     "output_type": "stream",
     "text": [
      "a =\n",
      "\n",
      "    1    2    3    4   10   20\n",
      "\n",
      "b =\n",
      "\n",
      "   10\n",
      "   20\n",
      "   30\n",
      "\n"
     ]
    }
   ],
   "source": [
    "a = [1 2 3 4 10 20]\n",
    "b = [10; 20; 30]"
   ]
  },
  {
   "cell_type": "markdown",
   "metadata": {},
   "source": [
    "Матрицы можно собирать из меньших матриц:"
   ]
  },
  {
   "cell_type": "code",
   "execution_count": 4,
   "metadata": {},
   "outputs": [
    {
     "name": "stdout",
     "output_type": "stream",
     "text": [
      "a =\n",
      "\n",
      "   1   2\n",
      "   3   4\n",
      "\n",
      "b =\n",
      "\n",
      "   0   0\n",
      "\n",
      "c =\n",
      "\n",
      "   1   2\n",
      "   3   4\n",
      "   0   0\n",
      "\n",
      "d =\n",
      "\n",
      "   1   2   1   2\n",
      "   3   4   3   4\n",
      "   0   0   0   0\n",
      "\n",
      "e =\n",
      "\n",
      "   1   2\n",
      "   3   4\n",
      "   5   6\n",
      "\n"
     ]
    }
   ],
   "source": [
    "a = [1 2; 3 4]\n",
    "b = [0 0]\n",
    "c = [a; b] # разместить a над b\n",
    "d = [a a; b b] # разместить a рядом с a, и на следующей строке b рядом с b\n",
    "e = [a; 5 6] # добавить срточку под матрицей a"
   ]
  },
  {
   "cell_type": "markdown",
   "metadata": {},
   "source": [
    "## Оператор диапазона"
   ]
  },
  {
   "cell_type": "markdown",
   "metadata": {},
   "source": [
    "Используйте оператор двоеточие, чтобы создать строчную матрицу, состоящую из последовательных чисел: "
   ]
  },
  {
   "cell_type": "code",
   "execution_count": 5,
   "metadata": {},
   "outputs": [
    {
     "name": "stdout",
     "output_type": "stream",
     "text": [
      "a =\n",
      "\n",
      "    1    2    3    4    5    6    7    8    9   10\n",
      "\n",
      "b =\n",
      "\n",
      "   1   3   5   7   9\n",
      "\n",
      "c =\n",
      "\n",
      "   10    9    8    7    6    5    4    3    2    1\n",
      "\n",
      "d =\n",
      "\n",
      " Columns 1 through 8:\n",
      "\n",
      "    1.0000    1.1000    1.2000    1.3000    1.4000    1.5000    1.6000    1.7000\n",
      "\n",
      " Columns 9 through 11:\n",
      "\n",
      "    1.8000    1.9000    2.0000\n",
      "\n"
     ]
    }
   ],
   "source": [
    "a = 1:10 # числа от 1 до 10\n",
    "b = 1:2:10 # числа от 1 до 10 с шагом 2\n",
    "c = 10:-1:1 # числа от 10 вниз до 1\n",
    "d = 1:0.1:2 # числа от 1 до 2 с шагом 0.1"
   ]
  },
  {
   "cell_type": "markdown",
   "metadata": {},
   "source": [
    "## Функции создания матриц"
   ]
  },
  {
   "cell_type": "markdown",
   "metadata": {},
   "source": [
    "Функция `linspace` похожа на оператор диапазона, но позволяет указать количество чисел в строке вместо шага:"
   ]
  },
  {
   "cell_type": "code",
   "execution_count": 6,
   "metadata": {},
   "outputs": [
    {
     "name": "stdout",
     "output_type": "stream",
     "text": [
      "a =\n",
      "\n",
      " Columns 1 through 8:\n",
      "\n",
      "   1.0000   1.0500   1.1000   1.1500   1.2000   1.2500   1.3000   1.3500\n",
      "\n",
      " Columns 9 through 16:\n",
      "\n",
      "   1.4000   1.4500   1.5000   1.5500   1.6000   1.6500   1.7000   1.7500\n",
      "\n",
      " Columns 17 through 21:\n",
      "\n",
      "   1.8000   1.8500   1.9000   1.9500   2.0000\n",
      "\n",
      "b =\n",
      "\n",
      " Columns 1 through 8:\n",
      "\n",
      "    1.0000    1.0500    1.1000    1.1500    1.2000    1.2500    1.3000    1.3500\n",
      "\n",
      " Columns 9 through 16:\n",
      "\n",
      "    1.4000    1.4500    1.5000    1.5500    1.6000    1.6500    1.7000    1.7500\n",
      "\n",
      " Columns 17 through 21:\n",
      "\n",
      "    1.8000    1.8500    1.9000    1.9500    2.0000\n",
      "\n"
     ]
    }
   ],
   "source": [
    "a = linspace(1, 2, 21) # Создает матрицу-строку из равномерно распределенных\n",
    "                       # чисел в диапазоне от 1 до 2 таким образом,\n",
    "                       # чтобы получилось ровно 21 число.\n",
    "b = 1:1/20:2 # Такой же результат, но с помощью оператора диапазона"
   ]
  },
  {
   "cell_type": "code",
   "execution_count": 8,
   "metadata": {},
   "outputs": [
    {
     "name": "stdout",
     "output_type": "stream",
     "text": [
      "a =\n",
      "\n",
      "   0   0   0\n",
      "   0   0   0\n",
      "\n",
      "b =\n",
      "\n",
      "   1   1\n",
      "   1   1\n",
      "   1   1\n",
      "\n",
      "c =\n",
      "\n",
      "Diagonal Matrix\n",
      "\n",
      "   1   0   0   0   0   0\n",
      "   0   1   0   0   0   0\n",
      "   0   0   1   0   0   0\n",
      "   0   0   0   1   0   0\n",
      "\n",
      "d =\n",
      "\n",
      "   0   0   0\n",
      "   0   0   0\n",
      "   0   0   0\n",
      "\n"
     ]
    }
   ],
   "source": [
    "a = zeros(2, 3) # матрица из нулей, размером 2x3\n",
    "b = ones(3, 2) # матрица из единиц, размером 2x3\n",
    "c = eye(4, 6) # матрица из нулей, но с единицами на главной диагонали\n",
    "d = zeros(3) # Если в любую из приведенных функций подставить один аргумент,\n",
    "             # получится квадратная матрица указанного размера"
   ]
  },
  {
   "cell_type": "code",
   "execution_count": null,
   "metadata": {},
   "outputs": [],
   "source": []
  }
 ],
 "metadata": {
  "kernelspec": {
   "display_name": "Octave",
   "language": "octave",
   "name": "octave"
  },
  "language_info": {
   "file_extension": ".m",
   "help_links": [
    {
     "text": "GNU Octave",
     "url": "https://www.gnu.org/software/octave/support.html"
    },
    {
     "text": "Octave Kernel",
     "url": "https://github.com/Calysto/octave_kernel"
    },
    {
     "text": "MetaKernel Magics",
     "url": "https://metakernel.readthedocs.io/en/latest/source/README.html"
    }
   ],
   "mimetype": "text/x-octave",
   "name": "octave",
   "version": "4.4.1"
  }
 },
 "nbformat": 4,
 "nbformat_minor": 4
}
