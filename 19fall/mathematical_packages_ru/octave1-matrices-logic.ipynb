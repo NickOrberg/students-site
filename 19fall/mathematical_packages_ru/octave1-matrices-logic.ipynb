{
 "cells": [
  {
   "cell_type": "markdown",
   "metadata": {},
   "source": [
    "## Comparison and Logical operations\n",
    "Consider the operation `==`. It compares values:"
   ]
  },
  {
   "cell_type": "code",
   "execution_count": 25,
   "metadata": {},
   "outputs": [
    {
     "name": "stdout",
     "output_type": "stream",
     "text": [
      "ans = 1\n",
      "ans = 0\n",
      "ans =\n",
      "\n",
      "  1  0  1\n",
      "\n"
     ]
    }
   ],
   "source": [
    "10 == 10\n",
    "20 == 30\n",
    "[10 20 30] == [10 5 30]"
   ]
  },
  {
   "cell_type": "markdown",
   "metadata": {},
   "source": [
    "1 means `true`, that is, the statement about equality is true. And 0 means `false`. You see, that for matrices elements are compared element-by-element. Broadcasting also works here:"
   ]
  },
  {
   "cell_type": "code",
   "execution_count": 26,
   "metadata": {},
   "outputs": [
    {
     "name": "stdout",
     "output_type": "stream",
     "text": [
      "a =\n",
      "\n",
      "   1   2   3\n",
      "   2   3   4\n",
      "   3   4   5\n",
      "\n",
      "a_eq_3 =\n",
      "\n",
      "  0  0  1\n",
      "  0  1  0\n",
      "  1  0  0\n",
      "\n"
     ]
    }
   ],
   "source": [
    "a = [1 2 3; 2 3 4; 3 4 5]\n",
    "a_eq_3 = a == 3"
   ]
  },
  {
   "cell_type": "markdown",
   "metadata": {},
   "source": [
    "There are other comparison operations: `~=`, `>`, `<`, `>=`, `<=`, that mean correspondingly: not equal, greater, less, greater or equal, less or equal:"
   ]
  },
  {
   "cell_type": "code",
   "execution_count": 27,
   "metadata": {},
   "outputs": [
    {
     "name": "stdout",
     "output_type": "stream",
     "text": [
      "a_not_eq_3 =\n",
      "\n",
      "  1  1  0\n",
      "  1  0  1\n",
      "  0  1  1\n",
      "\n",
      "a_gr_3 =\n",
      "\n",
      "  0  0  0\n",
      "  0  0  1\n",
      "  0  1  1\n",
      "\n",
      "a_gr_eq_3 =\n",
      "\n",
      "  0  0  1\n",
      "  0  1  1\n",
      "  1  1  1\n",
      "\n",
      "a_less_3 =\n",
      "\n",
      "  1  1  0\n",
      "  1  0  0\n",
      "  0  0  0\n",
      "\n",
      "a_less_eq_3 =\n",
      "\n",
      "  1  1  1\n",
      "  1  1  0\n",
      "  1  0  0\n",
      "\n"
     ]
    }
   ],
   "source": [
    "a_not_eq_3 = a ~= 3\n",
    "a_gr_3 = a > 3\n",
    "a_gr_eq_3 = a >= 3\n",
    "a_less_3 = a < 3\n",
    "a_less_eq_3 = a <= 3"
   ]
  },
  {
   "cell_type": "markdown",
   "metadata": {},
   "source": [
    "There are logical operations and (`&`), or (`|`), not (`~`). If you write `x & y`, both operands must be true for the result to also be true:"
   ]
  },
  {
   "cell_type": "code",
   "execution_count": 28,
   "metadata": {},
   "outputs": [
    {
     "name": "stdout",
     "output_type": "stream",
     "text": [
      "ans = 0\n",
      "ans = 0\n",
      "ans = 0\n",
      "ans = 1\n"
     ]
    }
   ],
   "source": [
    "0 & 0\n",
    "1 & 0\n",
    "0 & 1\n",
    "1 & 1"
   ]
  },
  {
   "cell_type": "markdown",
   "metadata": {},
   "source": [
    "If you write `x | y`, at least one operand must be true for the result to also be true:"
   ]
  },
  {
   "cell_type": "code",
   "execution_count": 29,
   "metadata": {},
   "outputs": [
    {
     "name": "stdout",
     "output_type": "stream",
     "text": [
      "ans = 0\n",
      "ans = 1\n",
      "ans = 1\n",
      "ans = 1\n"
     ]
    }
   ],
   "source": [
    "0 | 0\n",
    "1 | 0\n",
    "0 | 1\n",
    "1 | 1"
   ]
  },
  {
   "cell_type": "markdown",
   "metadata": {},
   "source": [
    "Not operation inverts its operand:"
   ]
  },
  {
   "cell_type": "code",
   "execution_count": 30,
   "metadata": {},
   "outputs": [
    {
     "name": "stdout",
     "output_type": "stream",
     "text": [
      "ans = 1\n",
      "ans = 0\n"
     ]
    }
   ],
   "source": [
    "~0\n",
    "~1"
   ]
  },
  {
   "cell_type": "markdown",
   "metadata": {},
   "source": [
    "It is usual to combine comparison and logical operations. Note that for matrices boolean operations work element-by-element:"
   ]
  },
  {
   "cell_type": "code",
   "execution_count": 31,
   "metadata": {},
   "outputs": [
    {
     "name": "stdout",
     "output_type": "stream",
     "text": [
      "a =\n",
      "\n",
      "   1   2   3\n",
      "   2   3   4\n",
      "   3   4   5\n",
      "\n",
      "a_from_2_to_4 =\n",
      "\n",
      "  0  1  1\n",
      "  1  1  1\n",
      "  1  1  0\n",
      "\n",
      "a_not_in_2_3 =\n",
      "\n",
      "  1  0  0\n",
      "  0  0  1\n",
      "  0  1  1\n",
      "\n"
     ]
    }
   ],
   "source": [
    "a = [1 2 3; 2 3 4; 3 4 5]\n",
    "a_from_2_to_4 = a >= 2 & a <= 4\n",
    "a_not_in_2_3 = a < 2 | a > 3"
   ]
  },
  {
   "cell_type": "markdown",
   "metadata": {},
   "source": [
    "## More on indexing (logical indexing)\n",
    "Imagine, we want to get all elements of some vector, that are greater than 10. Let's start with finding which elements are greater, and which are not:"
   ]
  },
  {
   "cell_type": "code",
   "execution_count": 32,
   "metadata": {},
   "outputs": [
    {
     "name": "stdout",
     "output_type": "stream",
     "text": [
      "x =\n",
      "\n",
      "    1   10    2   20    3   30   40\n",
      "\n",
      "x_gr_10 =\n",
      "\n",
      "  0  0  0  1  0  1  1\n",
      "\n"
     ]
    }
   ],
   "source": [
    "x = [1 10 2 20 3 30 40]\n",
    "x_gr_10 = x > 10"
   ]
  },
  {
   "cell_type": "markdown",
   "metadata": {},
   "source": [
    "Now we can use a `find` function. This function takes a matrix and find indexes of all nonzero elements: "
   ]
  },
  {
   "cell_type": "code",
   "execution_count": 33,
   "metadata": {},
   "outputs": [
    {
     "name": "stdout",
     "output_type": "stream",
     "text": [
      "ans =\n",
      "\n",
      "   1   4   7\n",
      "\n",
      "ans =\n",
      "\n",
      "   4   6   7\n",
      "\n"
     ]
    }
   ],
   "source": [
    "find([10 0 0 3 0 0 -4]) # just an arbitrary example of searching for non-zero elements\n",
    "find(x_gr_10)"
   ]
  },
  {
   "cell_type": "markdown",
   "metadata": {},
   "source": [
    "The `find` function combines well with logical matrices, because it allows finding indexes of all true values. More examples on this:"
   ]
  },
  {
   "cell_type": "code",
   "execution_count": 34,
   "metadata": {},
   "outputs": [
    {
     "name": "stdout",
     "output_type": "stream",
     "text": [
      "ans =  2\n",
      "ans =\n",
      "\n",
      "   2   3\n",
      "\n"
     ]
    }
   ],
   "source": [
    "find([100 200 300] == 200) # the 2nd element is 200\n",
    "find([100 200 300] >= 200) # the 2nd and the 3rd elements are greater or equal than 200"
   ]
  },
  {
   "cell_type": "markdown",
   "metadata": {},
   "source": [
    "So, now, we can finally get al elements of `x` that are greater than ten"
   ]
  },
  {
   "cell_type": "code",
   "execution_count": 35,
   "metadata": {},
   "outputs": [
    {
     "name": "stdout",
     "output_type": "stream",
     "text": [
      "x =\n",
      "\n",
      "    1   10    2   20    3   30   40\n",
      "\n",
      "x_gr_10 =\n",
      "\n",
      "  0  0  0  1  0  1  1\n",
      "\n",
      "ans =\n",
      "\n",
      "   4   6   7\n",
      "\n",
      "ans =\n",
      "\n",
      "   20   30   40\n",
      "\n"
     ]
    }
   ],
   "source": [
    "x # to remind the value of x\n",
    "x_gr_10 = x > 10\n",
    "find(x_gr_10)\n",
    "x(find(x_gr_10)) # we know indexes of elements, so we can just index by that indexes:"
   ]
  },
  {
   "cell_type": "markdown",
   "metadata": {},
   "source": [
    "Let's now write it as one line and let's also modify elements:"
   ]
  },
  {
   "cell_type": "code",
   "execution_count": 36,
   "metadata": {},
   "outputs": [
    {
     "name": "stdout",
     "output_type": "stream",
     "text": [
      "ans =\n",
      "\n",
      "   20   30   40\n",
      "\n",
      "x =\n",
      "\n",
      "    1   10    2   10    3   10   10\n",
      "\n"
     ]
    }
   ],
   "source": [
    "x(find(x > 10)) # see all elements, that are greater than 10\n",
    "x(find(x > 10)) = 10  # assign 10 to each element"
   ]
  },
  {
   "cell_type": "markdown",
   "metadata": {},
   "source": [
    "More examples of logical operations inside indexing:"
   ]
  },
  {
   "cell_type": "code",
   "execution_count": 37,
   "metadata": {},
   "outputs": [
    {
     "name": "stdout",
     "output_type": "stream",
     "text": [
      "x =\n",
      "\n",
      "    1    2    3    4    5    6    7    8    9   10   11   12   13   14   15   16\n",
      "\n",
      "x_div_3 =\n",
      "\n",
      "    3    6    9   12   15\n",
      "\n",
      "x_from_5_to_10 =\n",
      "\n",
      "    5    6    7    8    9   10\n",
      "\n",
      "a =\n",
      "\n",
      "   10   20   30\n",
      "\n",
      "b =\n",
      "\n",
      "   100   200   300\n",
      "\n",
      "ans =\n",
      "\n",
      "   200   300\n",
      "\n",
      "x =\n",
      "\n",
      "    1    2    4    4    5    7    7    8   10   10   11   13   13   14   16   16\n",
      "\n"
     ]
    }
   ],
   "source": [
    "x = 1:16\n",
    "x_div_3 = x(find(mod(x, 3) == 0)) # filter elements that are divisible by 3\n",
    "x_from_5_to_10 = x(find(5 <= x & x <= 10)) # all elements from 5 to 10\n",
    "\n",
    "# cross matrix indexing\n",
    "a = [10 20 30]\n",
    "b = [100 200 300]\n",
    "# we find elements from a, that are greater than 20, and take corresponding elements from b:\n",
    "b(find(a >= 20))\n",
    "\n",
    "# remember, that you may assign to an indexed matrix\n",
    "# in this case you assign only to indexed elements\n",
    "x(find(mod(x, 3) == 0)) = x_div_3 + 1\n",
    "# so, all elements, that are divisible by 3 increased by 1"
   ]
  },
  {
   "cell_type": "markdown",
   "metadata": {},
   "source": [
    "Let's now repeat the same examples without `find`. The idea is, that when you index by a logical matrix, the find is made automatically (!) "
   ]
  },
  {
   "cell_type": "code",
   "execution_count": 38,
   "metadata": {},
   "outputs": [
    {
     "name": "stdout",
     "output_type": "stream",
     "text": [
      "x_div_3 = [](1x0)\n",
      "x_from_5_to_10 =\n",
      "\n",
      "    5    7    7    8   10   10\n",
      "\n",
      "a =\n",
      "\n",
      "   10   20   30\n",
      "\n",
      "b =\n",
      "\n",
      "   100   200   300\n",
      "\n",
      "ans =\n",
      "\n",
      "   200   300\n",
      "\n",
      "x =\n",
      "\n",
      "    1    2    4    4    5    7    7    8   10   10   11   13   13   14   16   16\n",
      "\n"
     ]
    }
   ],
   "source": [
    "# x = 1:16\n",
    "x_div_3 = x(mod(x, 3) == 0) # the same as x(find(mod(x, 3) == 0))\n",
    "x_from_5_to_10 = x(5 <= x & x <= 10)\n",
    "\n",
    "# cross matrix indexing\n",
    "a = [10 20 30]\n",
    "b = [100 200 300]\n",
    "b(a >= 20)\n",
    "\n",
    "x(mod(x, 3) == 0) = x_div_3 + 1"
   ]
  }
 ],
 "metadata": {
  "kernelspec": {
   "display_name": "Octave",
   "language": "octave",
   "name": "octave"
  },
  "language_info": {
   "file_extension": ".m",
   "help_links": [
    {
     "text": "GNU Octave",
     "url": "https://www.gnu.org/software/octave/support.html"
    },
    {
     "text": "Octave Kernel",
     "url": "https://github.com/Calysto/octave_kernel"
    },
    {
     "text": "MetaKernel Magics",
     "url": "https://metakernel.readthedocs.io/en/latest/source/README.html"
    }
   ],
   "mimetype": "text/x-octave",
   "name": "octave",
   "version": "4.4.1"
  }
 },
 "nbformat": 4,
 "nbformat_minor": 4
}
